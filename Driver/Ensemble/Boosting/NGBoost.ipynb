{
 "cells": [
  {
   "cell_type": "code",
   "execution_count": null,
   "id": "e9d32d85",
   "metadata": {},
   "outputs": [],
   "source": [
    "import numpy as np\n",
    "import matplotlib\n",
    "import pandas as pd\n",
    "from sklearn.model_selection import train_test_split\n",
    "\n",
    "\n",
    "dataset = pd.read_csv('/Users/eddie/OneDrive/Documents/Injury Dataset/2013-2022/2018-2022 Data Cleaned Trainable.csv')\n",
    "\n",
    "X = pd.DataFrame(dataset.iloc[:,:22].values)\n",
    "Y = np.array(pd.DataFrame(dataset.iloc[:,22:].values))\n",
    "# Y = Y.reshape(-1)\n",
    "\n",
    "X_train, X_test, Y_train, Y_test = train_test_split(X, Y, test_size=0.2)\n",
    "from sklearn.preprocessing import MinMaxScaler\n",
    "scaler = MinMaxScaler()\n",
    "X_train = scaler.fit_transform(X_train)\n",
    "X_test = scaler.transform(X_test)\n",
    "\n",
    "print(Y)\n",
    "print(X_train.shape)\n",
    "print(Y_train.shape)"
   ]
  },
  {
   "cell_type": "code",
   "execution_count": null,
   "id": "62063041",
   "metadata": {},
   "outputs": [],
   "source": [
    "features = pd.DataFrame(dataset.iloc[:,:32])\n",
    "features = features.columns\n",
    "print(features)"
   ]
  },
  {
   "cell_type": "code",
   "execution_count": null,
   "id": "2dfac73f",
   "metadata": {},
   "outputs": [],
   "source": [
    "from keras.models import Sequential, Model\n",
    "from tensorflow.keras.layers import LSTM, Dropout, Dense, BatchNormalization, GRU, LayerNormalization, MultiHeadAttention,TimeDistributed, Input, Flatten\n",
    "from sklearn.ensemble import RandomForestRegressor\n",
    "from ngboost import NGBClassifier\n",
    "from ngboost.distns import k_categorical"
   ]
  },
  {
   "cell_type": "code",
   "execution_count": null,
   "id": "1c70b922",
   "metadata": {},
   "outputs": [],
   "source": [
    "print(X_train.shape)"
   ]
  },
  {
   "cell_type": "code",
   "execution_count": null,
   "id": "1942dcc5",
   "metadata": {},
   "outputs": [],
   "source": [
    "model = NGBClassifier(Dist=k_categorical(3))\n",
    "# print(X_train)      \n",
    "model.fit(X_train, Y_train)"
   ]
  },
  {
   "cell_type": "code",
   "execution_count": null,
   "id": "e426b8ee",
   "metadata": {},
   "outputs": [],
   "source": [
    "res = model.predict(X_test)\n",
    "print(res)\n",
    "print(Y_test)\n",
    "from sklearn.metrics import accuracy_score\n",
    "accuracy = accuracy_score(Y_test,res)\n",
    "print(accuracy)\n",
    "from sklearn.metrics import classification_report\n",
    "print(classification_report(Y_test,res,digits=6))"
   ]
  },
  {
   "cell_type": "code",
   "execution_count": null,
   "id": "6b151d56",
   "metadata": {},
   "outputs": [],
   "source": [
    "import shap \n",
    "explainer = shap.Explainer(model.predict,X_test)\n",
    "shap_values = explainer(X_test)\n",
    "shap.summary_plot(shap_values, X_test,feature_names = features,plot_size=(20,15),plot_type=\"bar\",show=False)"
   ]
  },
  {
   "cell_type": "code",
   "execution_count": null,
   "id": "4ac97471",
   "metadata": {},
   "outputs": [],
   "source": [
    "explanation = shap.Explanation(\n",
    "    values=shap_values, \n",
    "    feature_names=features\n",
    ")\n",
    "shap.plots.beeswarm(explanation)"
   ]
  },
  {
   "cell_type": "code",
   "execution_count": null,
   "id": "69cd5e4b",
   "metadata": {},
   "outputs": [],
   "source": [
    "from sklearn.metrics import confusion_matrix\n",
    "from sklearn.metrics import ConfusionMatrixDisplay\n",
    "confusionmatrix = confusion_matrix(Y_test, res)\n",
    "cm_display = ConfusionMatrixDisplay(confusionmatrix)\n",
    "cm_display.plot()"
   ]
  }
 ],
 "metadata": {
  "kernelspec": {
   "display_name": "SSTP-Injury",
   "language": "python",
   "name": "python3"
  },
  "language_info": {
   "codemirror_mode": {
    "name": "ipython",
    "version": 3
   },
   "file_extension": ".py",
   "mimetype": "text/x-python",
   "name": "python",
   "nbconvert_exporter": "python",
   "pygments_lexer": "ipython3",
   "version": "3.9.21"
  }
 },
 "nbformat": 4,
 "nbformat_minor": 5
}
