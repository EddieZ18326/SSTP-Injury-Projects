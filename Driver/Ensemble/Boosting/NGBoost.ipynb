{
 "cells": [
  {
   "cell_type": "code",
   "execution_count": 1,
   "id": "e9d32d85",
   "metadata": {},
   "outputs": [
    {
     "name": "stdout",
     "output_type": "stream",
     "text": [
      "[2 2 1 ... 2 1 2]\n",
      "(35276, 22)\n",
      "(35276,)\n"
     ]
    }
   ],
   "source": [
    "import numpy as np\n",
    "import matplotlib\n",
    "import pandas as pd\n",
    "from sklearn.model_selection import train_test_split\n",
    "\n",
    "\n",
    "dataset = pd.read_csv('/Users/eddie/OneDrive/Documents/Injury Dataset/2013-2022/2018-2022 Data Cleaned Trainable.csv')\n",
    "\n",
    "X = pd.DataFrame(dataset.iloc[:,:22].values)\n",
    "Y = np.array(pd.DataFrame(dataset.iloc[:,22:].values))\n",
    "Y = Y.reshape(-1)\n",
    "\n",
    "X_train, X_test, Y_train, Y_test = train_test_split(X, Y, test_size=0.2, random_state=42)\n",
    "from sklearn.preprocessing import MinMaxScaler\n",
    "scaler = MinMaxScaler()\n",
    "X_train = scaler.fit_transform(X_train)\n",
    "X_test = scaler.transform(X_test)\n",
    "\n",
    "print(Y)\n",
    "print(X_train.shape)\n",
    "print(Y_train.shape)"
   ]
  },
  {
   "cell_type": "code",
   "execution_count": 2,
   "id": "62063041",
   "metadata": {},
   "outputs": [
    {
     "name": "stdout",
     "output_type": "stream",
     "text": [
      "Index(['STATE', 'SEASON', 'DAY', 'HOUR', 'HARM_EV', 'MAN_COLL', 'BODY_TYP',\n",
      "       'AGE', 'GENDER', 'PER_TYP', 'SEAT_POS', 'REST_USE', 'AIR_BAG',\n",
      "       'DRINKING', 'ATST_TYP', 'ALC_RES', 'DRUGS', 'DSTATUS', 'ETHNICITY ',\n",
      "       'RUR_URB', 'FUNC_SYS', 'IMPACT1', 'INJ_SEV'],\n",
      "      dtype='object')\n"
     ]
    }
   ],
   "source": [
    "features = pd.DataFrame(dataset.iloc[:,:32])\n",
    "features = features.columns\n",
    "print(features)"
   ]
  },
  {
   "cell_type": "code",
   "execution_count": 5,
   "id": "2dfac73f",
   "metadata": {},
   "outputs": [
    {
     "name": "stderr",
     "output_type": "stream",
     "text": [
      "c:\\Users\\eddie\\anaconda3\\envs\\SSTP-Injury\\lib\\site-packages\\tqdm\\auto.py:21: TqdmWarning: IProgress not found. Please update jupyter and ipywidgets. See https://ipywidgets.readthedocs.io/en/stable/user_install.html\n",
      "  from .autonotebook import tqdm as notebook_tqdm\n"
     ]
    }
   ],
   "source": [
    "from keras.models import Sequential, Model\n",
    "from tensorflow.keras.layers import LSTM, Dropout, Dense, BatchNormalization, GRU, LayerNormalization, MultiHeadAttention,TimeDistributed, Input, Flatten\n",
    "from sklearn.ensemble import RandomForestRegressor\n",
    "from ngboost import NGBClassifier\n",
    "from sklearn.ensemble import GradientBoostingClassifier\n",
    "from ngboost.distns import k_categorical\n",
    "from lightgbm import LGBMClassifier \n",
    "import optuna\n",
    "import numpy as np\n",
    "from sklearn.datasets import load_iris\n",
    "from sklearn.model_selection import cross_val_score, StratifiedKFold\n",
    "from sklearn.tree import DecisionTreeClassifier\n",
    "from ngboost import NGBClassifier"
   ]
  },
  {
   "cell_type": "code",
   "execution_count": 6,
   "id": "ed18fe48",
   "metadata": {},
   "outputs": [
    {
     "name": "stderr",
     "output_type": "stream",
     "text": [
      "[I 2025-05-30 23:10:47,210] A new study created in RDB with name: ngboost\n"
     ]
    },
    {
     "name": "stdout",
     "output_type": "stream",
     "text": [
      "[iter 0] loss=0.9174 val_loss=0.0000 scale=16.0000 norm=9.2269\n",
      "[iter 100] loss=0.1586 val_loss=0.0000 scale=32.0000 norm=3.2712\n",
      "[iter 200] loss=0.1537 val_loss=0.0000 scale=16.0000 norm=1.5821\n",
      "[iter 300] loss=0.1511 val_loss=0.0000 scale=32.0000 norm=3.1365\n",
      "[iter 400] loss=0.1457 val_loss=0.0000 scale=16.0000 norm=1.5178\n",
      "[iter 500] loss=0.1455 val_loss=0.0000 scale=16.0000 norm=1.5162\n",
      "[iter 600] loss=0.1453 val_loss=0.0000 scale=16.0000 norm=1.5077\n",
      "[iter 700] loss=0.1396 val_loss=0.0000 scale=16.0000 norm=1.4626\n",
      "[iter 800] loss=0.1413 val_loss=0.0000 scale=16.0000 norm=1.4886\n"
     ]
    },
    {
     "name": "stderr",
     "output_type": "stream",
     "text": [
      "[I 2025-05-30 23:11:46,875] Trial 0 finished with value: 0.919378614355369 and parameters: {'n_estimators': 805, 'learning_rate': 0.19519175258215593, 'minibatch_frac': 0.5574891767017713, 'col_sample': 0.7577947784252539}. Best is trial 0 with value: 0.919378614355369.\n"
     ]
    },
    {
     "name": "stdout",
     "output_type": "stream",
     "text": [
      "[iter 0] loss=0.9176 val_loss=0.0000 scale=16.0000 norm=9.2316\n",
      "[iter 100] loss=0.1577 val_loss=0.0000 scale=16.0000 norm=1.6328\n",
      "[iter 200] loss=0.1514 val_loss=0.0000 scale=32.0000 norm=3.1527\n",
      "[iter 300] loss=0.1486 val_loss=0.0000 scale=32.0000 norm=3.1144\n",
      "[iter 400] loss=0.1441 val_loss=0.0000 scale=16.0000 norm=1.5185\n"
     ]
    },
    {
     "name": "stderr",
     "output_type": "stream",
     "text": [
      "[I 2025-05-30 23:12:32,236] Trial 1 finished with value: 0.9194920058963602 and parameters: {'n_estimators': 422, 'learning_rate': 0.16598247348328396, 'minibatch_frac': 0.8575694467346963, 'col_sample': 0.9214286885491261}. Best is trial 1 with value: 0.9194920058963602.\n"
     ]
    },
    {
     "name": "stdout",
     "output_type": "stream",
     "text": [
      "[iter 0] loss=0.9159 val_loss=0.0000 scale=16.0000 norm=9.2239\n",
      "[iter 100] loss=0.1570 val_loss=0.0000 scale=32.0000 norm=3.2501\n",
      "[iter 200] loss=0.1474 val_loss=0.0000 scale=16.0000 norm=1.5344\n",
      "[iter 300] loss=0.1459 val_loss=0.0000 scale=16.0000 norm=1.5188\n"
     ]
    },
    {
     "name": "stderr",
     "output_type": "stream",
     "text": [
      "[I 2025-05-30 23:13:04,623] Trial 2 finished with value: 0.9203991382242884 and parameters: {'n_estimators': 335, 'learning_rate': 0.2781239689661446, 'minibatch_frac': 0.7556407127791287, 'col_sample': 0.7766078496363689}. Best is trial 2 with value: 0.9203991382242884.\n"
     ]
    },
    {
     "name": "stdout",
     "output_type": "stream",
     "text": [
      "[iter 0] loss=0.9151 val_loss=0.0000 scale=16.0000 norm=9.2164\n",
      "[iter 100] loss=0.1580 val_loss=0.0000 scale=16.0000 norm=1.6368\n",
      "[iter 200] loss=0.1533 val_loss=0.0000 scale=16.0000 norm=1.5832\n",
      "[iter 300] loss=0.1498 val_loss=0.0000 scale=16.0000 norm=1.5561\n",
      "[iter 400] loss=0.1465 val_loss=0.0000 scale=16.0000 norm=1.5346\n"
     ]
    },
    {
     "name": "stderr",
     "output_type": "stream",
     "text": [
      "[I 2025-05-30 23:13:51,491] Trial 3 finished with value: 0.9168840004535662 and parameters: {'n_estimators': 494, 'learning_rate': 0.24233930498124107, 'minibatch_frac': 0.6447297108199692, 'col_sample': 0.969977538542425}. Best is trial 2 with value: 0.9203991382242884.\n"
     ]
    },
    {
     "name": "stdout",
     "output_type": "stream",
     "text": [
      "[iter 0] loss=0.9155 val_loss=0.0000 scale=16.0000 norm=9.2162\n",
      "[iter 100] loss=0.1676 val_loss=0.0000 scale=32.0000 norm=3.4992\n",
      "[iter 200] loss=0.1616 val_loss=0.0000 scale=16.0000 norm=1.6776\n",
      "[iter 300] loss=0.1577 val_loss=0.0000 scale=16.0000 norm=1.6525\n"
     ]
    },
    {
     "name": "stderr",
     "output_type": "stream",
     "text": [
      "[I 2025-05-30 23:14:14,143] Trial 4 finished with value: 0.9214196620932078 and parameters: {'n_estimators': 341, 'learning_rate': 0.06673059059014039, 'minibatch_frac': 0.6314766134018318, 'col_sample': 0.5435684096409763}. Best is trial 4 with value: 0.9214196620932078.\n"
     ]
    },
    {
     "name": "stdout",
     "output_type": "stream",
     "text": [
      "[iter 0] loss=0.9182 val_loss=0.0000 scale=16.0000 norm=9.2343\n",
      "[iter 100] loss=0.1920 val_loss=0.0000 scale=32.0000 norm=4.0526\n",
      "[iter 200] loss=0.1725 val_loss=0.0000 scale=32.0000 norm=3.5861\n",
      "[iter 300] loss=0.1665 val_loss=0.0000 scale=128.0000 norm=13.8453\n",
      "[iter 400] loss=0.1630 val_loss=0.0000 scale=16.0000 norm=1.6958\n",
      "[iter 500] loss=0.1615 val_loss=0.0000 scale=32.0000 norm=3.3674\n"
     ]
    },
    {
     "name": "stderr",
     "output_type": "stream",
     "text": [
      "[I 2025-05-30 23:15:20,911] Trial 5 finished with value: 0.9209660959292437 and parameters: {'n_estimators': 563, 'learning_rate': 0.01797944281274195, 'minibatch_frac': 0.9457816838030784, 'col_sample': 0.6337141396604586}. Best is trial 4 with value: 0.9214196620932078.\n"
     ]
    },
    {
     "name": "stdout",
     "output_type": "stream",
     "text": [
      "[iter 0] loss=0.9175 val_loss=0.0000 scale=16.0000 norm=9.2221\n",
      "[iter 100] loss=0.1751 val_loss=0.0000 scale=16.0000 norm=1.8389\n",
      "[iter 200] loss=0.1660 val_loss=0.0000 scale=16.0000 norm=1.7227\n",
      "[iter 300] loss=0.1642 val_loss=0.0000 scale=16.0000 norm=1.7122\n",
      "[iter 400] loss=0.1599 val_loss=0.0000 scale=16.0000 norm=1.6730\n",
      "[iter 500] loss=0.1594 val_loss=0.0000 scale=16.0000 norm=1.6664\n",
      "[iter 600] loss=0.1598 val_loss=0.0000 scale=32.0000 norm=3.3217\n",
      "[iter 700] loss=0.1559 val_loss=0.0000 scale=16.0000 norm=1.6315\n",
      "[iter 800] loss=0.1580 val_loss=0.0000 scale=16.0000 norm=1.6483\n"
     ]
    },
    {
     "name": "stderr",
     "output_type": "stream",
     "text": [
      "[I 2025-05-30 23:16:17,673] Trial 6 finished with value: 0.9216464451751899 and parameters: {'n_estimators': 811, 'learning_rate': 0.034727901474892194, 'minibatch_frac': 0.5068373668888029, 'col_sample': 0.686599653181023}. Best is trial 6 with value: 0.9216464451751899.\n"
     ]
    },
    {
     "name": "stdout",
     "output_type": "stream",
     "text": [
      "[iter 0] loss=0.9141 val_loss=0.0000 scale=16.0000 norm=9.2120\n",
      "[iter 100] loss=0.1600 val_loss=0.0000 scale=16.0000 norm=1.6633\n",
      "[iter 200] loss=0.1548 val_loss=0.0000 scale=16.0000 norm=1.6011\n",
      "[iter 300] loss=0.1518 val_loss=0.0000 scale=16.0000 norm=1.5809\n",
      "[iter 400] loss=0.1497 val_loss=0.0000 scale=16.0000 norm=1.5732\n",
      "[iter 500] loss=0.1465 val_loss=0.0000 scale=16.0000 norm=1.5408\n",
      "[iter 600] loss=0.1468 val_loss=0.0000 scale=16.0000 norm=1.5403\n",
      "[iter 700] loss=0.1440 val_loss=0.0000 scale=16.0000 norm=1.5102\n",
      "[iter 800] loss=0.1431 val_loss=0.0000 scale=16.0000 norm=1.5096\n",
      "[iter 900] loss=0.1418 val_loss=0.0000 scale=8.0000 norm=0.7463\n"
     ]
    },
    {
     "name": "stderr",
     "output_type": "stream",
     "text": [
      "[I 2025-05-30 23:17:56,483] Trial 7 finished with value: 0.921873228257172 and parameters: {'n_estimators': 954, 'learning_rate': 0.14006156709173362, 'minibatch_frac': 0.6806714701122214, 'col_sample': 0.9263209215666772}. Best is trial 7 with value: 0.921873228257172.\n"
     ]
    },
    {
     "name": "stdout",
     "output_type": "stream",
     "text": [
      "[iter 0] loss=0.9167 val_loss=0.0000 scale=16.0000 norm=9.2280\n",
      "[iter 100] loss=0.1605 val_loss=0.0000 scale=16.0000 norm=1.6639\n",
      "[iter 200] loss=0.1546 val_loss=0.0000 scale=32.0000 norm=3.2244\n",
      "[iter 300] loss=0.1526 val_loss=0.0000 scale=16.0000 norm=1.5962\n",
      "[iter 400] loss=0.1490 val_loss=0.0000 scale=16.0000 norm=1.5632\n",
      "[iter 500] loss=0.1469 val_loss=0.0000 scale=8.0000 norm=0.7761\n"
     ]
    },
    {
     "name": "stderr",
     "output_type": "stream",
     "text": [
      "[I 2025-05-30 23:18:58,952] Trial 8 finished with value: 0.9192652228143781 and parameters: {'n_estimators': 529, 'learning_rate': 0.13064463875285928, 'minibatch_frac': 0.7676553409742344, 'col_sample': 0.9492633903486356}. Best is trial 7 with value: 0.921873228257172.\n"
     ]
    },
    {
     "name": "stdout",
     "output_type": "stream",
     "text": [
      "[iter 0] loss=0.9159 val_loss=0.0000 scale=16.0000 norm=9.2184\n",
      "[iter 100] loss=0.1590 val_loss=0.0000 scale=32.0000 norm=3.2915\n",
      "[iter 200] loss=0.1539 val_loss=0.0000 scale=8.0000 norm=0.7921\n",
      "[iter 300] loss=0.1507 val_loss=0.0000 scale=16.0000 norm=1.5591\n",
      "[iter 400] loss=0.1448 val_loss=0.0000 scale=16.0000 norm=1.5115\n",
      "[iter 500] loss=0.1447 val_loss=0.0000 scale=16.0000 norm=1.5091\n",
      "[iter 600] loss=0.1436 val_loss=0.0000 scale=32.0000 norm=2.9954\n",
      "[iter 700] loss=0.1388 val_loss=0.0000 scale=16.0000 norm=1.4535\n",
      "[iter 800] loss=0.1392 val_loss=0.0000 scale=16.0000 norm=1.4583\n",
      "[iter 900] loss=0.1361 val_loss=0.0000 scale=16.0000 norm=1.4222\n"
     ]
    },
    {
     "name": "stderr",
     "output_type": "stream",
     "text": [
      "[I 2025-05-30 23:20:31,112] Trial 9 finished with value: 0.916543825830593 and parameters: {'n_estimators': 986, 'learning_rate': 0.23884465766458127, 'minibatch_frac': 0.5789757022868818, 'col_sample': 0.7508155885445063}. Best is trial 7 with value: 0.921873228257172.\n"
     ]
    },
    {
     "name": "stdout",
     "output_type": "stream",
     "text": [
      "[iter 0] loss=0.9148 val_loss=0.0000 scale=16.0000 norm=9.2150\n",
      "[iter 100] loss=0.1619 val_loss=0.0000 scale=16.0000 norm=1.6883\n"
     ]
    },
    {
     "name": "stderr",
     "output_type": "stream",
     "text": [
      "[I 2025-05-30 23:20:45,210] Trial 10 finished with value: 0.9199455720603243 and parameters: {'n_estimators': 120, 'learning_rate': 0.09847278403442244, 'minibatch_frac': 0.6885133076081007, 'col_sample': 0.8645493791584888}. Best is trial 7 with value: 0.921873228257172.\n"
     ]
    },
    {
     "name": "stdout",
     "output_type": "stream",
     "text": [
      "[iter 0] loss=0.9172 val_loss=0.0000 scale=16.0000 norm=9.2191\n",
      "[iter 100] loss=0.2073 val_loss=0.0000 scale=32.0000 norm=4.4436\n",
      "[iter 200] loss=0.1786 val_loss=0.0000 scale=32.0000 norm=3.7140\n",
      "[iter 300] loss=0.1731 val_loss=0.0000 scale=32.0000 norm=3.6087\n",
      "[iter 400] loss=0.1674 val_loss=0.0000 scale=16.0000 norm=1.7445\n",
      "[iter 500] loss=0.1673 val_loss=0.0000 scale=16.0000 norm=1.7407\n",
      "[iter 600] loss=0.1671 val_loss=0.0000 scale=32.0000 norm=3.4582\n",
      "[iter 700] loss=0.1634 val_loss=0.0000 scale=32.0000 norm=3.3981\n",
      "[iter 800] loss=0.1653 val_loss=0.0000 scale=32.0000 norm=3.4289\n"
     ]
    },
    {
     "name": "stderr",
     "output_type": "stream",
     "text": [
      "[I 2025-05-30 23:21:45,054] Trial 11 finished with value: 0.9211928790112257 and parameters: {'n_estimators': 871, 'learning_rate': 0.014267826955110807, 'minibatch_frac': 0.5148581072459033, 'col_sample': 0.6313023954949926}. Best is trial 7 with value: 0.921873228257172.\n"
     ]
    },
    {
     "name": "stdout",
     "output_type": "stream",
     "text": [
      "[iter 0] loss=0.9179 val_loss=0.0000 scale=16.0000 norm=9.2341\n",
      "[iter 100] loss=0.1630 val_loss=0.0000 scale=32.0000 norm=3.3731\n",
      "[iter 200] loss=0.1570 val_loss=0.0000 scale=16.0000 norm=1.6299\n",
      "[iter 300] loss=0.1545 val_loss=0.0000 scale=16.0000 norm=1.6176\n",
      "[iter 400] loss=0.1508 val_loss=0.0000 scale=16.0000 norm=1.5851\n",
      "[iter 500] loss=0.1500 val_loss=0.0000 scale=16.0000 norm=1.5826\n",
      "[iter 600] loss=0.1477 val_loss=0.0000 scale=32.0000 norm=3.1256\n",
      "[iter 700] loss=0.1460 val_loss=0.0000 scale=16.0000 norm=1.5425\n"
     ]
    },
    {
     "name": "stderr",
     "output_type": "stream",
     "text": [
      "[I 2025-05-30 23:23:07,892] Trial 12 finished with value: 0.9203991382242884 and parameters: {'n_estimators': 754, 'learning_rate': 0.07612600920093696, 'minibatch_frac': 0.8535891427961847, 'col_sample': 0.8506236485967147}. Best is trial 7 with value: 0.921873228257172.\n"
     ]
    },
    {
     "name": "stdout",
     "output_type": "stream",
     "text": [
      "[iter 0] loss=0.9176 val_loss=0.0000 scale=16.0000 norm=9.2219\n",
      "[iter 100] loss=0.1640 val_loss=0.0000 scale=32.0000 norm=3.4158\n",
      "[iter 200] loss=0.1570 val_loss=0.0000 scale=8.0000 norm=0.8115\n",
      "[iter 300] loss=0.1557 val_loss=0.0000 scale=16.0000 norm=1.6195\n",
      "[iter 400] loss=0.1496 val_loss=0.0000 scale=16.0000 norm=1.5680\n",
      "[iter 500] loss=0.1492 val_loss=0.0000 scale=16.0000 norm=1.5564\n",
      "[iter 600] loss=0.1484 val_loss=0.0000 scale=16.0000 norm=1.5449\n",
      "[iter 700] loss=0.1449 val_loss=0.0000 scale=16.0000 norm=1.5251\n",
      "[iter 800] loss=0.1460 val_loss=0.0000 scale=16.0000 norm=1.5335\n",
      "[iter 900] loss=0.1414 val_loss=0.0000 scale=16.0000 norm=1.4838\n"
     ]
    },
    {
     "name": "stderr",
     "output_type": "stream",
     "text": [
      "[I 2025-05-30 23:24:09,375] Trial 13 finished with value: 0.9211928790112257 and parameters: {'n_estimators': 992, 'learning_rate': 0.1274915251518059, 'minibatch_frac': 0.5116978783157589, 'col_sample': 0.6577468449008437}. Best is trial 7 with value: 0.921873228257172.\n"
     ]
    },
    {
     "name": "stdout",
     "output_type": "stream",
     "text": [
      "[iter 0] loss=0.9149 val_loss=0.0000 scale=16.0000 norm=9.2165\n",
      "[iter 100] loss=0.1658 val_loss=0.0000 scale=32.0000 norm=3.4814\n",
      "[iter 200] loss=0.1602 val_loss=0.0000 scale=64.0000 norm=6.6655\n",
      "[iter 300] loss=0.1579 val_loss=0.0000 scale=16.0000 norm=1.6512\n",
      "[iter 400] loss=0.1555 val_loss=0.0000 scale=16.0000 norm=1.6347\n",
      "[iter 500] loss=0.1541 val_loss=0.0000 scale=16.0000 norm=1.6222\n",
      "[iter 600] loss=0.1537 val_loss=0.0000 scale=32.0000 norm=3.2303\n",
      "[iter 700] loss=0.1514 val_loss=0.0000 scale=16.0000 norm=1.5906\n"
     ]
    },
    {
     "name": "stderr",
     "output_type": "stream",
     "text": [
      "[I 2025-05-30 23:25:11,360] Trial 14 finished with value: 0.9201723551423063 and parameters: {'n_estimators': 723, 'learning_rate': 0.05384190693855706, 'minibatch_frac': 0.6949627862993375, 'col_sample': 0.6939866961677394}. Best is trial 7 with value: 0.921873228257172.\n"
     ]
    },
    {
     "name": "stdout",
     "output_type": "stream",
     "text": [
      "[iter 0] loss=0.9178 val_loss=0.0000 scale=16.0000 norm=9.2339\n",
      "[iter 100] loss=0.1582 val_loss=0.0000 scale=32.0000 norm=3.2733\n",
      "[iter 200] loss=0.1512 val_loss=0.0000 scale=32.0000 norm=3.1443\n",
      "[iter 300] loss=0.1482 val_loss=0.0000 scale=16.0000 norm=1.5525\n",
      "[iter 400] loss=0.1438 val_loss=0.0000 scale=16.0000 norm=1.5151\n",
      "[iter 500] loss=0.1420 val_loss=0.0000 scale=16.0000 norm=1.5045\n",
      "[iter 600] loss=0.1390 val_loss=0.0000 scale=32.0000 norm=2.9495\n"
     ]
    },
    {
     "name": "stderr",
     "output_type": "stream",
     "text": [
      "[I 2025-05-30 23:26:12,327] Trial 15 finished with value: 0.9180179158634766 and parameters: {'n_estimators': 659, 'learning_rate': 0.18209880541485016, 'minibatch_frac': 0.8361966891302417, 'col_sample': 0.5262037085120655}. Best is trial 7 with value: 0.921873228257172.\n"
     ]
    },
    {
     "name": "stdout",
     "output_type": "stream",
     "text": [
      "[iter 0] loss=0.9178 val_loss=0.0000 scale=16.0000 norm=9.2306\n",
      "[iter 100] loss=0.1584 val_loss=0.0000 scale=32.0000 norm=3.2974\n",
      "[iter 200] loss=0.1520 val_loss=0.0000 scale=32.0000 norm=3.1803\n",
      "[iter 300] loss=0.1475 val_loss=0.0000 scale=32.0000 norm=3.1115\n",
      "[iter 400] loss=0.1441 val_loss=0.0000 scale=32.0000 norm=3.0524\n",
      "[iter 500] loss=0.1412 val_loss=0.0000 scale=32.0000 norm=3.0064\n",
      "[iter 600] loss=0.1389 val_loss=0.0000 scale=32.0000 norm=2.9618\n",
      "[iter 700] loss=0.1365 val_loss=0.0000 scale=32.0000 norm=2.9202\n",
      "[iter 800] loss=0.1344 val_loss=0.0000 scale=16.0000 norm=1.4429\n"
     ]
    },
    {
     "name": "stderr",
     "output_type": "stream",
     "text": [
      "[I 2025-05-30 23:28:10,215] Trial 16 finished with value: 0.9182446989454587 and parameters: {'n_estimators': 880, 'learning_rate': 0.11707734703813794, 'minibatch_frac': 0.9921817698191209, 'col_sample': 0.8276082288816897}. Best is trial 7 with value: 0.921873228257172.\n"
     ]
    },
    {
     "name": "stdout",
     "output_type": "stream",
     "text": [
      "[iter 0] loss=0.9170 val_loss=0.0000 scale=16.0000 norm=9.2218\n",
      "[iter 100] loss=0.1710 val_loss=0.0000 scale=32.0000 norm=3.5797\n",
      "[iter 200] loss=0.1646 val_loss=0.0000 scale=16.0000 norm=1.7054\n",
      "[iter 300] loss=0.1618 val_loss=0.0000 scale=16.0000 norm=1.6922\n",
      "[iter 400] loss=0.1577 val_loss=0.0000 scale=16.0000 norm=1.6540\n",
      "[iter 500] loss=0.1575 val_loss=0.0000 scale=16.0000 norm=1.6493\n",
      "[iter 600] loss=0.1575 val_loss=0.0000 scale=32.0000 norm=3.2948\n",
      "[iter 700] loss=0.1528 val_loss=0.0000 scale=32.0000 norm=3.1999\n",
      "[iter 800] loss=0.1547 val_loss=0.0000 scale=16.0000 norm=1.6224\n"
     ]
    },
    {
     "name": "stderr",
     "output_type": "stream",
     "text": [
      "[I 2025-05-30 23:29:10,726] Trial 17 finished with value: 0.9216464451751899 and parameters: {'n_estimators': 867, 'learning_rate': 0.04304670048307603, 'minibatch_frac': 0.6148201878552823, 'col_sample': 0.5780536670228874}. Best is trial 7 with value: 0.921873228257172.\n"
     ]
    },
    {
     "name": "stdout",
     "output_type": "stream",
     "text": [
      "[iter 0] loss=0.9150 val_loss=0.0000 scale=16.0000 norm=9.2189\n",
      "[iter 100] loss=0.1565 val_loss=0.0000 scale=16.0000 norm=1.6251\n",
      "[iter 200] loss=0.1505 val_loss=0.0000 scale=8.0000 norm=0.7819\n",
      "[iter 300] loss=0.1474 val_loss=0.0000 scale=16.0000 norm=1.5396\n",
      "[iter 400] loss=0.1434 val_loss=0.0000 scale=16.0000 norm=1.5043\n",
      "[iter 500] loss=0.1421 val_loss=0.0000 scale=16.0000 norm=1.4961\n",
      "[iter 600] loss=0.1400 val_loss=0.0000 scale=16.0000 norm=1.4812\n"
     ]
    },
    {
     "name": "stderr",
     "output_type": "stream",
     "text": [
      "[I 2025-05-30 23:30:10,338] Trial 18 finished with value: 0.916430434289602 and parameters: {'n_estimators': 676, 'learning_rate': 0.21505452377351553, 'minibatch_frac': 0.705203042549845, 'col_sample': 0.6998422495910278}. Best is trial 7 with value: 0.921873228257172.\n"
     ]
    },
    {
     "name": "stdout",
     "output_type": "stream",
     "text": [
      "[iter 0] loss=0.9171 val_loss=0.0000 scale=16.0000 norm=9.2287\n",
      "[iter 100] loss=0.1555 val_loss=0.0000 scale=8.0000 norm=0.8067\n",
      "[iter 200] loss=0.1481 val_loss=0.0000 scale=16.0000 norm=1.5399\n",
      "[iter 300] loss=0.1452 val_loss=0.0000 scale=16.0000 norm=1.5191\n",
      "[iter 400] loss=0.1408 val_loss=0.0000 scale=16.0000 norm=1.4817\n",
      "[iter 500] loss=0.1386 val_loss=0.0000 scale=16.0000 norm=1.4707\n",
      "[iter 600] loss=0.1352 val_loss=0.0000 scale=16.0000 norm=1.4386\n",
      "[iter 700] loss=0.1332 val_loss=0.0000 scale=16.0000 norm=1.4103\n",
      "[iter 800] loss=0.1329 val_loss=0.0000 scale=32.0000 norm=2.8315\n",
      "[iter 900] loss=0.1297 val_loss=0.0000 scale=16.0000 norm=1.3854\n"
     ]
    },
    {
     "name": "stderr",
     "output_type": "stream",
     "text": [
      "[I 2025-05-30 23:32:11,342] Trial 19 finished with value: 0.9166572173715841 and parameters: {'n_estimators': 943, 'learning_rate': 0.2958391822697274, 'minibatch_frac': 0.8009374191622716, 'col_sample': 0.8993809481401501}. Best is trial 7 with value: 0.921873228257172.\n"
     ]
    },
    {
     "name": "stdout",
     "output_type": "stream",
     "text": [
      "[iter 0] loss=0.9162 val_loss=0.0000 scale=16.0000 norm=9.2216\n",
      "[iter 100] loss=0.1603 val_loss=0.0000 scale=16.0000 norm=1.6701\n",
      "[iter 200] loss=0.1568 val_loss=0.0000 scale=16.0000 norm=1.6154\n",
      "[iter 300] loss=0.1540 val_loss=0.0000 scale=16.0000 norm=1.5964\n",
      "[iter 400] loss=0.1486 val_loss=0.0000 scale=16.0000 norm=1.5638\n",
      "[iter 500] loss=0.1494 val_loss=0.0000 scale=16.0000 norm=1.5648\n",
      "[iter 600] loss=0.1496 val_loss=0.0000 scale=16.0000 norm=1.5621\n",
      "[iter 700] loss=0.1442 val_loss=0.0000 scale=16.0000 norm=1.5115\n",
      "[iter 800] loss=0.1461 val_loss=0.0000 scale=16.0000 norm=1.5364\n"
     ]
    },
    {
     "name": "stderr",
     "output_type": "stream",
     "text": [
      "[I 2025-05-30 23:33:23,584] Trial 20 finished with value: 0.9200589636013153 and parameters: {'n_estimators': 807, 'learning_rate': 0.1508777074769955, 'minibatch_frac': 0.5662646477485717, 'col_sample': 0.9999751557422972}. Best is trial 7 with value: 0.921873228257172.\n"
     ]
    },
    {
     "name": "stdout",
     "output_type": "stream",
     "text": [
      "[iter 0] loss=0.9154 val_loss=0.0000 scale=16.0000 norm=9.2158\n",
      "[iter 100] loss=0.1704 val_loss=0.0000 scale=32.0000 norm=3.5758\n",
      "[iter 200] loss=0.1641 val_loss=0.0000 scale=16.0000 norm=1.6968\n",
      "[iter 300] loss=0.1606 val_loss=0.0000 scale=16.0000 norm=1.6812\n",
      "[iter 400] loss=0.1575 val_loss=0.0000 scale=16.0000 norm=1.6542\n",
      "[iter 500] loss=0.1562 val_loss=0.0000 scale=16.0000 norm=1.6423\n",
      "[iter 600] loss=0.1557 val_loss=0.0000 scale=32.0000 norm=3.2621\n",
      "[iter 700] loss=0.1525 val_loss=0.0000 scale=32.0000 norm=3.1959\n",
      "[iter 800] loss=0.1533 val_loss=0.0000 scale=16.0000 norm=1.6120\n"
     ]
    },
    {
     "name": "stderr",
     "output_type": "stream",
     "text": [
      "[I 2025-05-30 23:34:26,771] Trial 21 finished with value: 0.921873228257172 and parameters: {'n_estimators': 894, 'learning_rate': 0.04600731331000325, 'minibatch_frac': 0.6383864963227116, 'col_sample': 0.5814901410507554}. Best is trial 7 with value: 0.921873228257172.\n"
     ]
    },
    {
     "name": "stdout",
     "output_type": "stream",
     "text": [
      "[iter 0] loss=0.9149 val_loss=0.0000 scale=16.0000 norm=9.2154\n",
      "[iter 100] loss=0.1644 val_loss=0.0000 scale=32.0000 norm=3.4350\n",
      "[iter 200] loss=0.1582 val_loss=0.0000 scale=16.0000 norm=1.6449\n",
      "[iter 300] loss=0.1547 val_loss=0.0000 scale=16.0000 norm=1.6206\n",
      "[iter 400] loss=0.1519 val_loss=0.0000 scale=16.0000 norm=1.6017\n",
      "[iter 500] loss=0.1499 val_loss=0.0000 scale=16.0000 norm=1.5841\n",
      "[iter 600] loss=0.1492 val_loss=0.0000 scale=32.0000 norm=3.1436\n",
      "[iter 700] loss=0.1464 val_loss=0.0000 scale=32.0000 norm=3.0878\n",
      "[iter 800] loss=0.1461 val_loss=0.0000 scale=16.0000 norm=1.5442\n",
      "[iter 900] loss=0.1440 val_loss=0.0000 scale=8.0000 norm=0.7598\n"
     ]
    },
    {
     "name": "stderr",
     "output_type": "stream",
     "text": [
      "[I 2025-05-30 23:35:30,101] Trial 22 finished with value: 0.9196053974373511 and parameters: {'n_estimators': 908, 'learning_rate': 0.09045918417935991, 'minibatch_frac': 0.6610209228687973, 'col_sample': 0.5890468252359513}. Best is trial 7 with value: 0.921873228257172.\n"
     ]
    },
    {
     "name": "stdout",
     "output_type": "stream",
     "text": [
      "[iter 0] loss=0.9164 val_loss=0.0000 scale=16.0000 norm=9.2205\n",
      "[iter 100] loss=0.1723 val_loss=0.0000 scale=16.0000 norm=1.8105\n",
      "[iter 200] loss=0.1651 val_loss=0.0000 scale=16.0000 norm=1.7086\n",
      "[iter 300] loss=0.1622 val_loss=0.0000 scale=32.0000 norm=3.3836\n",
      "[iter 400] loss=0.1579 val_loss=0.0000 scale=16.0000 norm=1.6554\n",
      "[iter 500] loss=0.1586 val_loss=0.0000 scale=16.0000 norm=1.6594\n",
      "[iter 600] loss=0.1587 val_loss=0.0000 scale=32.0000 norm=3.3105\n",
      "[iter 700] loss=0.1537 val_loss=0.0000 scale=16.0000 norm=1.6116\n",
      "[iter 800] loss=0.1567 val_loss=0.0000 scale=16.0000 norm=1.6400\n"
     ]
    },
    {
     "name": "stderr",
     "output_type": "stream",
     "text": [
      "[I 2025-05-30 23:36:25,723] Trial 23 finished with value: 0.9211928790112257 and parameters: {'n_estimators': 801, 'learning_rate': 0.036331361741367016, 'minibatch_frac': 0.5972782691208628, 'col_sample': 0.6946074087744474}. Best is trial 7 with value: 0.921873228257172.\n"
     ]
    },
    {
     "name": "stdout",
     "output_type": "stream",
     "text": [
      "[iter 0] loss=0.9147 val_loss=0.0000 scale=16.0000 norm=9.2177\n",
      "[iter 100] loss=0.1624 val_loss=0.0000 scale=32.0000 norm=3.3847\n",
      "[iter 200] loss=0.1570 val_loss=0.0000 scale=32.0000 norm=3.2700\n",
      "[iter 300] loss=0.1556 val_loss=0.0000 scale=16.0000 norm=1.6223\n",
      "[iter 400] loss=0.1522 val_loss=0.0000 scale=16.0000 norm=1.5943\n",
      "[iter 500] loss=0.1512 val_loss=0.0000 scale=16.0000 norm=1.5873\n",
      "[iter 600] loss=0.1501 val_loss=0.0000 scale=32.0000 norm=3.1578\n"
     ]
    },
    {
     "name": "stderr",
     "output_type": "stream",
     "text": [
      "[I 2025-05-30 23:37:19,857] Trial 24 finished with value: 0.9215330536341989 and parameters: {'n_estimators': 625, 'learning_rate': 0.08712046897550109, 'minibatch_frac': 0.7080240892874122, 'col_sample': 0.815404238680904}. Best is trial 7 with value: 0.921873228257172.\n"
     ]
    },
    {
     "name": "stdout",
     "output_type": "stream",
     "text": [
      "[iter 0] loss=0.9180 val_loss=0.0000 scale=16.0000 norm=9.2281\n",
      "[iter 100] loss=0.1771 val_loss=0.0000 scale=32.0000 norm=3.7188\n",
      "[iter 200] loss=0.1676 val_loss=0.0000 scale=16.0000 norm=1.7378\n",
      "[iter 300] loss=0.1646 val_loss=0.0000 scale=16.0000 norm=1.7173\n",
      "[iter 400] loss=0.1595 val_loss=0.0000 scale=16.0000 norm=1.6683\n",
      "[iter 500] loss=0.1598 val_loss=0.0000 scale=16.0000 norm=1.6697\n",
      "[iter 600] loss=0.1610 val_loss=0.0000 scale=32.0000 norm=3.3510\n",
      "[iter 700] loss=0.1557 val_loss=0.0000 scale=16.0000 norm=1.6301\n",
      "[iter 800] loss=0.1580 val_loss=0.0000 scale=16.0000 norm=1.6508\n",
      "[iter 900] loss=0.1541 val_loss=0.0000 scale=8.0000 norm=0.8048\n"
     ]
    },
    {
     "name": "stderr",
     "output_type": "stream",
     "text": [
      "[I 2025-05-30 23:38:16,671] Trial 25 finished with value: 0.9210794874702347 and parameters: {'n_estimators': 924, 'learning_rate': 0.03236566480322206, 'minibatch_frac': 0.5356749246013714, 'col_sample': 0.597606643035162}. Best is trial 7 with value: 0.921873228257172.\n"
     ]
    },
    {
     "name": "stdout",
     "output_type": "stream",
     "text": [
      "[iter 0] loss=0.9149 val_loss=0.0000 scale=16.0000 norm=9.2150\n",
      "[iter 100] loss=0.1627 val_loss=0.0000 scale=16.0000 norm=1.6990\n",
      "[iter 200] loss=0.1574 val_loss=0.0000 scale=16.0000 norm=1.6362\n",
      "[iter 300] loss=0.1538 val_loss=0.0000 scale=8.0000 norm=0.8047\n",
      "[iter 400] loss=0.1506 val_loss=0.0000 scale=16.0000 norm=1.5867\n",
      "[iter 500] loss=0.1482 val_loss=0.0000 scale=16.0000 norm=1.5687\n",
      "[iter 600] loss=0.1468 val_loss=0.0000 scale=32.0000 norm=3.1033\n",
      "[iter 700] loss=0.1445 val_loss=0.0000 scale=32.0000 norm=3.0504\n"
     ]
    },
    {
     "name": "stderr",
     "output_type": "stream",
     "text": [
      "[I 2025-05-30 23:39:06,157] Trial 26 finished with value: 0.9201723551423063 and parameters: {'n_estimators': 743, 'learning_rate': 0.11042945606645349, 'minibatch_frac': 0.6606634597487118, 'col_sample': 0.5062098237291313}. Best is trial 7 with value: 0.921873228257172.\n"
     ]
    },
    {
     "name": "stdout",
     "output_type": "stream",
     "text": [
      "[iter 0] loss=0.9155 val_loss=0.0000 scale=16.0000 norm=9.2227\n",
      "[iter 100] loss=0.1658 val_loss=0.0000 scale=32.0000 norm=3.4604\n",
      "[iter 200] loss=0.1596 val_loss=0.0000 scale=16.0000 norm=1.6612\n",
      "[iter 300] loss=0.1572 val_loss=0.0000 scale=16.0000 norm=1.6460\n",
      "[iter 400] loss=0.1537 val_loss=0.0000 scale=16.0000 norm=1.6173\n",
      "[iter 500] loss=0.1535 val_loss=0.0000 scale=16.0000 norm=1.6149\n",
      "[iter 600] loss=0.1521 val_loss=0.0000 scale=32.0000 norm=3.2084\n",
      "[iter 700] loss=0.1498 val_loss=0.0000 scale=16.0000 norm=1.5780\n",
      "[iter 800] loss=0.1511 val_loss=0.0000 scale=16.0000 norm=1.5873\n",
      "[iter 900] loss=0.1481 val_loss=0.0000 scale=16.0000 norm=1.5557\n"
     ]
    },
    {
     "name": "stderr",
     "output_type": "stream",
     "text": [
      "[I 2025-05-30 23:40:29,118] Trial 27 finished with value: 0.9200589636013153 and parameters: {'n_estimators': 997, 'learning_rate': 0.060641566714094486, 'minibatch_frac': 0.7342855134388176, 'col_sample': 0.7211361830702923}. Best is trial 7 with value: 0.921873228257172.\n"
     ]
    },
    {
     "name": "stdout",
     "output_type": "stream",
     "text": [
      "[iter 0] loss=0.9166 val_loss=0.0000 scale=16.0000 norm=9.2220\n",
      "[iter 100] loss=0.1600 val_loss=0.0000 scale=32.0000 norm=3.3396\n",
      "[iter 200] loss=0.1544 val_loss=0.0000 scale=16.0000 norm=1.6064\n",
      "[iter 300] loss=0.1521 val_loss=0.0000 scale=16.0000 norm=1.5884\n",
      "[iter 400] loss=0.1472 val_loss=0.0000 scale=16.0000 norm=1.5482\n",
      "[iter 500] loss=0.1460 val_loss=0.0000 scale=8.0000 norm=0.7643\n",
      "[iter 600] loss=0.1462 val_loss=0.0000 scale=16.0000 norm=1.5285\n",
      "[iter 700] loss=0.1402 val_loss=0.0000 scale=16.0000 norm=1.4782\n",
      "[iter 800] loss=0.1427 val_loss=0.0000 scale=16.0000 norm=1.5099\n"
     ]
    },
    {
     "name": "stderr",
     "output_type": "stream",
     "text": [
      "[I 2025-05-30 23:41:23,309] Trial 28 finished with value: 0.9188116566504139 and parameters: {'n_estimators': 840, 'learning_rate': 0.1528340289877141, 'minibatch_frac': 0.5916867010497386, 'col_sample': 0.6546023608676519}. Best is trial 7 with value: 0.921873228257172.\n"
     ]
    },
    {
     "name": "stdout",
     "output_type": "stream",
     "text": [
      "[iter 0] loss=0.9170 val_loss=0.0000 scale=16.0000 norm=9.2253\n",
      "[iter 100] loss=0.1599 val_loss=0.0000 scale=16.0000 norm=1.6488\n",
      "[iter 200] loss=0.1540 val_loss=0.0000 scale=16.0000 norm=1.5842\n",
      "[iter 300] loss=0.1508 val_loss=0.0000 scale=16.0000 norm=1.5587\n",
      "[iter 400] loss=0.1446 val_loss=0.0000 scale=16.0000 norm=1.5169\n",
      "[iter 500] loss=0.1445 val_loss=0.0000 scale=16.0000 norm=1.5147\n",
      "[iter 600] loss=0.1447 val_loss=0.0000 scale=32.0000 norm=3.0187\n",
      "[iter 700] loss=0.1388 val_loss=0.0000 scale=32.0000 norm=2.9149\n",
      "[iter 800] loss=0.1410 val_loss=0.0000 scale=16.0000 norm=1.4829\n"
     ]
    },
    {
     "name": "stderr",
     "output_type": "stream",
     "text": [
      "[I 2025-05-30 23:42:08,556] Trial 29 finished with value: 0.9182446989454587 and parameters: {'n_estimators': 808, 'learning_rate': 0.1993138062347673, 'minibatch_frac': 0.5524514269812328, 'col_sample': 0.5580369408071}. Best is trial 7 with value: 0.921873228257172.\n"
     ]
    },
    {
     "name": "stdout",
     "output_type": "stream",
     "text": [
      "[iter 0] loss=0.9162 val_loss=0.0000 scale=16.0000 norm=9.2173\n",
      "[iter 100] loss=0.1643 val_loss=0.0000 scale=32.0000 norm=3.4392\n",
      "[iter 200] loss=0.1590 val_loss=0.0000 scale=16.0000 norm=1.6437\n",
      "[iter 300] loss=0.1560 val_loss=0.0000 scale=32.0000 norm=3.2601\n",
      "[iter 400] loss=0.1529 val_loss=0.0000 scale=16.0000 norm=1.6076\n",
      "[iter 500] loss=0.1519 val_loss=0.0000 scale=16.0000 norm=1.5959\n",
      "[iter 600] loss=0.1521 val_loss=0.0000 scale=32.0000 norm=3.1856\n",
      "[iter 700] loss=0.1478 val_loss=0.0000 scale=16.0000 norm=1.5494\n",
      "[iter 800] loss=0.1494 val_loss=0.0000 scale=16.0000 norm=1.5742\n",
      "[iter 900] loss=0.1461 val_loss=0.0000 scale=8.0000 norm=0.7671\n"
     ]
    },
    {
     "name": "stderr",
     "output_type": "stream",
     "text": [
      "[I 2025-05-30 23:43:17,662] Trial 30 finished with value: 0.9206259213062705 and parameters: {'n_estimators': 931, 'learning_rate': 0.07597334358714214, 'minibatch_frac': 0.6199483005416366, 'col_sample': 0.7874269551248283}. Best is trial 7 with value: 0.921873228257172.\n"
     ]
    },
    {
     "name": "stdout",
     "output_type": "stream",
     "text": [
      "[iter 0] loss=0.9155 val_loss=0.0000 scale=16.0000 norm=9.2161\n",
      "[iter 100] loss=0.1734 val_loss=0.0000 scale=32.0000 norm=3.6304\n",
      "[iter 200] loss=0.1659 val_loss=0.0000 scale=16.0000 norm=1.7169\n",
      "[iter 300] loss=0.1619 val_loss=0.0000 scale=32.0000 norm=3.3854\n",
      "[iter 400] loss=0.1587 val_loss=0.0000 scale=16.0000 norm=1.6648\n",
      "[iter 500] loss=0.1577 val_loss=0.0000 scale=16.0000 norm=1.6552\n",
      "[iter 600] loss=0.1580 val_loss=0.0000 scale=32.0000 norm=3.2991\n",
      "[iter 700] loss=0.1540 val_loss=0.0000 scale=32.0000 norm=3.2226\n",
      "[iter 800] loss=0.1552 val_loss=0.0000 scale=16.0000 norm=1.6275\n"
     ]
    },
    {
     "name": "stderr",
     "output_type": "stream",
     "text": [
      "[I 2025-05-30 23:44:13,550] Trial 31 finished with value: 0.9207393128472616 and parameters: {'n_estimators': 867, 'learning_rate': 0.03822513454103309, 'minibatch_frac': 0.6308912057398708, 'col_sample': 0.5842175671293858}. Best is trial 7 with value: 0.921873228257172.\n"
     ]
    },
    {
     "name": "stdout",
     "output_type": "stream",
     "text": [
      "[iter 0] loss=0.9142 val_loss=0.0000 scale=16.0000 norm=9.2136\n",
      "[iter 100] loss=0.1687 val_loss=0.0000 scale=32.0000 norm=3.5329\n",
      "[iter 200] loss=0.1625 val_loss=0.0000 scale=32.0000 norm=3.3689\n",
      "[iter 300] loss=0.1592 val_loss=0.0000 scale=16.0000 norm=1.6629\n",
      "[iter 400] loss=0.1565 val_loss=0.0000 scale=16.0000 norm=1.6458\n",
      "[iter 500] loss=0.1543 val_loss=0.0000 scale=16.0000 norm=1.6256\n",
      "[iter 600] loss=0.1545 val_loss=0.0000 scale=32.0000 norm=3.2451\n",
      "[iter 700] loss=0.1511 val_loss=0.0000 scale=32.0000 norm=3.1768\n"
     ]
    },
    {
     "name": "stderr",
     "output_type": "stream",
     "text": [
      "[I 2025-05-30 23:45:04,118] Trial 32 finished with value: 0.9202857466832974 and parameters: {'n_estimators': 751, 'learning_rate': 0.05307392085463436, 'minibatch_frac': 0.6708043263474311, 'col_sample': 0.5654880508295115}. Best is trial 7 with value: 0.921873228257172.\n"
     ]
    },
    {
     "name": "stdout",
     "output_type": "stream",
     "text": [
      "[iter 0] loss=0.9167 val_loss=0.0000 scale=16.0000 norm=9.2197\n",
      "[iter 100] loss=0.1770 val_loss=0.0000 scale=32.0000 norm=3.7174\n",
      "[iter 200] loss=0.1681 val_loss=0.0000 scale=16.0000 norm=1.7384\n",
      "[iter 300] loss=0.1646 val_loss=0.0000 scale=32.0000 norm=3.4304\n",
      "[iter 400] loss=0.1602 val_loss=0.0000 scale=16.0000 norm=1.6776\n",
      "[iter 500] loss=0.1606 val_loss=0.0000 scale=16.0000 norm=1.6777\n",
      "[iter 600] loss=0.1606 val_loss=0.0000 scale=32.0000 norm=3.3427\n",
      "[iter 700] loss=0.1558 val_loss=0.0000 scale=32.0000 norm=3.2547\n",
      "[iter 800] loss=0.1579 val_loss=0.0000 scale=16.0000 norm=1.6495\n"
     ]
    },
    {
     "name": "stderr",
     "output_type": "stream",
     "text": [
      "[I 2025-05-30 23:45:58,614] Trial 33 finished with value: 0.9211928790112257 and parameters: {'n_estimators': 827, 'learning_rate': 0.02915960755268809, 'minibatch_frac': 0.6037799776439583, 'col_sample': 0.6221027076834589}. Best is trial 7 with value: 0.921873228257172.\n"
     ]
    },
    {
     "name": "stdout",
     "output_type": "stream",
     "text": [
      "[iter 0] loss=0.9175 val_loss=0.0000 scale=16.0000 norm=9.2266\n",
      "[iter 100] loss=0.1697 val_loss=0.0000 scale=16.0000 norm=1.7720\n",
      "[iter 200] loss=0.1631 val_loss=0.0000 scale=16.0000 norm=1.6897\n",
      "[iter 300] loss=0.1606 val_loss=0.0000 scale=16.0000 norm=1.6764\n",
      "[iter 400] loss=0.1560 val_loss=0.0000 scale=16.0000 norm=1.6357\n",
      "[iter 500] loss=0.1565 val_loss=0.0000 scale=16.0000 norm=1.6311\n",
      "[iter 600] loss=0.1579 val_loss=0.0000 scale=32.0000 norm=3.2866\n",
      "[iter 700] loss=0.1519 val_loss=0.0000 scale=16.0000 norm=1.5919\n",
      "[iter 800] loss=0.1543 val_loss=0.0000 scale=16.0000 norm=1.6150\n",
      "[iter 900] loss=0.1505 val_loss=0.0000 scale=16.0000 norm=1.5738\n"
     ]
    },
    {
     "name": "stderr",
     "output_type": "stream",
     "text": [
      "[I 2025-05-30 23:46:59,550] Trial 34 finished with value: 0.9221000113391541 and parameters: {'n_estimators': 949, 'learning_rate': 0.04869884839303985, 'minibatch_frac': 0.5434060060726307, 'col_sample': 0.7310257531927019}. Best is trial 34 with value: 0.9221000113391541.\n"
     ]
    },
    {
     "name": "stdout",
     "output_type": "stream",
     "text": [
      "[iter 0] loss=0.9167 val_loss=0.0000 scale=16.0000 norm=9.2240\n",
      "[iter 100] loss=0.1862 val_loss=0.0000 scale=32.0000 norm=3.9323\n",
      "[iter 200] loss=0.1726 val_loss=0.0000 scale=16.0000 norm=1.7884\n",
      "[iter 300] loss=0.1686 val_loss=0.0000 scale=64.0000 norm=7.0295\n",
      "[iter 400] loss=0.1634 val_loss=0.0000 scale=16.0000 norm=1.7097\n",
      "[iter 500] loss=0.1640 val_loss=0.0000 scale=16.0000 norm=1.7100\n",
      "[iter 600] loss=0.1659 val_loss=0.0000 scale=32.0000 norm=3.4401\n",
      "[iter 700] loss=0.1592 val_loss=0.0000 scale=32.0000 norm=3.3200\n",
      "[iter 800] loss=0.1627 val_loss=0.0000 scale=16.0000 norm=1.6917\n",
      "[iter 900] loss=0.1589 val_loss=0.0000 scale=16.0000 norm=1.6530\n"
     ]
    },
    {
     "name": "stderr",
     "output_type": "stream",
     "text": [
      "[I 2025-05-30 23:47:59,930] Trial 35 finished with value: 0.9211928790112257 and parameters: {'n_estimators': 946, 'learning_rate': 0.017551047564461936, 'minibatch_frac': 0.5513194911255036, 'col_sample': 0.7343617167489205}. Best is trial 34 with value: 0.9221000113391541.\n"
     ]
    },
    {
     "name": "stdout",
     "output_type": "stream",
     "text": [
      "[iter 0] loss=0.9172 val_loss=0.0000 scale=16.0000 norm=9.2191\n",
      "[iter 100] loss=0.1666 val_loss=0.0000 scale=16.0000 norm=1.7430\n",
      "[iter 200] loss=0.1608 val_loss=0.0000 scale=16.0000 norm=1.6626\n",
      "[iter 300] loss=0.1589 val_loss=0.0000 scale=32.0000 norm=3.3020\n"
     ]
    },
    {
     "name": "stderr",
     "output_type": "stream",
     "text": [
      "[I 2025-05-30 23:48:24,443] Trial 36 finished with value: 0.9205125297652795 and parameters: {'n_estimators': 390, 'learning_rate': 0.0696287723402157, 'minibatch_frac': 0.5231181308736403, 'col_sample': 0.7854660377050279}. Best is trial 34 with value: 0.9221000113391541.\n"
     ]
    },
    {
     "name": "stdout",
     "output_type": "stream",
     "text": [
      "[iter 0] loss=0.9154 val_loss=0.0000 scale=16.0000 norm=9.2231\n",
      "[iter 100] loss=0.1586 val_loss=0.0000 scale=32.0000 norm=3.2977\n",
      "[iter 200] loss=0.1526 val_loss=0.0000 scale=32.0000 norm=3.1755\n"
     ]
    },
    {
     "name": "stderr",
     "output_type": "stream",
     "text": [
      "[I 2025-05-30 23:48:43,717] Trial 37 finished with value: 0.9207393128472616 and parameters: {'n_estimators': 256, 'learning_rate': 0.1672111455825622, 'minibatch_frac': 0.7365047748186775, 'col_sample': 0.6739056966468899}. Best is trial 34 with value: 0.9221000113391541.\n"
     ]
    },
    {
     "name": "stdout",
     "output_type": "stream",
     "text": [
      "[iter 0] loss=0.9160 val_loss=0.0000 scale=16.0000 norm=9.2190\n",
      "[iter 100] loss=0.1625 val_loss=0.0000 scale=16.0000 norm=1.6946\n",
      "[iter 200] loss=0.1582 val_loss=0.0000 scale=16.0000 norm=1.6358\n",
      "[iter 300] loss=0.1554 val_loss=0.0000 scale=16.0000 norm=1.6199\n",
      "[iter 400] loss=0.1514 val_loss=0.0000 scale=16.0000 norm=1.5838\n",
      "[iter 500] loss=0.1513 val_loss=0.0000 scale=16.0000 norm=1.5809\n",
      "[iter 600] loss=0.1520 val_loss=0.0000 scale=16.0000 norm=1.5883\n",
      "[iter 700] loss=0.1461 val_loss=0.0000 scale=16.0000 norm=1.5325\n",
      "[iter 800] loss=0.1484 val_loss=0.0000 scale=16.0000 norm=1.5589\n",
      "[iter 900] loss=0.1445 val_loss=0.0000 scale=16.0000 norm=1.5121\n"
     ]
    },
    {
     "name": "stderr",
     "output_type": "stream",
     "text": [
      "[I 2025-05-30 23:49:49,462] Trial 38 finished with value: 0.9211928790112257 and parameters: {'n_estimators': 960, 'learning_rate': 0.10129572894230596, 'minibatch_frac': 0.568433635282877, 'col_sample': 0.8999964443709727}. Best is trial 34 with value: 0.9221000113391541.\n"
     ]
    },
    {
     "name": "stdout",
     "output_type": "stream",
     "text": [
      "[iter 0] loss=0.9170 val_loss=0.0000 scale=16.0000 norm=9.2305\n",
      "[iter 100] loss=0.1571 val_loss=0.0000 scale=32.0000 norm=3.2392\n",
      "[iter 200] loss=0.1503 val_loss=0.0000 scale=8.0000 norm=0.7781\n",
      "[iter 300] loss=0.1466 val_loss=0.0000 scale=16.0000 norm=1.5270\n",
      "[iter 400] loss=0.1418 val_loss=0.0000 scale=16.0000 norm=1.4929\n",
      "[iter 500] loss=0.1406 val_loss=0.0000 scale=8.0000 norm=0.7442\n"
     ]
    },
    {
     "name": "stderr",
     "output_type": "stream",
     "text": [
      "[I 2025-05-30 23:50:35,659] Trial 39 finished with value: 0.918925048191405 and parameters: {'n_estimators': 584, 'learning_rate': 0.23166059970377148, 'minibatch_frac': 0.776346248166055, 'col_sample': 0.7146760192479087}. Best is trial 34 with value: 0.9221000113391541.\n"
     ]
    },
    {
     "name": "stdout",
     "output_type": "stream",
     "text": [
      "[iter 0] loss=0.9170 val_loss=0.0000 scale=16.0000 norm=9.2194\n",
      "[iter 100] loss=0.2129 val_loss=0.0000 scale=32.0000 norm=4.5863\n",
      "[iter 200] loss=0.1820 val_loss=0.0000 scale=32.0000 norm=3.7956\n",
      "[iter 300] loss=0.1745 val_loss=0.0000 scale=64.0000 norm=7.2923\n",
      "[iter 400] loss=0.1699 val_loss=0.0000 scale=16.0000 norm=1.7719\n",
      "[iter 500] loss=0.1685 val_loss=0.0000 scale=16.0000 norm=1.7579\n",
      "[iter 600] loss=0.1698 val_loss=0.0000 scale=32.0000 norm=3.5092\n",
      "[iter 700] loss=0.1654 val_loss=0.0000 scale=32.0000 norm=3.4404\n",
      "[iter 800] loss=0.1674 val_loss=0.0000 scale=16.0000 norm=1.7334\n"
     ]
    },
    {
     "name": "stderr",
     "output_type": "stream",
     "text": [
      "[I 2025-05-30 23:51:27,754] Trial 40 finished with value: 0.921759836716181 and parameters: {'n_estimators': 888, 'learning_rate': 0.010208089188443892, 'minibatch_frac': 0.5015039964364234, 'col_sample': 0.756202265914211}. Best is trial 34 with value: 0.9221000113391541.\n"
     ]
    },
    {
     "name": "stdout",
     "output_type": "stream",
     "text": [
      "[iter 0] loss=0.9173 val_loss=0.0000 scale=16.0000 norm=9.2204\n",
      "[iter 100] loss=0.1917 val_loss=0.0000 scale=32.0000 norm=4.0672\n",
      "[iter 200] loss=0.1756 val_loss=0.0000 scale=32.0000 norm=3.6438\n",
      "[iter 300] loss=0.1714 val_loss=0.0000 scale=32.0000 norm=3.5733\n",
      "[iter 400] loss=0.1669 val_loss=0.0000 scale=16.0000 norm=1.7364\n",
      "[iter 500] loss=0.1662 val_loss=0.0000 scale=16.0000 norm=1.7301\n",
      "[iter 600] loss=0.1672 val_loss=0.0000 scale=16.0000 norm=1.7290\n",
      "[iter 700] loss=0.1633 val_loss=0.0000 scale=16.0000 norm=1.6973\n",
      "[iter 800] loss=0.1652 val_loss=0.0000 scale=16.0000 norm=1.7135\n",
      "[iter 900] loss=0.1612 val_loss=0.0000 scale=16.0000 norm=1.6691\n"
     ]
    },
    {
     "name": "stderr",
     "output_type": "stream",
     "text": [
      "[I 2025-05-30 23:52:26,865] Trial 41 finished with value: 0.9211928790112257 and parameters: {'n_estimators': 903, 'learning_rate': 0.012857202595206764, 'minibatch_frac': 0.5075635120935909, 'col_sample': 0.9404997163466924}. Best is trial 34 with value: 0.9221000113391541.\n"
     ]
    },
    {
     "name": "stdout",
     "output_type": "stream",
     "text": [
      "[iter 0] loss=0.9180 val_loss=0.0000 scale=16.0000 norm=9.2283\n",
      "[iter 100] loss=0.1591 val_loss=0.0000 scale=16.0000 norm=1.6454\n",
      "[iter 200] loss=0.1530 val_loss=0.0000 scale=16.0000 norm=1.5746\n",
      "[iter 300] loss=0.1501 val_loss=0.0000 scale=16.0000 norm=1.5535\n",
      "[iter 400] loss=0.1448 val_loss=0.0000 scale=16.0000 norm=1.5073\n"
     ]
    },
    {
     "name": "stderr",
     "output_type": "stream",
     "text": [
      "[I 2025-05-30 23:52:55,836] Trial 42 finished with value: 0.9182446989454587 and parameters: {'n_estimators': 463, 'learning_rate': 0.25901916571287864, 'minibatch_frac': 0.5352741862392087, 'col_sample': 0.7611042592901477}. Best is trial 34 with value: 0.9221000113391541.\n"
     ]
    },
    {
     "name": "stdout",
     "output_type": "stream",
     "text": [
      "[iter 0] loss=0.9170 val_loss=0.0000 scale=16.0000 norm=9.2185\n",
      "[iter 100] loss=0.1729 val_loss=0.0000 scale=32.0000 norm=3.6184\n",
      "[iter 200] loss=0.1643 val_loss=0.0000 scale=16.0000 norm=1.7042\n",
      "[iter 300] loss=0.1620 val_loss=0.0000 scale=16.0000 norm=1.6890\n",
      "[iter 400] loss=0.1576 val_loss=0.0000 scale=16.0000 norm=1.6473\n",
      "[iter 500] loss=0.1567 val_loss=0.0000 scale=16.0000 norm=1.6420\n",
      "[iter 600] loss=0.1572 val_loss=0.0000 scale=32.0000 norm=3.2725\n",
      "[iter 700] loss=0.1536 val_loss=0.0000 scale=32.0000 norm=3.2189\n",
      "[iter 800] loss=0.1548 val_loss=0.0000 scale=16.0000 norm=1.6210\n",
      "[iter 900] loss=0.1512 val_loss=0.0000 scale=8.0000 norm=0.7896\n"
     ]
    },
    {
     "name": "stderr",
     "output_type": "stream",
     "text": [
      "[I 2025-05-30 23:53:48,631] Trial 43 finished with value: 0.9203991382242884 and parameters: {'n_estimators': 965, 'learning_rate': 0.04650974826604267, 'minibatch_frac': 0.5027330032411542, 'col_sample': 0.6148943353556207}. Best is trial 34 with value: 0.9221000113391541.\n"
     ]
    },
    {
     "name": "stdout",
     "output_type": "stream",
     "text": [
      "[iter 0] loss=0.9178 val_loss=0.0000 scale=16.0000 norm=9.2289\n",
      "[iter 100] loss=0.1836 val_loss=0.0000 scale=32.0000 norm=3.8635\n",
      "[iter 200] loss=0.1710 val_loss=0.0000 scale=32.0000 norm=3.5469\n",
      "[iter 300] loss=0.1671 val_loss=0.0000 scale=32.0000 norm=3.4890\n",
      "[iter 400] loss=0.1626 val_loss=0.0000 scale=16.0000 norm=1.6999\n",
      "[iter 500] loss=0.1629 val_loss=0.0000 scale=16.0000 norm=1.6958\n",
      "[iter 600] loss=0.1645 val_loss=0.0000 scale=32.0000 norm=3.4130\n"
     ]
    },
    {
     "name": "stderr",
     "output_type": "stream",
     "text": [
      "[I 2025-05-30 23:54:35,170] Trial 44 finished with value: 0.921873228257172 and parameters: {'n_estimators': 700, 'learning_rate': 0.019390308343051235, 'minibatch_frac': 0.5444136406464188, 'col_sample': 0.815885649193295}. Best is trial 34 with value: 0.9221000113391541.\n"
     ]
    },
    {
     "name": "stdout",
     "output_type": "stream",
     "text": [
      "[iter 0] loss=0.9153 val_loss=0.0000 scale=16.0000 norm=9.2172\n",
      "[iter 100] loss=0.1793 val_loss=0.0000 scale=32.0000 norm=3.7673\n",
      "[iter 200] loss=0.1693 val_loss=0.0000 scale=16.0000 norm=1.7544\n",
      "[iter 300] loss=0.1651 val_loss=0.0000 scale=64.0000 norm=6.8801\n",
      "[iter 400] loss=0.1626 val_loss=0.0000 scale=16.0000 norm=1.7007\n",
      "[iter 500] loss=0.1614 val_loss=0.0000 scale=16.0000 norm=1.6879\n",
      "[iter 600] loss=0.1612 val_loss=0.0000 scale=32.0000 norm=3.3592\n"
     ]
    },
    {
     "name": "stderr",
     "output_type": "stream",
     "text": [
      "[I 2025-05-30 23:55:40,350] Trial 45 finished with value: 0.9205125297652795 and parameters: {'n_estimators': 694, 'learning_rate': 0.021146631625088487, 'minibatch_frac': 0.6453662953584776, 'col_sample': 0.8222633476148896}. Best is trial 34 with value: 0.9221000113391541.\n"
     ]
    },
    {
     "name": "stdout",
     "output_type": "stream",
     "text": [
      "[iter 0] loss=0.9180 val_loss=0.0000 scale=16.0000 norm=9.2285\n",
      "[iter 100] loss=0.1661 val_loss=0.0000 scale=16.0000 norm=1.7331\n",
      "[iter 200] loss=0.1609 val_loss=0.0000 scale=16.0000 norm=1.6686\n",
      "[iter 300] loss=0.1589 val_loss=0.0000 scale=16.0000 norm=1.6571\n",
      "[iter 400] loss=0.1542 val_loss=0.0000 scale=16.0000 norm=1.6167\n",
      "[iter 500] loss=0.1545 val_loss=0.0000 scale=16.0000 norm=1.6140\n",
      "[iter 600] loss=0.1559 val_loss=0.0000 scale=16.0000 norm=1.6229\n",
      "[iter 700] loss=0.1505 val_loss=0.0000 scale=16.0000 norm=1.5766\n"
     ]
    },
    {
     "name": "stderr",
     "output_type": "stream",
     "text": [
      "[I 2025-05-30 23:56:47,459] Trial 46 finished with value: 0.9208527043882526 and parameters: {'n_estimators': 792, 'learning_rate': 0.06259507548116723, 'minibatch_frac': 0.5402504678453963, 'col_sample': 0.8748527250628931}. Best is trial 34 with value: 0.9221000113391541.\n"
     ]
    },
    {
     "name": "stdout",
     "output_type": "stream",
     "text": [
      "[iter 0] loss=0.9165 val_loss=0.0000 scale=16.0000 norm=9.2212\n",
      "[iter 100] loss=0.1775 val_loss=0.0000 scale=32.0000 norm=3.7342\n",
      "[iter 200] loss=0.1686 val_loss=0.0000 scale=64.0000 norm=6.9904\n",
      "[iter 300] loss=0.1654 val_loss=0.0000 scale=32.0000 norm=3.4461\n",
      "[iter 400] loss=0.1609 val_loss=0.0000 scale=16.0000 norm=1.6825\n",
      "[iter 500] loss=0.1620 val_loss=0.0000 scale=16.0000 norm=1.6882\n",
      "[iter 600] loss=0.1628 val_loss=0.0000 scale=32.0000 norm=3.3831\n",
      "[iter 700] loss=0.1564 val_loss=0.0000 scale=16.0000 norm=1.6356\n",
      "[iter 800] loss=0.1600 val_loss=0.0000 scale=16.0000 norm=1.6714\n"
     ]
    },
    {
     "name": "stderr",
     "output_type": "stream",
     "text": [
      "[I 2025-05-30 23:59:12,672] Trial 47 finished with value: 0.9202857466832974 and parameters: {'n_estimators': 898, 'learning_rate': 0.023648444711817377, 'minibatch_frac': 0.582477646577153, 'col_sample': 0.8035713649527183}. Best is trial 34 with value: 0.9221000113391541.\n"
     ]
    },
    {
     "name": "stdout",
     "output_type": "stream",
     "text": [
      "[iter 0] loss=0.9163 val_loss=0.0000 scale=16.0000 norm=9.2206\n",
      "[iter 100] loss=0.1612 val_loss=0.0000 scale=16.0000 norm=1.6744\n",
      "[iter 200] loss=0.1566 val_loss=0.0000 scale=32.0000 norm=3.2225\n",
      "[iter 300] loss=0.1528 val_loss=0.0000 scale=16.0000 norm=1.5910\n",
      "[iter 400] loss=0.1477 val_loss=0.0000 scale=16.0000 norm=1.5490\n",
      "[iter 500] loss=0.1477 val_loss=0.0000 scale=16.0000 norm=1.5457\n",
      "[iter 600] loss=0.1477 val_loss=0.0000 scale=32.0000 norm=3.0920\n",
      "[iter 700] loss=0.1421 val_loss=0.0000 scale=16.0000 norm=1.4955\n",
      "[iter 800] loss=0.1447 val_loss=0.0000 scale=16.0000 norm=1.5235\n"
     ]
    },
    {
     "name": "stderr",
     "output_type": "stream",
     "text": [
      "[I 2025-05-31 00:00:43,148] Trial 48 finished with value: 0.9208527043882526 and parameters: {'n_estimators': 853, 'learning_rate': 0.1405021242101706, 'minibatch_frac': 0.5751508972372749, 'col_sample': 0.7548291885711689}. Best is trial 34 with value: 0.9221000113391541.\n"
     ]
    },
    {
     "name": "stdout",
     "output_type": "stream",
     "text": [
      "[iter 0] loss=0.9176 val_loss=0.0000 scale=16.0000 norm=9.2319\n",
      "[iter 100] loss=0.1663 val_loss=0.0000 scale=32.0000 norm=3.4426\n",
      "[iter 200] loss=0.1602 val_loss=0.0000 scale=16.0000 norm=1.6636\n",
      "[iter 300] loss=0.1571 val_loss=0.0000 scale=32.0000 norm=3.2772\n",
      "[iter 400] loss=0.1542 val_loss=0.0000 scale=16.0000 norm=1.6146\n",
      "[iter 500] loss=0.1528 val_loss=0.0000 scale=16.0000 norm=1.6073\n",
      "[iter 600] loss=0.1509 val_loss=0.0000 scale=32.0000 norm=3.1809\n",
      "[iter 700] loss=0.1500 val_loss=0.0000 scale=16.0000 norm=1.5809\n"
     ]
    },
    {
     "name": "stderr",
     "output_type": "stream",
     "text": [
      "[I 2025-05-31 00:02:21,115] Trial 49 finished with value: 0.9203991382242884 and parameters: {'n_estimators': 775, 'learning_rate': 0.04910436420272886, 'minibatch_frac': 0.8877119437876768, 'col_sample': 0.8506709930400852}. Best is trial 34 with value: 0.9221000113391541.\n"
     ]
    },
    {
     "name": "stdout",
     "output_type": "stream",
     "text": [
      "Best Accuracy: {study.best_value:.4f}\n",
      "Best Hyperparameters:\n",
      "  n_estimators: 949\n",
      "  learning_rate: 0.04869884839303985\n",
      "  minibatch_frac: 0.5434060060726307\n",
      "  col_sample: 0.7310257531927019\n"
     ]
    }
   ],
   "source": [
    "def objective(trial):\n",
    "    n_estimators = trial.suggest_int(\"n_estimators\", 100, 1000)\n",
    "    learning_rate = trial.suggest_float(\"learning_rate\", 0.01, 0.3)\n",
    "    minibatch_frac = trial.suggest_float(\"minibatch_frac\", 0.5, 1.0)\n",
    "    col_sample = trial.suggest_float(\"col_sample\", 0.5, 1.0)\n",
    "    \n",
    "    clf = NGBClassifier(\n",
    "        Dist=k_categorical(3),\n",
    "        n_estimators=n_estimators,\n",
    "        learning_rate=learning_rate,\n",
    "        minibatch_frac=minibatch_frac,\n",
    "        col_sample=col_sample,\n",
    "        natural_gradient=False,\n",
    "        random_state=42,\n",
    "    )\n",
    "    \n",
    "    clf.fit(X_train, Y_train)\n",
    "    \n",
    "    res = clf.predict(X_test)\n",
    "    from sklearn.metrics import accuracy_score\n",
    "    accuracy = accuracy_score(Y_test,res)\n",
    "\n",
    "    return accuracy\n",
    "study = optuna.create_study(study_name = \"ngboost\", direction=\"maximize\", storage = \"sqlite:///ngboost.db\")\n",
    "study.optimize(objective, n_trials=50)\n",
    "\n",
    "print(\"Best Accuracy: {study.best_value:.4f}\")\n",
    "print(\"Best Hyperparameters:\")\n",
    "for k, v in study.best_params.items():\n",
    "    print(f\"  {k}: {v}\")"
   ]
  },
  {
   "cell_type": "code",
   "execution_count": 7,
   "id": "1942dcc5",
   "metadata": {},
   "outputs": [
    {
     "name": "stdout",
     "output_type": "stream",
     "text": [
      "[iter 0] loss=0.9167 val_loss=0.0000 scale=1.0000 norm=3.4057\n",
      "[iter 100] loss=0.1647 val_loss=0.0000 scale=1.0000 norm=1.5104\n",
      "[iter 200] loss=0.1614 val_loss=0.0000 scale=1.0000 norm=1.5112\n",
      "[iter 300] loss=0.1627 val_loss=0.0000 scale=2.0000 norm=3.0558\n",
      "[iter 400] loss=0.1579 val_loss=0.0000 scale=1.0000 norm=1.5069\n",
      "[iter 500] loss=0.1540 val_loss=0.0000 scale=1.0000 norm=1.4956\n",
      "[iter 600] loss=0.1604 val_loss=0.0000 scale=2.0000 norm=3.0487\n",
      "[iter 700] loss=0.1554 val_loss=0.0000 scale=2.0000 norm=2.9948\n",
      "[iter 800] loss=0.1558 val_loss=0.0000 scale=2.0000 norm=3.0241\n",
      "[iter 900] loss=0.1564 val_loss=0.0000 scale=2.0000 norm=3.0167\n"
     ]
    },
    {
     "data": {
      "text/html": [
       "<style>#sk-container-id-1 {\n",
       "  /* Definition of color scheme common for light and dark mode */\n",
       "  --sklearn-color-text: #000;\n",
       "  --sklearn-color-text-muted: #666;\n",
       "  --sklearn-color-line: gray;\n",
       "  /* Definition of color scheme for unfitted estimators */\n",
       "  --sklearn-color-unfitted-level-0: #fff5e6;\n",
       "  --sklearn-color-unfitted-level-1: #f6e4d2;\n",
       "  --sklearn-color-unfitted-level-2: #ffe0b3;\n",
       "  --sklearn-color-unfitted-level-3: chocolate;\n",
       "  /* Definition of color scheme for fitted estimators */\n",
       "  --sklearn-color-fitted-level-0: #f0f8ff;\n",
       "  --sklearn-color-fitted-level-1: #d4ebff;\n",
       "  --sklearn-color-fitted-level-2: #b3dbfd;\n",
       "  --sklearn-color-fitted-level-3: cornflowerblue;\n",
       "\n",
       "  /* Specific color for light theme */\n",
       "  --sklearn-color-text-on-default-background: var(--sg-text-color, var(--theme-code-foreground, var(--jp-content-font-color1, black)));\n",
       "  --sklearn-color-background: var(--sg-background-color, var(--theme-background, var(--jp-layout-color0, white)));\n",
       "  --sklearn-color-border-box: var(--sg-text-color, var(--theme-code-foreground, var(--jp-content-font-color1, black)));\n",
       "  --sklearn-color-icon: #696969;\n",
       "\n",
       "  @media (prefers-color-scheme: dark) {\n",
       "    /* Redefinition of color scheme for dark theme */\n",
       "    --sklearn-color-text-on-default-background: var(--sg-text-color, var(--theme-code-foreground, var(--jp-content-font-color1, white)));\n",
       "    --sklearn-color-background: var(--sg-background-color, var(--theme-background, var(--jp-layout-color0, #111)));\n",
       "    --sklearn-color-border-box: var(--sg-text-color, var(--theme-code-foreground, var(--jp-content-font-color1, white)));\n",
       "    --sklearn-color-icon: #878787;\n",
       "  }\n",
       "}\n",
       "\n",
       "#sk-container-id-1 {\n",
       "  color: var(--sklearn-color-text);\n",
       "}\n",
       "\n",
       "#sk-container-id-1 pre {\n",
       "  padding: 0;\n",
       "}\n",
       "\n",
       "#sk-container-id-1 input.sk-hidden--visually {\n",
       "  border: 0;\n",
       "  clip: rect(1px 1px 1px 1px);\n",
       "  clip: rect(1px, 1px, 1px, 1px);\n",
       "  height: 1px;\n",
       "  margin: -1px;\n",
       "  overflow: hidden;\n",
       "  padding: 0;\n",
       "  position: absolute;\n",
       "  width: 1px;\n",
       "}\n",
       "\n",
       "#sk-container-id-1 div.sk-dashed-wrapped {\n",
       "  border: 1px dashed var(--sklearn-color-line);\n",
       "  margin: 0 0.4em 0.5em 0.4em;\n",
       "  box-sizing: border-box;\n",
       "  padding-bottom: 0.4em;\n",
       "  background-color: var(--sklearn-color-background);\n",
       "}\n",
       "\n",
       "#sk-container-id-1 div.sk-container {\n",
       "  /* jupyter's `normalize.less` sets `[hidden] { display: none; }`\n",
       "     but bootstrap.min.css set `[hidden] { display: none !important; }`\n",
       "     so we also need the `!important` here to be able to override the\n",
       "     default hidden behavior on the sphinx rendered scikit-learn.org.\n",
       "     See: https://github.com/scikit-learn/scikit-learn/issues/21755 */\n",
       "  display: inline-block !important;\n",
       "  position: relative;\n",
       "}\n",
       "\n",
       "#sk-container-id-1 div.sk-text-repr-fallback {\n",
       "  display: none;\n",
       "}\n",
       "\n",
       "div.sk-parallel-item,\n",
       "div.sk-serial,\n",
       "div.sk-item {\n",
       "  /* draw centered vertical line to link estimators */\n",
       "  background-image: linear-gradient(var(--sklearn-color-text-on-default-background), var(--sklearn-color-text-on-default-background));\n",
       "  background-size: 2px 100%;\n",
       "  background-repeat: no-repeat;\n",
       "  background-position: center center;\n",
       "}\n",
       "\n",
       "/* Parallel-specific style estimator block */\n",
       "\n",
       "#sk-container-id-1 div.sk-parallel-item::after {\n",
       "  content: \"\";\n",
       "  width: 100%;\n",
       "  border-bottom: 2px solid var(--sklearn-color-text-on-default-background);\n",
       "  flex-grow: 1;\n",
       "}\n",
       "\n",
       "#sk-container-id-1 div.sk-parallel {\n",
       "  display: flex;\n",
       "  align-items: stretch;\n",
       "  justify-content: center;\n",
       "  background-color: var(--sklearn-color-background);\n",
       "  position: relative;\n",
       "}\n",
       "\n",
       "#sk-container-id-1 div.sk-parallel-item {\n",
       "  display: flex;\n",
       "  flex-direction: column;\n",
       "}\n",
       "\n",
       "#sk-container-id-1 div.sk-parallel-item:first-child::after {\n",
       "  align-self: flex-end;\n",
       "  width: 50%;\n",
       "}\n",
       "\n",
       "#sk-container-id-1 div.sk-parallel-item:last-child::after {\n",
       "  align-self: flex-start;\n",
       "  width: 50%;\n",
       "}\n",
       "\n",
       "#sk-container-id-1 div.sk-parallel-item:only-child::after {\n",
       "  width: 0;\n",
       "}\n",
       "\n",
       "/* Serial-specific style estimator block */\n",
       "\n",
       "#sk-container-id-1 div.sk-serial {\n",
       "  display: flex;\n",
       "  flex-direction: column;\n",
       "  align-items: center;\n",
       "  background-color: var(--sklearn-color-background);\n",
       "  padding-right: 1em;\n",
       "  padding-left: 1em;\n",
       "}\n",
       "\n",
       "\n",
       "/* Toggleable style: style used for estimator/Pipeline/ColumnTransformer box that is\n",
       "clickable and can be expanded/collapsed.\n",
       "- Pipeline and ColumnTransformer use this feature and define the default style\n",
       "- Estimators will overwrite some part of the style using the `sk-estimator` class\n",
       "*/\n",
       "\n",
       "/* Pipeline and ColumnTransformer style (default) */\n",
       "\n",
       "#sk-container-id-1 div.sk-toggleable {\n",
       "  /* Default theme specific background. It is overwritten whether we have a\n",
       "  specific estimator or a Pipeline/ColumnTransformer */\n",
       "  background-color: var(--sklearn-color-background);\n",
       "}\n",
       "\n",
       "/* Toggleable label */\n",
       "#sk-container-id-1 label.sk-toggleable__label {\n",
       "  cursor: pointer;\n",
       "  display: flex;\n",
       "  width: 100%;\n",
       "  margin-bottom: 0;\n",
       "  padding: 0.5em;\n",
       "  box-sizing: border-box;\n",
       "  text-align: center;\n",
       "  align-items: start;\n",
       "  justify-content: space-between;\n",
       "  gap: 0.5em;\n",
       "}\n",
       "\n",
       "#sk-container-id-1 label.sk-toggleable__label .caption {\n",
       "  font-size: 0.6rem;\n",
       "  font-weight: lighter;\n",
       "  color: var(--sklearn-color-text-muted);\n",
       "}\n",
       "\n",
       "#sk-container-id-1 label.sk-toggleable__label-arrow:before {\n",
       "  /* Arrow on the left of the label */\n",
       "  content: \"▸\";\n",
       "  float: left;\n",
       "  margin-right: 0.25em;\n",
       "  color: var(--sklearn-color-icon);\n",
       "}\n",
       "\n",
       "#sk-container-id-1 label.sk-toggleable__label-arrow:hover:before {\n",
       "  color: var(--sklearn-color-text);\n",
       "}\n",
       "\n",
       "/* Toggleable content - dropdown */\n",
       "\n",
       "#sk-container-id-1 div.sk-toggleable__content {\n",
       "  max-height: 0;\n",
       "  max-width: 0;\n",
       "  overflow: hidden;\n",
       "  text-align: left;\n",
       "  /* unfitted */\n",
       "  background-color: var(--sklearn-color-unfitted-level-0);\n",
       "}\n",
       "\n",
       "#sk-container-id-1 div.sk-toggleable__content.fitted {\n",
       "  /* fitted */\n",
       "  background-color: var(--sklearn-color-fitted-level-0);\n",
       "}\n",
       "\n",
       "#sk-container-id-1 div.sk-toggleable__content pre {\n",
       "  margin: 0.2em;\n",
       "  border-radius: 0.25em;\n",
       "  color: var(--sklearn-color-text);\n",
       "  /* unfitted */\n",
       "  background-color: var(--sklearn-color-unfitted-level-0);\n",
       "}\n",
       "\n",
       "#sk-container-id-1 div.sk-toggleable__content.fitted pre {\n",
       "  /* unfitted */\n",
       "  background-color: var(--sklearn-color-fitted-level-0);\n",
       "}\n",
       "\n",
       "#sk-container-id-1 input.sk-toggleable__control:checked~div.sk-toggleable__content {\n",
       "  /* Expand drop-down */\n",
       "  max-height: 200px;\n",
       "  max-width: 100%;\n",
       "  overflow: auto;\n",
       "}\n",
       "\n",
       "#sk-container-id-1 input.sk-toggleable__control:checked~label.sk-toggleable__label-arrow:before {\n",
       "  content: \"▾\";\n",
       "}\n",
       "\n",
       "/* Pipeline/ColumnTransformer-specific style */\n",
       "\n",
       "#sk-container-id-1 div.sk-label input.sk-toggleable__control:checked~label.sk-toggleable__label {\n",
       "  color: var(--sklearn-color-text);\n",
       "  background-color: var(--sklearn-color-unfitted-level-2);\n",
       "}\n",
       "\n",
       "#sk-container-id-1 div.sk-label.fitted input.sk-toggleable__control:checked~label.sk-toggleable__label {\n",
       "  background-color: var(--sklearn-color-fitted-level-2);\n",
       "}\n",
       "\n",
       "/* Estimator-specific style */\n",
       "\n",
       "/* Colorize estimator box */\n",
       "#sk-container-id-1 div.sk-estimator input.sk-toggleable__control:checked~label.sk-toggleable__label {\n",
       "  /* unfitted */\n",
       "  background-color: var(--sklearn-color-unfitted-level-2);\n",
       "}\n",
       "\n",
       "#sk-container-id-1 div.sk-estimator.fitted input.sk-toggleable__control:checked~label.sk-toggleable__label {\n",
       "  /* fitted */\n",
       "  background-color: var(--sklearn-color-fitted-level-2);\n",
       "}\n",
       "\n",
       "#sk-container-id-1 div.sk-label label.sk-toggleable__label,\n",
       "#sk-container-id-1 div.sk-label label {\n",
       "  /* The background is the default theme color */\n",
       "  color: var(--sklearn-color-text-on-default-background);\n",
       "}\n",
       "\n",
       "/* On hover, darken the color of the background */\n",
       "#sk-container-id-1 div.sk-label:hover label.sk-toggleable__label {\n",
       "  color: var(--sklearn-color-text);\n",
       "  background-color: var(--sklearn-color-unfitted-level-2);\n",
       "}\n",
       "\n",
       "/* Label box, darken color on hover, fitted */\n",
       "#sk-container-id-1 div.sk-label.fitted:hover label.sk-toggleable__label.fitted {\n",
       "  color: var(--sklearn-color-text);\n",
       "  background-color: var(--sklearn-color-fitted-level-2);\n",
       "}\n",
       "\n",
       "/* Estimator label */\n",
       "\n",
       "#sk-container-id-1 div.sk-label label {\n",
       "  font-family: monospace;\n",
       "  font-weight: bold;\n",
       "  display: inline-block;\n",
       "  line-height: 1.2em;\n",
       "}\n",
       "\n",
       "#sk-container-id-1 div.sk-label-container {\n",
       "  text-align: center;\n",
       "}\n",
       "\n",
       "/* Estimator-specific */\n",
       "#sk-container-id-1 div.sk-estimator {\n",
       "  font-family: monospace;\n",
       "  border: 1px dotted var(--sklearn-color-border-box);\n",
       "  border-radius: 0.25em;\n",
       "  box-sizing: border-box;\n",
       "  margin-bottom: 0.5em;\n",
       "  /* unfitted */\n",
       "  background-color: var(--sklearn-color-unfitted-level-0);\n",
       "}\n",
       "\n",
       "#sk-container-id-1 div.sk-estimator.fitted {\n",
       "  /* fitted */\n",
       "  background-color: var(--sklearn-color-fitted-level-0);\n",
       "}\n",
       "\n",
       "/* on hover */\n",
       "#sk-container-id-1 div.sk-estimator:hover {\n",
       "  /* unfitted */\n",
       "  background-color: var(--sklearn-color-unfitted-level-2);\n",
       "}\n",
       "\n",
       "#sk-container-id-1 div.sk-estimator.fitted:hover {\n",
       "  /* fitted */\n",
       "  background-color: var(--sklearn-color-fitted-level-2);\n",
       "}\n",
       "\n",
       "/* Specification for estimator info (e.g. \"i\" and \"?\") */\n",
       "\n",
       "/* Common style for \"i\" and \"?\" */\n",
       "\n",
       ".sk-estimator-doc-link,\n",
       "a:link.sk-estimator-doc-link,\n",
       "a:visited.sk-estimator-doc-link {\n",
       "  float: right;\n",
       "  font-size: smaller;\n",
       "  line-height: 1em;\n",
       "  font-family: monospace;\n",
       "  background-color: var(--sklearn-color-background);\n",
       "  border-radius: 1em;\n",
       "  height: 1em;\n",
       "  width: 1em;\n",
       "  text-decoration: none !important;\n",
       "  margin-left: 0.5em;\n",
       "  text-align: center;\n",
       "  /* unfitted */\n",
       "  border: var(--sklearn-color-unfitted-level-1) 1pt solid;\n",
       "  color: var(--sklearn-color-unfitted-level-1);\n",
       "}\n",
       "\n",
       ".sk-estimator-doc-link.fitted,\n",
       "a:link.sk-estimator-doc-link.fitted,\n",
       "a:visited.sk-estimator-doc-link.fitted {\n",
       "  /* fitted */\n",
       "  border: var(--sklearn-color-fitted-level-1) 1pt solid;\n",
       "  color: var(--sklearn-color-fitted-level-1);\n",
       "}\n",
       "\n",
       "/* On hover */\n",
       "div.sk-estimator:hover .sk-estimator-doc-link:hover,\n",
       ".sk-estimator-doc-link:hover,\n",
       "div.sk-label-container:hover .sk-estimator-doc-link:hover,\n",
       ".sk-estimator-doc-link:hover {\n",
       "  /* unfitted */\n",
       "  background-color: var(--sklearn-color-unfitted-level-3);\n",
       "  color: var(--sklearn-color-background);\n",
       "  text-decoration: none;\n",
       "}\n",
       "\n",
       "div.sk-estimator.fitted:hover .sk-estimator-doc-link.fitted:hover,\n",
       ".sk-estimator-doc-link.fitted:hover,\n",
       "div.sk-label-container:hover .sk-estimator-doc-link.fitted:hover,\n",
       ".sk-estimator-doc-link.fitted:hover {\n",
       "  /* fitted */\n",
       "  background-color: var(--sklearn-color-fitted-level-3);\n",
       "  color: var(--sklearn-color-background);\n",
       "  text-decoration: none;\n",
       "}\n",
       "\n",
       "/* Span, style for the box shown on hovering the info icon */\n",
       ".sk-estimator-doc-link span {\n",
       "  display: none;\n",
       "  z-index: 9999;\n",
       "  position: relative;\n",
       "  font-weight: normal;\n",
       "  right: .2ex;\n",
       "  padding: .5ex;\n",
       "  margin: .5ex;\n",
       "  width: min-content;\n",
       "  min-width: 20ex;\n",
       "  max-width: 50ex;\n",
       "  color: var(--sklearn-color-text);\n",
       "  box-shadow: 2pt 2pt 4pt #999;\n",
       "  /* unfitted */\n",
       "  background: var(--sklearn-color-unfitted-level-0);\n",
       "  border: .5pt solid var(--sklearn-color-unfitted-level-3);\n",
       "}\n",
       "\n",
       ".sk-estimator-doc-link.fitted span {\n",
       "  /* fitted */\n",
       "  background: var(--sklearn-color-fitted-level-0);\n",
       "  border: var(--sklearn-color-fitted-level-3);\n",
       "}\n",
       "\n",
       ".sk-estimator-doc-link:hover span {\n",
       "  display: block;\n",
       "}\n",
       "\n",
       "/* \"?\"-specific style due to the `<a>` HTML tag */\n",
       "\n",
       "#sk-container-id-1 a.estimator_doc_link {\n",
       "  float: right;\n",
       "  font-size: 1rem;\n",
       "  line-height: 1em;\n",
       "  font-family: monospace;\n",
       "  background-color: var(--sklearn-color-background);\n",
       "  border-radius: 1rem;\n",
       "  height: 1rem;\n",
       "  width: 1rem;\n",
       "  text-decoration: none;\n",
       "  /* unfitted */\n",
       "  color: var(--sklearn-color-unfitted-level-1);\n",
       "  border: var(--sklearn-color-unfitted-level-1) 1pt solid;\n",
       "}\n",
       "\n",
       "#sk-container-id-1 a.estimator_doc_link.fitted {\n",
       "  /* fitted */\n",
       "  border: var(--sklearn-color-fitted-level-1) 1pt solid;\n",
       "  color: var(--sklearn-color-fitted-level-1);\n",
       "}\n",
       "\n",
       "/* On hover */\n",
       "#sk-container-id-1 a.estimator_doc_link:hover {\n",
       "  /* unfitted */\n",
       "  background-color: var(--sklearn-color-unfitted-level-3);\n",
       "  color: var(--sklearn-color-background);\n",
       "  text-decoration: none;\n",
       "}\n",
       "\n",
       "#sk-container-id-1 a.estimator_doc_link.fitted:hover {\n",
       "  /* fitted */\n",
       "  background-color: var(--sklearn-color-fitted-level-3);\n",
       "}\n",
       "</style><div id=\"sk-container-id-1\" class=\"sk-top-container\"><div class=\"sk-text-repr-fallback\"><pre>NGBClassifier(col_sample=0.7310257531927019, early_stopping_rounds=None,\n",
       "              learning_rate=0.04869884839303985,\n",
       "              minibatch_frac=0.5434060060726307, n_estimators=949,\n",
       "              random_state=RandomState(MT19937) at 0x260F85D2040,\n",
       "              validation_fraction=0.1)</pre><b>In a Jupyter environment, please rerun this cell to show the HTML representation or trust the notebook. <br />On GitHub, the HTML representation is unable to render, please try loading this page with nbviewer.org.</b></div><div class=\"sk-container\" hidden><div class=\"sk-item sk-dashed-wrapped\"><div class=\"sk-label-container\"><div class=\"sk-label  sk-toggleable\"><input class=\"sk-toggleable__control sk-hidden--visually\" id=\"sk-estimator-id-1\" type=\"checkbox\" ><label for=\"sk-estimator-id-1\" class=\"sk-toggleable__label  sk-toggleable__label-arrow\"><div><div>NGBClassifier</div></div><div><span class=\"sk-estimator-doc-link \">i<span>Not fitted</span></span></div></label><div class=\"sk-toggleable__content \"><pre>NGBClassifier(col_sample=0.7310257531927019, early_stopping_rounds=None,\n",
       "              learning_rate=0.04869884839303985,\n",
       "              minibatch_frac=0.5434060060726307, n_estimators=949,\n",
       "              random_state=RandomState(MT19937) at 0x260F85D2040,\n",
       "              validation_fraction=0.1)</pre></div> </div></div><div class=\"sk-parallel\"><div class=\"sk-parallel-item\"><div class=\"sk-item\"><div class=\"sk-label-container\"><div class=\"sk-label  sk-toggleable\"><input class=\"sk-toggleable__control sk-hidden--visually\" id=\"sk-estimator-id-2\" type=\"checkbox\" ><label for=\"sk-estimator-id-2\" class=\"sk-toggleable__label  sk-toggleable__label-arrow\"><div><div>Base: DecisionTreeRegressor</div></div></label><div class=\"sk-toggleable__content \"><pre>DecisionTreeRegressor(criterion=&#x27;friedman_mse&#x27;, max_depth=3)</pre></div> </div></div><div class=\"sk-serial\"><div class=\"sk-item\"><div class=\"sk-estimator  sk-toggleable\"><input class=\"sk-toggleable__control sk-hidden--visually\" id=\"sk-estimator-id-3\" type=\"checkbox\" ><label for=\"sk-estimator-id-3\" class=\"sk-toggleable__label  sk-toggleable__label-arrow\"><div><div>DecisionTreeRegressor</div></div><div><a class=\"sk-estimator-doc-link \" rel=\"noreferrer\" target=\"_blank\" href=\"https://scikit-learn.org/1.6/modules/generated/sklearn.tree.DecisionTreeRegressor.html\">?<span>Documentation for DecisionTreeRegressor</span></a></div></label><div class=\"sk-toggleable__content \"><pre>DecisionTreeRegressor(criterion=&#x27;friedman_mse&#x27;, max_depth=3)</pre></div> </div></div></div></div></div></div></div></div></div>"
      ],
      "text/plain": [
       "NGBClassifier(col_sample=0.7310257531927019, early_stopping_rounds=None,\n",
       "              learning_rate=0.04869884839303985,\n",
       "              minibatch_frac=0.5434060060726307, n_estimators=949,\n",
       "              random_state=RandomState(MT19937) at 0x260F85D2040,\n",
       "              validation_fraction=0.1)"
      ]
     },
     "execution_count": 7,
     "metadata": {},
     "output_type": "execute_result"
    }
   ],
   "source": [
    "model = NGBClassifier(Dist=k_categorical(3),  \n",
    "    n_estimators = 949,\n",
    "    learning_rate = 0.04869884839303985,\n",
    "    minibatch_frac = 0.5434060060726307,\n",
    "    col_sample =0.7310257531927019)\n",
    "# print(X_train)      \n",
    "model.fit(X_train, Y_train)"
   ]
  },
  {
   "cell_type": "code",
   "execution_count": 8,
   "id": "e426b8ee",
   "metadata": {},
   "outputs": [
    {
     "name": "stdout",
     "output_type": "stream",
     "text": [
      "[0 1 2 ... 2 2 2]\n",
      "[0 1 2 ... 2 2 2]\n",
      "0.9214196620932078\n",
      "              precision    recall  f1-score   support\n",
      "\n",
      "           0   0.788618  0.780322  0.784448      1616\n",
      "           1   0.789567  0.797605  0.793566      1670\n",
      "           2   1.000000  1.000000  1.000000      5533\n",
      "\n",
      "    accuracy                       0.921420      8819\n",
      "   macro avg   0.859395  0.859309  0.859338      8819\n",
      "weighted avg   0.921418  0.921420  0.921411      8819\n",
      "\n"
     ]
    }
   ],
   "source": [
    "res = model.predict(X_test)\n",
    "print(res)\n",
    "print(Y_test)\n",
    "from sklearn.metrics import accuracy_score\n",
    "accuracy = accuracy_score(Y_test,res)\n",
    "print(accuracy)\n",
    "from sklearn.metrics import classification_report\n",
    "print(classification_report(Y_test,res,digits=6))"
   ]
  },
  {
   "cell_type": "code",
   "execution_count": 9,
   "id": "6b151d56",
   "metadata": {},
   "outputs": [
    {
     "name": "stderr",
     "output_type": "stream",
     "text": [
      "PermutationExplainer explainer: 8820it [10:44:16,  4.38s/it]                            \n",
      "C:\\Users\\eddie\\AppData\\Local\\Temp\\ipykernel_44280\\1552002207.py:4: FutureWarning: The NumPy global RNG was seeded by calling `np.random.seed`. In a future version this function will no longer use the global RNG. Pass `rng` explicitly to opt-in to the new behaviour and silence this warning.\n",
      "  shap.summary_plot(shap_values, X_test,feature_names = features,plot_size=(20,15),plot_type=\"bar\",show=False)\n"
     ]
    },
    {
     "data": {
      "image/png": "[encoded data removed]",
      "text/plain": [
       "<Figure size 2000x1500 with 1 Axes>"
      ]
     },
     "metadata": {},
     "output_type": "display_data"
    }
   ],
   "source": [
    "import shap \n",
    "explainer = shap.Explainer(model.predict,X_test)\n",
    "shap_values = explainer(X_test)\n",
    "shap.summary_plot(shap_values, X_test,feature_names = features,plot_size=(20,15),plot_type=\"bar\",show=False)"
   ]
  },
  {
   "cell_type": "code",
   "execution_count": 10,
   "id": "4ac97471",
   "metadata": {},
   "outputs": [
    {
     "data": {
      "image/png": "[encoded data removed]",
      "text/plain": [
       "<Figure size 800x550 with 2 Axes>"
      ]
     },
     "metadata": {},
     "output_type": "display_data"
    }
   ],
   "source": [
    "explanation = shap.Explanation(\n",
    "    values=shap_values, \n",
    "    feature_names=features\n",
    ")\n",
    "shap.plots.beeswarm(explanation)"
   ]
  },
  {
   "cell_type": "code",
   "execution_count": 11,
   "id": "64c9bccd",
   "metadata": {},
   "outputs": [
    {
     "data": {
      "image/png": "[encoded data removed]",
      "text/plain": [
       "<Figure size 800x650 with 1 Axes>"
      ]
     },
     "metadata": {},
     "output_type": "display_data"
    }
   ],
   "source": [
    "shap.plots.bar(explanation)"
   ]
  },
  {
   "cell_type": "code",
   "execution_count": 12,
   "id": "6439b5fc",
   "metadata": {},
   "outputs": [],
   "source": [
    "import matplotlib.pyplot as plt\n",
    "import os\n",
    "\n",
    "indices = [0, 1000, 2000, 3000, 4000, 5000, 6000, 7000, 8000]\n",
    "for i in indices:\n",
    "    shap.plots.waterfall(explanation[i], show=False)\n",
    "    plt.savefig(os.path.join(\"shap/ngboost/waterfall\", f\"waterfall_{i}.png\"), dpi = 300,bbox_inches=\"tight\")\n",
    "    plt.close()\n"
   ]
  },
  {
   "cell_type": "code",
   "execution_count": 13,
   "id": "e72accbc",
   "metadata": {},
   "outputs": [],
   "source": [
    "import matplotlib.pyplot as plt\n",
    "import os\n",
    "\n",
    "indices = [0, 1000, 2000, 3000, 4000, 5000, 6000, 7000, 8000]\n",
    "for i in indices:\n",
    "    shap.force_plot(shap_values[i],feature_names=['STATE', 'SEASON', 'DAY', 'HOUR', 'HARM_EV', 'MAN_COLL', 'BODY_TYP', 'AGE', 'GENDER', 'PER_TYP', 'SEAT_POS', 'REST_USE', 'AIR_BAG', 'DRINKING', 'ATST_TYP', 'ALC_RES', 'DRUGS', 'DSTATUS', 'ETHNICITY ', 'RUR_URB', 'FUNC_SYS', 'IMPACT1'], matplotlib=True, show=False)\n",
    "    plt.savefig(os.path.join(\"shap/ngboost/force/\", f\"force_{i}.png\"), dpi = 300,bbox_inches=\"tight\")\n",
    "    plt.close()\n"
   ]
  },
  {
   "cell_type": "code",
   "execution_count": 15,
   "id": "69cd5e4b",
   "metadata": {},
   "outputs": [
    {
     "data": {
      "image/png": "[encoded data removed]",
      "text/plain": [
       "<Figure size 640x480 with 2 Axes>"
      ]
     },
     "metadata": {},
     "output_type": "display_data"
    },
    {
     "data": {
      "image/png": "[encoded data removed]",
      "text/plain": [
       "<Figure size 640x480 with 2 Axes>"
      ]
     },
     "metadata": {},
     "output_type": "display_data"
    }
   ],
   "source": [
    "from sklearn.metrics import confusion_matrix\n",
    "from sklearn.metrics import ConfusionMatrixDisplay\n",
    "confusionmatrix = confusion_matrix(Y_test, res)\n",
    "cm_display = ConfusionMatrixDisplay(confusionmatrix)\n",
    "cm_display.plot()\n",
    "plt.show()"
   ]
  }
 ],
 "metadata": {
  "kernelspec": {
   "display_name": "SSTP-Injury",
   "language": "python",
   "name": "python3"
  },
  "language_info": {
   "codemirror_mode": {
    "name": "ipython",
    "version": 3
   },
   "file_extension": ".py",
   "mimetype": "text/x-python",
   "name": "python",
   "nbconvert_exporter": "python",
   "pygments_lexer": "ipython3",
   "version": "3.9.21"
  }
 },
 "nbformat": 4,
 "nbformat_minor": 5
}
