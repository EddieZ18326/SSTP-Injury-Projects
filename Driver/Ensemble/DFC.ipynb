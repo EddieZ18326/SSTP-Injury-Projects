{
 "cells": [
  {
   "cell_type": "code",
   "execution_count": 1,
   "metadata": {},
   "outputs": [
    {
     "name": "stdout",
     "output_type": "stream",
     "text": [
      "      0   1   2   3   4   5    6   7   8   9   10  11  12  13  14  15  16  17\n",
      "0      1   1   5   1  16   0  106   1   2  13   3  20   0   0   0   0   2   5\n",
      "1      1  10  12  10  15   2  104   2   2  13   3   8   0   1   0   0   1   5\n",
      "2      2   1   9  24  21   6  103   2   2  13   3   8   0   0   0   0   1   3\n",
      "3      1   1  12   9   8   2  102   1   1  11   3   8   0   0   0   0   2   3\n",
      "4      2   1   6   3  13   1  101   1   2  13   3   8   0   0   0   0   2   4\n",
      "...   ..  ..  ..  ..  ..  ..  ...  ..  ..  ..  ..  ..  ..  ..  ..  ..  ..  ..\n",
      "9919   1   1   5  30  17   0   60   1   1  11   3  20   0   0   0   0   2   2\n",
      "9920   1   1  10  29  18   6   60   1   1  11   3   3   0   0   0   0   2   3\n",
      "9921   4   1   6   6  16   6   60   2   1  11   3   8   0   0   0   0   1   4\n",
      "9922   1   1  11  15  13   6   60   1   1  11   3   8   0   1   0   0   1   5\n",
      "9923   1   1  12  29  21   6   60   1   1  11  20   8   0   1   1   0   1   6\n",
      "\n",
      "[9924 rows x 18 columns]\n",
      "      0\n",
      "0     4\n",
      "1     4\n",
      "2     4\n",
      "3     4\n",
      "4     2\n",
      "...  ..\n",
      "9919  0\n",
      "9920  3\n",
      "9921  2\n",
      "9922  3\n",
      "9923  3\n",
      "\n",
      "[9924 rows x 1 columns]\n",
      "(7939, 18)\n",
      "(7939, 1)\n"
     ]
    }
   ],
   "source": [
    "import numpy as np\n",
    "import matplotlib\n",
    "import pandas as pd\n",
    "from sklearn.model_selection import train_test_split\n",
    "\n",
    "\n",
    "dataset = pd.read_csv('/Users/wzhang/Documents/injury data cleaned.csv')\n",
    "\n",
    "X = pd.DataFrame(dataset.iloc[:,1:19].values)\n",
    "Y = pd.DataFrame(dataset.iloc[:,19:].values)\n",
    "print(X)\n",
    "print(Y)\n",
    "X_train, X_test, Y_train, Y_test = train_test_split(X, Y, test_size=0.2)\n",
    "from sklearn.preprocessing import MinMaxScaler\n",
    "scaler = MinMaxScaler()\n",
    "X_train = scaler.fit_transform(X_train)\n",
    "X_test = scaler.transform(X_test)\n",
    "\n",
    "print(X_train.shape)\n",
    "print(Y_train.shape)"
   ]
  },
  {
   "cell_type": "code",
   "execution_count": 2,
   "metadata": {},
   "outputs": [
    {
     "name": "stdout",
     "output_type": "stream",
     "text": [
      "Index(['WEATHER', 'MONTH', 'DAY', 'HOUR', 'MAN_COLL', 'AGE', 'SEX', 'PER_TYP',\n",
      "       'SEAT_POS', 'REST_USE', 'AIR_BAG', 'EJECTION', 'EXTRICAT', 'DRINKING',\n",
      "       'DRUGS', 'RUR_URB', 'FUNC_SYS'],\n",
      "      dtype='object')\n"
     ]
    }
   ],
   "source": [
    "features = pd.DataFrame(dataset.iloc[:,2:19])\n",
    "features = features.columns\n",
    "print(features)"
   ]
  },
  {
   "cell_type": "code",
   "execution_count": 3,
   "metadata": {},
   "outputs": [
    {
     "name": "stderr",
     "output_type": "stream",
     "text": [
      "2024-07-11 15:40:04.838425: I tensorflow/core/platform/cpu_feature_guard.cc:210] This TensorFlow binary is optimized to use available CPU instructions in performance-critical operations.\n",
      "To enable the following instructions: AVX2 FMA, in other operations, rebuild TensorFlow with the appropriate compiler flags.\n"
     ]
    }
   ],
   "source": [
    "from keras.models import Sequential, Model\n",
    "from tensorflow.keras.layers import LSTM, Dropout, Dense, BatchNormalization, GRU, LayerNormalization, MultiHeadAttention,TimeDistributed, Input, Flatten\n",
    "from sklearn.ensemble import RandomForestRegressor\n",
    "from deepforest import CascadeForestClassifier "
   ]
  },
  {
   "cell_type": "code",
   "execution_count": 4,
   "metadata": {},
   "outputs": [
    {
     "name": "stderr",
     "output_type": "stream",
     "text": [
      "/Library/Frameworks/Python.framework/Versions/3.9/lib/python3.9/site-packages/sklearn/utils/validation.py:1300: DataConversionWarning: A column-vector y was passed when a 1d array was expected. Please change the shape of y to (n_samples, ), for example using ravel().\n",
      "  y = column_or_1d(y, warn=True)\n"
     ]
    },
    {
     "name": "stdout",
     "output_type": "stream",
     "text": [
      "[2024-07-11 20:40:08.263] Start to fit the model:\n",
      "[2024-07-11 20:40:08.263] Fitting cascade layer = 0 \n"
     ]
    }
   ],
   "source": [
    "model = CascadeForestClassifier(n_estimators=100)\n",
    "model.fit(X_train, Y_train)"
   ]
  },
  {
   "cell_type": "code",
   "execution_count": null,
   "metadata": {},
   "outputs": [
    {
     "name": "stdout",
     "output_type": "stream",
     "text": [
      "[2024-07-11 20:32:52.495] Start to evalute the model:\n",
      "[2024-07-11 20:32:52.497] Evaluating cascade layer = 0 \n",
      "[2024-07-11 20:32:53.390] Evaluating cascade layer = 1 \n",
      "[2024-07-11 20:32:54.225] Evaluating cascade layer = 2 \n",
      "[1 1 1 1 1 1 1 1 1 1 1 1 0 1 1 1 1 1 1 1 1 1 0 1 1 1 1 1 1 1 1 0 1 1 1 1 1\n",
      " 1 1 1 1 1 1 1 1 1 1 1 1 0 1 1 1 1 1 1 1 1 1 1 1 1 1 1 1 1 1 1 1 1 1 1 1 0\n",
      " 0 1 1 1 1 1 1 1 1 0 1 1 1 1 1 1 1 1 1 1 1 1 1 1 1 1 1 1 1 1 1 1 1 1 1 1 1\n",
      " 1 1 1 1 1 1 1 1 1 1 0 1 1 1 1 1 1 1 1 0 1 1 1 1 1 1 1 0 1 1 1 1 1 0 1 1 1\n",
      " 0 1 1 1 1 1 1 1 1 1 1 1 1 1 1 1 1 1 1 1 1 1 0 1 1 1 1 1 1 1 1 1 1 1 1 1 1\n",
      " 1 1 1 1 1 0 1 1 1 1]\n",
      "     0\n",
      "960  0\n",
      "107  1\n",
      "638  1\n",
      "219  1\n",
      "131  1\n",
      "..  ..\n",
      "804  1\n",
      "523  0\n",
      "40   1\n",
      "823  0\n",
      "5    0\n",
      "\n",
      "[195 rows x 1 columns]\n",
      "0.7487179487179487\n",
      "              precision    recall  f1-score   support\n",
      "\n",
      "           0   0.214286  0.073171  0.109091        41\n",
      "           1   0.790055  0.928571  0.853731       154\n",
      "\n",
      "    accuracy                       0.748718       195\n",
      "   macro avg   0.502170  0.500871  0.481411       195\n",
      "weighted avg   0.668996  0.748718  0.697166       195\n",
      "\n"
     ]
    }
   ],
   "source": [
    "res = model.predict(X_test)\n",
    "print(res)\n",
    "print(Y_test)\n",
    "from sklearn.metrics import accuracy_score\n",
    "accuracy = accuracy_score(Y_test,res)\n",
    "print(accuracy)\n",
    "from sklearn.metrics import classification_report\n",
    "print(classification_report(Y_test,res,digits=6))"
   ]
  }
 ],
 "metadata": {
  "kernelspec": {
   "display_name": "Python 3",
   "language": "python",
   "name": "python3"
  },
  "language_info": {
   "codemirror_mode": {
    "name": "ipython",
    "version": 3
   },
   "file_extension": ".py",
   "mimetype": "text/x-python",
   "name": "python",
   "nbconvert_exporter": "python",
   "pygments_lexer": "ipython3",
   "version": "3.9.13"
  }
 },
 "nbformat": 4,
 "nbformat_minor": 2
}
