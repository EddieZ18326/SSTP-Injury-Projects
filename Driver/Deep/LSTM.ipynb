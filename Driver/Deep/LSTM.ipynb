{
 "cells": [
  {
   "cell_type": "code",
   "execution_count": 2,
   "metadata": {},
   "outputs": [
    {
     "name": "stdout",
     "output_type": "stream",
     "text": [
      "       0   1   2   3   4   5   6   7   8   9   ...  12  13  14   15  16  17  \\\n",
      "0       1   1   1   1   0   1   3  55   1   1  ...   0   0   1    0   0   1   \n",
      "1       1   1   1   1   0   1   0  16   1   1  ...   0   0   1    0   0   1   \n",
      "2       1   1   1   1   3   0   3  41   1   1  ...   0   1   1    0   1   1   \n",
      "3       1   1   2   2   3   0   0  21   2   1  ...   0   0   1    0   0   1   \n",
      "4       1   1   2   1   3   0   1  66   1   1  ...   0   0   1  174   0   1   \n",
      "...    ..  ..  ..  ..  ..  ..  ..  ..  ..  ..  ...  ..  ..  ..  ...  ..  ..   \n",
      "44090   2   4   1   2   0   1   0  53   1   1  ...   1   0   1    0   0   1   \n",
      "44091   2   4   1   2   0   1   2  27   1   1  ...   1   0   1    0   1   1   \n",
      "44092   2   4   1   2   1   0   1  25   1   1  ...   1   1   1  155   0   1   \n",
      "44093   2   4   1   2   1   0   1  21   2   1  ...   1   1   1  120   0   0   \n",
      "44094   2   4   1   1   0   1   1  43   1   1  ...   0   1   1   70   1   1   \n",
      "\n",
      "       18  19  20  21  \n",
      "0       2   2   3   1  \n",
      "1       2   1   2   1  \n",
      "2       0   1   4   1  \n",
      "3       2   2   6   1  \n",
      "4       2   1   6   3  \n",
      "...    ..  ..  ..  ..  \n",
      "44090   2   1   2   1  \n",
      "44091   2   1   2   1  \n",
      "44092   1   1   2   0  \n",
      "44093   0   1   2   0  \n",
      "44094   2   1   2   1  \n",
      "\n",
      "[44095 rows x 22 columns]\n",
      "       0\n",
      "0      2\n",
      "1      2\n",
      "2      1\n",
      "3      2\n",
      "4      2\n",
      "...   ..\n",
      "44090  2\n",
      "44091  2\n",
      "44092  2\n",
      "44093  1\n",
      "44094  2\n",
      "\n",
      "[44095 rows x 1 columns]\n",
      "(35276, 22)\n",
      "(35276, 1)\n"
     ]
    }
   ],
   "source": [
    "import numpy as np\n",
    "import matplotlib\n",
    "import pandas as pd\n",
    "from sklearn.model_selection import train_test_split\n",
    "\n",
    "\n",
    "dataset = pd.read_csv('/Users/eddie/OneDrive/Documents/Injury Dataset/2013-2022/2018-2022 Data Cleaned Trainable.csv')\n",
    "\n",
    "X = pd.DataFrame(dataset.iloc[:,:22].values)\n",
    "Y = pd.DataFrame(dataset.iloc[:,22:].values)\n",
    "print(X)\n",
    "print(Y)\n",
    "X_train, X_test, Y_train, Y_test = train_test_split(X, Y, test_size=0.2)\n",
    "from sklearn.preprocessing import MinMaxScaler\n",
    "scaler = MinMaxScaler()\n",
    "X_train = scaler.fit_transform(X_train)\n",
    "X_test = scaler.transform(X_test)\n",
    "\n",
    "# X_train.reshape(35276,22,1)\n",
    "# X_test.reshape(8819,22,1)\n",
    "\n",
    "print(X_train.shape)\n",
    "print(Y_train.shape)"
   ]
  },
  {
   "cell_type": "code",
   "execution_count": 3,
   "metadata": {},
   "outputs": [
    {
     "name": "stdout",
     "output_type": "stream",
     "text": [
      "Index(['STATE', 'SEASON', 'DAY', 'HOUR', 'HARM_EV', 'MAN_COLL', 'BODY_TYP',\n",
      "       'AGE', 'GENDER', 'PER_TYP', 'SEAT_POS', 'REST_USE', 'AIR_BAG',\n",
      "       'DRINKING', 'ATST_TYP', 'ALC_RES', 'DRUGS', 'DSTATUS', 'ETHNICITY ',\n",
      "       'RUR_URB', 'FUNC_SYS', 'IMPACT1', 'INJ_SEV'],\n",
      "      dtype='object')\n"
     ]
    }
   ],
   "source": [
    "features = pd.DataFrame(dataset.iloc[:,:32])\n",
    "features = features.columns\n",
    "print(features)"
   ]
  },
  {
   "cell_type": "code",
   "execution_count": 4,
   "metadata": {},
   "outputs": [
    {
     "name": "stdout",
     "output_type": "stream",
     "text": [
      "WARNING:tensorflow:From c:\\Users\\eddie\\AppData\\Local\\Programs\\Python\\Python39\\lib\\site-packages\\keras\\src\\losses.py:2976: The name tf.losses.sparse_softmax_cross_entropy is deprecated. Please use tf.compat.v1.losses.sparse_softmax_cross_entropy instead.\n",
      "\n"
     ]
    }
   ],
   "source": [
    "import tensorflow as tf\n",
    "from tensorflow.keras import Sequential\n",
    "from tensorflow.keras.layers import Conv1D, MaxPooling1D, Flatten, Dense, Dropout, LSTM\n",
    "from tensorflow.keras.optimizers import Adam\n",
    "from keras import layers"
   ]
  },
  {
   "cell_type": "code",
   "execution_count": 5,
   "metadata": {},
   "outputs": [
    {
     "name": "stdout",
     "output_type": "stream",
     "text": [
      "WARNING:tensorflow:From c:\\Users\\eddie\\AppData\\Local\\Programs\\Python\\Python39\\lib\\site-packages\\keras\\src\\backend.py:873: The name tf.get_default_graph is deprecated. Please use tf.compat.v1.get_default_graph instead.\n",
      "\n",
      "Epoch 1/200\n",
      "WARNING:tensorflow:From c:\\Users\\eddie\\AppData\\Local\\Programs\\Python\\Python39\\lib\\site-packages\\keras\\src\\utils\\tf_utils.py:492: The name tf.ragged.RaggedTensorValue is deprecated. Please use tf.compat.v1.ragged.RaggedTensorValue instead.\n",
      "\n",
      "WARNING:tensorflow:From c:\\Users\\eddie\\AppData\\Local\\Programs\\Python\\Python39\\lib\\site-packages\\keras\\src\\engine\\base_layer_utils.py:384: The name tf.executing_eagerly_outside_functions is deprecated. Please use tf.compat.v1.executing_eagerly_outside_functions instead.\n",
      "\n",
      "276/276 [==============================] - 24s 54ms/step - loss: 0.7358 - accuracy: 0.6669\n",
      "Epoch 2/200\n",
      "276/276 [==============================] - 15s 53ms/step - loss: 0.4665 - accuracy: 0.7741\n",
      "Epoch 3/200\n",
      "276/276 [==============================] - 14s 52ms/step - loss: 0.2951 - accuracy: 0.8585\n",
      "Epoch 4/200\n",
      "276/276 [==============================] - 15s 53ms/step - loss: 0.2588 - accuracy: 0.8799\n",
      "Epoch 5/200\n",
      "276/276 [==============================] - 16s 58ms/step - loss: 0.2427 - accuracy: 0.8882\n",
      "Epoch 6/200\n",
      "276/276 [==============================] - 16s 57ms/step - loss: 0.2346 - accuracy: 0.8932\n",
      "Epoch 7/200\n",
      "276/276 [==============================] - 16s 57ms/step - loss: 0.2242 - accuracy: 0.8993\n",
      "Epoch 8/200\n",
      "276/276 [==============================] - 16s 57ms/step - loss: 0.2227 - accuracy: 0.9008\n",
      "Epoch 9/200\n",
      "276/276 [==============================] - 15s 56ms/step - loss: 0.2142 - accuracy: 0.9039\n",
      "Epoch 10/200\n",
      "276/276 [==============================] - 16s 57ms/step - loss: 0.2142 - accuracy: 0.9055\n",
      "Epoch 11/200\n",
      "276/276 [==============================] - 16s 57ms/step - loss: 0.2096 - accuracy: 0.9071\n",
      "Epoch 12/200\n",
      "276/276 [==============================] - 16s 57ms/step - loss: 0.2058 - accuracy: 0.9089\n",
      "Epoch 13/200\n",
      "276/276 [==============================] - 16s 57ms/step - loss: 0.2047 - accuracy: 0.9098\n",
      "Epoch 14/200\n",
      "276/276 [==============================] - 16s 57ms/step - loss: 0.2067 - accuracy: 0.9103\n",
      "Epoch 15/200\n",
      "276/276 [==============================] - 16s 57ms/step - loss: 0.2028 - accuracy: 0.9111\n",
      "Epoch 16/200\n",
      "276/276 [==============================] - 16s 58ms/step - loss: 0.2006 - accuracy: 0.9124\n",
      "Epoch 17/200\n",
      "276/276 [==============================] - 16s 57ms/step - loss: 0.1997 - accuracy: 0.9131\n",
      "Epoch 18/200\n",
      "276/276 [==============================] - 16s 57ms/step - loss: 0.1999 - accuracy: 0.9133\n",
      "Epoch 19/200\n",
      "276/276 [==============================] - 16s 57ms/step - loss: 0.1973 - accuracy: 0.9135\n",
      "Epoch 20/200\n",
      "276/276 [==============================] - 16s 57ms/step - loss: 0.1974 - accuracy: 0.9120\n",
      "Epoch 21/200\n",
      "276/276 [==============================] - 16s 57ms/step - loss: 0.1967 - accuracy: 0.9145\n",
      "Epoch 22/200\n",
      "276/276 [==============================] - 16s 57ms/step - loss: 0.1988 - accuracy: 0.9138\n",
      "Epoch 23/200\n",
      "276/276 [==============================] - 16s 57ms/step - loss: 0.1945 - accuracy: 0.9148\n",
      "Epoch 24/200\n",
      "276/276 [==============================] - 16s 57ms/step - loss: 0.1952 - accuracy: 0.9140\n",
      "Epoch 25/200\n",
      "276/276 [==============================] - 14s 51ms/step - loss: 0.1956 - accuracy: 0.9137\n",
      "Epoch 26/200\n",
      "276/276 [==============================] - 13s 46ms/step - loss: 0.1938 - accuracy: 0.9143\n",
      "Epoch 27/200\n",
      "276/276 [==============================] - 13s 46ms/step - loss: 0.1927 - accuracy: 0.9151\n",
      "Epoch 28/200\n",
      "276/276 [==============================] - 13s 46ms/step - loss: 0.1926 - accuracy: 0.9151\n",
      "Epoch 29/200\n",
      "276/276 [==============================] - 13s 46ms/step - loss: 0.1905 - accuracy: 0.9154\n",
      "Epoch 30/200\n",
      "276/276 [==============================] - 13s 46ms/step - loss: 0.1908 - accuracy: 0.9148\n",
      "Epoch 31/200\n",
      "276/276 [==============================] - 13s 46ms/step - loss: 0.1912 - accuracy: 0.9162\n",
      "Epoch 32/200\n",
      "276/276 [==============================] - 12s 43ms/step - loss: 0.1917 - accuracy: 0.9146\n",
      "Epoch 33/200\n",
      "276/276 [==============================] - 12s 43ms/step - loss: 0.1879 - accuracy: 0.9161\n",
      "Epoch 34/200\n",
      "276/276 [==============================] - 12s 45ms/step - loss: 0.1873 - accuracy: 0.9159\n",
      "Epoch 35/200\n",
      "276/276 [==============================] - 13s 46ms/step - loss: 0.1879 - accuracy: 0.9172\n",
      "Epoch 36/200\n",
      "276/276 [==============================] - 13s 46ms/step - loss: 0.1858 - accuracy: 0.9168\n",
      "Epoch 37/200\n",
      "276/276 [==============================] - 13s 46ms/step - loss: 0.1851 - accuracy: 0.9176\n",
      "Epoch 38/200\n",
      "276/276 [==============================] - 13s 46ms/step - loss: 0.1857 - accuracy: 0.9164\n",
      "Epoch 39/200\n",
      "276/276 [==============================] - 13s 46ms/step - loss: 0.1860 - accuracy: 0.9162\n",
      "Epoch 40/200\n",
      "276/276 [==============================] - 13s 46ms/step - loss: 0.1857 - accuracy: 0.9181\n",
      "Epoch 41/200\n",
      "276/276 [==============================] - 12s 43ms/step - loss: 0.1841 - accuracy: 0.9174\n",
      "Epoch 42/200\n",
      "276/276 [==============================] - 12s 43ms/step - loss: 0.1821 - accuracy: 0.9195\n",
      "Epoch 43/200\n",
      "276/276 [==============================] - 13s 46ms/step - loss: 0.1819 - accuracy: 0.9196\n",
      "Epoch 44/200\n",
      "276/276 [==============================] - 13s 46ms/step - loss: 0.1805 - accuracy: 0.9197\n",
      "Epoch 45/200\n",
      "276/276 [==============================] - 13s 47ms/step - loss: 0.1798 - accuracy: 0.9205\n",
      "Epoch 46/200\n",
      "276/276 [==============================] - 13s 47ms/step - loss: 0.1799 - accuracy: 0.9198\n",
      "Epoch 47/200\n",
      "276/276 [==============================] - 13s 47ms/step - loss: 0.1777 - accuracy: 0.9211\n",
      "Epoch 48/200\n",
      "276/276 [==============================] - 13s 47ms/step - loss: 0.1810 - accuracy: 0.9191\n",
      "Epoch 49/200\n",
      "276/276 [==============================] - 13s 46ms/step - loss: 0.1803 - accuracy: 0.9200\n",
      "Epoch 50/200\n",
      "276/276 [==============================] - 12s 43ms/step - loss: 0.1759 - accuracy: 0.9219\n",
      "Epoch 51/200\n",
      "276/276 [==============================] - 12s 45ms/step - loss: 0.1755 - accuracy: 0.9215\n",
      "Epoch 52/200\n",
      "276/276 [==============================] - 13s 47ms/step - loss: 0.1774 - accuracy: 0.9211\n",
      "Epoch 53/200\n",
      "276/276 [==============================] - 13s 47ms/step - loss: 0.1770 - accuracy: 0.9205\n",
      "Epoch 54/200\n",
      "276/276 [==============================] - 13s 47ms/step - loss: 0.1754 - accuracy: 0.9213\n",
      "Epoch 55/200\n",
      "276/276 [==============================] - 13s 47ms/step - loss: 0.1740 - accuracy: 0.9231\n",
      "Epoch 56/200\n",
      "276/276 [==============================] - 13s 47ms/step - loss: 0.1740 - accuracy: 0.9234\n",
      "Epoch 57/200\n",
      "276/276 [==============================] - 13s 47ms/step - loss: 0.1732 - accuracy: 0.9241\n",
      "Epoch 58/200\n",
      "276/276 [==============================] - 13s 46ms/step - loss: 0.1720 - accuracy: 0.9231\n",
      "Epoch 59/200\n",
      "276/276 [==============================] - 12s 44ms/step - loss: 0.1722 - accuracy: 0.9239\n",
      "Epoch 60/200\n",
      "276/276 [==============================] - 13s 47ms/step - loss: 0.1707 - accuracy: 0.9237\n",
      "Epoch 61/200\n",
      "276/276 [==============================] - 13s 47ms/step - loss: 0.1719 - accuracy: 0.9240\n",
      "Epoch 62/200\n",
      "276/276 [==============================] - 13s 47ms/step - loss: 0.1710 - accuracy: 0.9238\n",
      "Epoch 63/200\n",
      "276/276 [==============================] - 13s 47ms/step - loss: 0.1720 - accuracy: 0.9230\n",
      "Epoch 64/200\n",
      "276/276 [==============================] - 13s 47ms/step - loss: 0.1708 - accuracy: 0.9240\n",
      "Epoch 65/200\n",
      "276/276 [==============================] - 13s 47ms/step - loss: 0.1693 - accuracy: 0.9257\n",
      "Epoch 66/200\n",
      "276/276 [==============================] - 13s 47ms/step - loss: 0.1683 - accuracy: 0.9258\n",
      "Epoch 67/200\n",
      "276/276 [==============================] - 12s 45ms/step - loss: 0.1679 - accuracy: 0.9250\n",
      "Epoch 68/200\n",
      "276/276 [==============================] - 13s 46ms/step - loss: 0.1669 - accuracy: 0.9264\n",
      "Epoch 69/200\n",
      "276/276 [==============================] - 13s 47ms/step - loss: 0.1669 - accuracy: 0.9257\n",
      "Epoch 70/200\n",
      "276/276 [==============================] - 13s 47ms/step - loss: 0.1664 - accuracy: 0.9258\n",
      "Epoch 71/200\n",
      "276/276 [==============================] - 13s 47ms/step - loss: 0.1682 - accuracy: 0.9246\n",
      "Epoch 72/200\n",
      "276/276 [==============================] - 13s 47ms/step - loss: 0.1673 - accuracy: 0.9256\n",
      "Epoch 73/200\n",
      "276/276 [==============================] - 13s 47ms/step - loss: 0.1666 - accuracy: 0.9256\n",
      "Epoch 74/200\n",
      "276/276 [==============================] - 13s 47ms/step - loss: 0.1637 - accuracy: 0.9269\n",
      "Epoch 75/200\n",
      "276/276 [==============================] - 13s 46ms/step - loss: 0.1651 - accuracy: 0.9266\n",
      "Epoch 76/200\n",
      "276/276 [==============================] - 12s 45ms/step - loss: 0.1670 - accuracy: 0.9256\n",
      "Epoch 77/200\n",
      "276/276 [==============================] - 13s 47ms/step - loss: 0.1630 - accuracy: 0.9276\n",
      "Epoch 78/200\n",
      "276/276 [==============================] - 13s 47ms/step - loss: 0.1618 - accuracy: 0.9279\n",
      "Epoch 79/200\n",
      "276/276 [==============================] - 13s 47ms/step - loss: 0.1630 - accuracy: 0.9278\n",
      "Epoch 80/200\n",
      "276/276 [==============================] - 13s 47ms/step - loss: 0.1617 - accuracy: 0.9285\n",
      "Epoch 81/200\n",
      "276/276 [==============================] - 13s 47ms/step - loss: 0.1628 - accuracy: 0.9282\n",
      "Epoch 82/200\n",
      "276/276 [==============================] - 13s 48ms/step - loss: 0.1632 - accuracy: 0.9271\n",
      "Epoch 83/200\n",
      "276/276 [==============================] - 13s 48ms/step - loss: 0.1624 - accuracy: 0.9279\n",
      "Epoch 84/200\n",
      "276/276 [==============================] - 13s 46ms/step - loss: 0.1624 - accuracy: 0.9275\n",
      "Epoch 85/200\n",
      "276/276 [==============================] - 13s 46ms/step - loss: 0.1616 - accuracy: 0.9282\n",
      "Epoch 86/200\n",
      "276/276 [==============================] - 12s 43ms/step - loss: 0.1617 - accuracy: 0.9277\n",
      "Epoch 87/200\n",
      "276/276 [==============================] - 12s 43ms/step - loss: 0.1604 - accuracy: 0.9288\n",
      "Epoch 88/200\n",
      "276/276 [==============================] - 12s 43ms/step - loss: 0.1584 - accuracy: 0.9301\n",
      "Epoch 89/200\n",
      "276/276 [==============================] - 11s 42ms/step - loss: 0.1575 - accuracy: 0.9300\n",
      "Epoch 90/200\n",
      "276/276 [==============================] - 12s 44ms/step - loss: 0.1572 - accuracy: 0.9305\n",
      "Epoch 91/200\n",
      "276/276 [==============================] - 11s 41ms/step - loss: 0.1567 - accuracy: 0.9300\n",
      "Epoch 92/200\n",
      "276/276 [==============================] - 11s 41ms/step - loss: 0.1569 - accuracy: 0.9298\n",
      "Epoch 93/200\n",
      "276/276 [==============================] - 10s 38ms/step - loss: 0.1565 - accuracy: 0.9304\n",
      "Epoch 94/200\n",
      "276/276 [==============================] - 12s 43ms/step - loss: 0.1543 - accuracy: 0.9317\n",
      "Epoch 95/200\n",
      "276/276 [==============================] - 11s 41ms/step - loss: 0.1563 - accuracy: 0.9308\n",
      "Epoch 96/200\n",
      "276/276 [==============================] - 12s 43ms/step - loss: 0.1542 - accuracy: 0.9310\n",
      "Epoch 97/200\n",
      "276/276 [==============================] - 10s 38ms/step - loss: 0.1538 - accuracy: 0.9310\n",
      "Epoch 98/200\n",
      "276/276 [==============================] - 10s 37ms/step - loss: 0.1531 - accuracy: 0.9325\n",
      "Epoch 99/200\n",
      "276/276 [==============================] - 11s 40ms/step - loss: 0.1526 - accuracy: 0.9321\n",
      "Epoch 100/200\n",
      "276/276 [==============================] - 11s 41ms/step - loss: 0.1508 - accuracy: 0.9332\n",
      "Epoch 101/200\n",
      "276/276 [==============================] - 10s 38ms/step - loss: 0.1509 - accuracy: 0.9334\n",
      "Epoch 102/200\n",
      "276/276 [==============================] - 12s 43ms/step - loss: 0.1526 - accuracy: 0.9325\n",
      "Epoch 103/200\n",
      "276/276 [==============================] - 11s 41ms/step - loss: 0.1524 - accuracy: 0.9326\n",
      "Epoch 104/200\n",
      "276/276 [==============================] - 12s 44ms/step - loss: 0.1490 - accuracy: 0.9338\n",
      "Epoch 105/200\n",
      "276/276 [==============================] - 11s 41ms/step - loss: 0.1487 - accuracy: 0.9343\n",
      "Epoch 106/200\n",
      "276/276 [==============================] - 12s 43ms/step - loss: 0.1486 - accuracy: 0.9342\n",
      "Epoch 107/200\n",
      "276/276 [==============================] - 12s 43ms/step - loss: 0.1474 - accuracy: 0.9350\n",
      "Epoch 108/200\n",
      "276/276 [==============================] - 11s 40ms/step - loss: 0.1462 - accuracy: 0.9346\n",
      "Epoch 109/200\n",
      "276/276 [==============================] - 10s 38ms/step - loss: 0.1516 - accuracy: 0.9323\n",
      "Epoch 110/200\n",
      "276/276 [==============================] - 10s 37ms/step - loss: 0.1464 - accuracy: 0.9343\n",
      "Epoch 111/200\n",
      "276/276 [==============================] - 11s 39ms/step - loss: 0.1461 - accuracy: 0.9361\n",
      "Epoch 112/200\n",
      "276/276 [==============================] - 12s 42ms/step - loss: 0.1495 - accuracy: 0.9340\n",
      "Epoch 113/200\n",
      "276/276 [==============================] - 12s 43ms/step - loss: 0.1461 - accuracy: 0.9353\n",
      "Epoch 114/200\n",
      "276/276 [==============================] - 11s 41ms/step - loss: 0.1447 - accuracy: 0.9355\n",
      "Epoch 115/200\n",
      "276/276 [==============================] - 12s 44ms/step - loss: 0.1443 - accuracy: 0.9359\n",
      "Epoch 116/200\n",
      "276/276 [==============================] - 11s 39ms/step - loss: 0.1429 - accuracy: 0.9358\n",
      "Epoch 117/200\n",
      "276/276 [==============================] - 11s 39ms/step - loss: 0.1442 - accuracy: 0.9361\n",
      "Epoch 118/200\n",
      "276/276 [==============================] - 12s 42ms/step - loss: 0.1438 - accuracy: 0.9365\n",
      "Epoch 119/200\n",
      "276/276 [==============================] - 12s 43ms/step - loss: 0.1418 - accuracy: 0.9368\n",
      "Epoch 120/200\n",
      "276/276 [==============================] - 11s 41ms/step - loss: 0.1402 - accuracy: 0.9376\n",
      "Epoch 121/200\n",
      "276/276 [==============================] - 12s 43ms/step - loss: 0.1379 - accuracy: 0.9398\n",
      "Epoch 122/200\n",
      "276/276 [==============================] - 11s 38ms/step - loss: 0.1414 - accuracy: 0.9386\n",
      "Epoch 123/200\n",
      "276/276 [==============================] - 10s 37ms/step - loss: 0.1398 - accuracy: 0.9392\n",
      "Epoch 124/200\n",
      "276/276 [==============================] - 11s 40ms/step - loss: 0.1382 - accuracy: 0.9384\n",
      "Epoch 125/200\n",
      "276/276 [==============================] - 11s 39ms/step - loss: 0.1371 - accuracy: 0.9399\n",
      "Epoch 126/200\n",
      "276/276 [==============================] - 11s 41ms/step - loss: 0.1387 - accuracy: 0.9380\n",
      "Epoch 127/200\n",
      "276/276 [==============================] - 12s 43ms/step - loss: 0.1377 - accuracy: 0.9390\n",
      "Epoch 128/200\n",
      "276/276 [==============================] - 12s 42ms/step - loss: 0.1344 - accuracy: 0.9402\n",
      "Epoch 129/200\n",
      "276/276 [==============================] - 12s 42ms/step - loss: 0.1376 - accuracy: 0.9392\n",
      "Epoch 130/200\n",
      "276/276 [==============================] - 12s 43ms/step - loss: 0.1370 - accuracy: 0.9402\n",
      "Epoch 131/200\n",
      "276/276 [==============================] - 11s 41ms/step - loss: 0.1334 - accuracy: 0.9405\n",
      "Epoch 132/200\n",
      "276/276 [==============================] - 12s 42ms/step - loss: 0.1320 - accuracy: 0.9422\n",
      "Epoch 133/200\n",
      "276/276 [==============================] - 10s 38ms/step - loss: 0.1325 - accuracy: 0.9427\n",
      "Epoch 134/200\n",
      "276/276 [==============================] - 11s 39ms/step - loss: 0.1314 - accuracy: 0.9420\n",
      "Epoch 135/200\n",
      "276/276 [==============================] - 10s 37ms/step - loss: 0.1332 - accuracy: 0.9421\n",
      "Epoch 136/200\n",
      "276/276 [==============================] - 11s 41ms/step - loss: 0.1316 - accuracy: 0.9418\n",
      "Epoch 137/200\n",
      "276/276 [==============================] - 11s 41ms/step - loss: 0.1278 - accuracy: 0.9436\n",
      "Epoch 138/200\n",
      "276/276 [==============================] - 12s 44ms/step - loss: 0.1311 - accuracy: 0.9421\n",
      "Epoch 139/200\n",
      "276/276 [==============================] - 12s 42ms/step - loss: 0.1293 - accuracy: 0.9433\n",
      "Epoch 140/200\n",
      "276/276 [==============================] - 11s 41ms/step - loss: 0.1324 - accuracy: 0.9423\n",
      "Epoch 141/200\n",
      "276/276 [==============================] - 10s 38ms/step - loss: 0.1308 - accuracy: 0.9424\n",
      "Epoch 142/200\n",
      "276/276 [==============================] - 12s 43ms/step - loss: 0.1266 - accuracy: 0.9442\n",
      "Epoch 143/200\n",
      "276/276 [==============================] - 11s 41ms/step - loss: 0.1274 - accuracy: 0.9445\n",
      "Epoch 144/200\n",
      "276/276 [==============================] - 12s 44ms/step - loss: 0.1261 - accuracy: 0.9450\n",
      "Epoch 145/200\n",
      "276/276 [==============================] - 11s 41ms/step - loss: 0.1258 - accuracy: 0.9446\n",
      "Epoch 146/200\n",
      "276/276 [==============================] - 12s 42ms/step - loss: 0.1250 - accuracy: 0.9453\n",
      "Epoch 147/200\n",
      "276/276 [==============================] - 10s 37ms/step - loss: 0.1249 - accuracy: 0.9447\n",
      "Epoch 148/200\n",
      "276/276 [==============================] - 10s 38ms/step - loss: 0.1247 - accuracy: 0.9449\n",
      "Epoch 149/200\n",
      "276/276 [==============================] - 10s 38ms/step - loss: 0.1231 - accuracy: 0.9455\n",
      "Epoch 150/200\n",
      "276/276 [==============================] - 12s 43ms/step - loss: 0.1208 - accuracy: 0.9470\n",
      "Epoch 151/200\n",
      "276/276 [==============================] - 11s 41ms/step - loss: 0.1180 - accuracy: 0.9490\n",
      "Epoch 152/200\n",
      "276/276 [==============================] - 12s 43ms/step - loss: 0.1222 - accuracy: 0.9467\n",
      "Epoch 153/200\n",
      "276/276 [==============================] - 12s 43ms/step - loss: 0.1187 - accuracy: 0.9475\n",
      "Epoch 154/200\n",
      "276/276 [==============================] - 11s 42ms/step - loss: 0.1207 - accuracy: 0.9475\n",
      "Epoch 155/200\n",
      "276/276 [==============================] - 12s 44ms/step - loss: 0.1223 - accuracy: 0.9453\n",
      "Epoch 156/200\n",
      "276/276 [==============================] - 11s 40ms/step - loss: 0.1158 - accuracy: 0.9494\n",
      "Epoch 157/200\n",
      "276/276 [==============================] - 11s 40ms/step - loss: 0.1216 - accuracy: 0.9468\n",
      "Epoch 158/200\n",
      "276/276 [==============================] - 11s 41ms/step - loss: 0.1148 - accuracy: 0.9502\n",
      "Epoch 159/200\n",
      "276/276 [==============================] - 10s 38ms/step - loss: 0.1166 - accuracy: 0.9491\n",
      "Epoch 160/200\n",
      "276/276 [==============================] - 10s 37ms/step - loss: 0.1161 - accuracy: 0.9487\n",
      "Epoch 161/200\n",
      "276/276 [==============================] - 12s 44ms/step - loss: 0.1160 - accuracy: 0.9486\n",
      "Epoch 162/200\n",
      "276/276 [==============================] - 12s 42ms/step - loss: 0.1158 - accuracy: 0.9501\n",
      "Epoch 163/200\n",
      "276/276 [==============================] - 12s 43ms/step - loss: 0.1160 - accuracy: 0.9503\n",
      "Epoch 164/200\n",
      "276/276 [==============================] - 11s 42ms/step - loss: 0.1140 - accuracy: 0.9500\n",
      "Epoch 165/200\n",
      "276/276 [==============================] - 11s 39ms/step - loss: 0.1120 - accuracy: 0.9525\n",
      "Epoch 166/200\n",
      "276/276 [==============================] - 11s 40ms/step - loss: 0.1163 - accuracy: 0.9492\n",
      "Epoch 167/200\n",
      "276/276 [==============================] - 12s 43ms/step - loss: 0.1124 - accuracy: 0.9514\n",
      "Epoch 168/200\n",
      "276/276 [==============================] - 12s 42ms/step - loss: 0.1126 - accuracy: 0.9506\n",
      "Epoch 169/200\n",
      "276/276 [==============================] - 12s 42ms/step - loss: 0.1121 - accuracy: 0.9506\n",
      "Epoch 170/200\n",
      "276/276 [==============================] - 12s 43ms/step - loss: 0.1098 - accuracy: 0.9523\n",
      "Epoch 171/200\n",
      "276/276 [==============================] - 11s 39ms/step - loss: 0.1122 - accuracy: 0.9514\n",
      "Epoch 172/200\n",
      "276/276 [==============================] - 10s 37ms/step - loss: 0.1080 - accuracy: 0.9538\n",
      "Epoch 173/200\n",
      "276/276 [==============================] - 11s 39ms/step - loss: 0.1098 - accuracy: 0.9520\n",
      "Epoch 174/200\n",
      "276/276 [==============================] - 11s 41ms/step - loss: 0.1067 - accuracy: 0.9536\n",
      "Epoch 175/200\n",
      "276/276 [==============================] - 12s 42ms/step - loss: 0.1056 - accuracy: 0.9530\n",
      "Epoch 176/200\n",
      "276/276 [==============================] - 12s 43ms/step - loss: 0.1045 - accuracy: 0.9544\n",
      "Epoch 177/200\n",
      "276/276 [==============================] - 11s 41ms/step - loss: 0.1069 - accuracy: 0.9539\n",
      "Epoch 178/200\n",
      "276/276 [==============================] - 12s 44ms/step - loss: 0.1071 - accuracy: 0.9534\n",
      "Epoch 179/200\n",
      "276/276 [==============================] - 11s 41ms/step - loss: 0.1042 - accuracy: 0.9545\n",
      "Epoch 180/200\n",
      "276/276 [==============================] - 12s 42ms/step - loss: 0.1040 - accuracy: 0.9540\n",
      "Epoch 181/200\n",
      "276/276 [==============================] - 10s 38ms/step - loss: 0.1049 - accuracy: 0.9554\n",
      "Epoch 182/200\n",
      "276/276 [==============================] - 12s 42ms/step - loss: 0.1004 - accuracy: 0.9569\n",
      "Epoch 183/200\n",
      "276/276 [==============================] - 11s 40ms/step - loss: 0.1043 - accuracy: 0.9538\n",
      "Epoch 184/200\n",
      "276/276 [==============================] - 10s 37ms/step - loss: 0.1050 - accuracy: 0.9551\n",
      "Epoch 185/200\n",
      "276/276 [==============================] - 11s 40ms/step - loss: 0.0989 - accuracy: 0.9569\n",
      "Epoch 186/200\n",
      "276/276 [==============================] - 12s 42ms/step - loss: 0.1039 - accuracy: 0.9543\n",
      "Epoch 187/200\n",
      "276/276 [==============================] - 12s 43ms/step - loss: 0.1045 - accuracy: 0.9553\n",
      "Epoch 188/200\n",
      "276/276 [==============================] - 11s 41ms/step - loss: 0.1024 - accuracy: 0.9550\n",
      "Epoch 189/200\n",
      "276/276 [==============================] - 11s 39ms/step - loss: 0.0982 - accuracy: 0.9580\n",
      "Epoch 190/200\n",
      "276/276 [==============================] - 11s 41ms/step - loss: 0.0981 - accuracy: 0.9583\n",
      "Epoch 191/200\n",
      "276/276 [==============================] - 12s 42ms/step - loss: 0.1025 - accuracy: 0.9552\n",
      "Epoch 192/200\n",
      "276/276 [==============================] - 12s 42ms/step - loss: 0.0990 - accuracy: 0.9565\n",
      "Epoch 193/200\n",
      "276/276 [==============================] - 12s 43ms/step - loss: 0.0959 - accuracy: 0.9588\n",
      "Epoch 194/200\n",
      "276/276 [==============================] - 11s 41ms/step - loss: 0.0973 - accuracy: 0.9584\n",
      "Epoch 195/200\n",
      "276/276 [==============================] - 12s 44ms/step - loss: 0.0935 - accuracy: 0.9594\n",
      "Epoch 196/200\n",
      "276/276 [==============================] - 10s 38ms/step - loss: 0.0935 - accuracy: 0.9598\n",
      "Epoch 197/200\n",
      "276/276 [==============================] - 10s 37ms/step - loss: 0.0972 - accuracy: 0.9583\n",
      "Epoch 198/200\n",
      "276/276 [==============================] - 12s 42ms/step - loss: 0.0971 - accuracy: 0.9584\n",
      "Epoch 199/200\n",
      "276/276 [==============================] - 11s 41ms/step - loss: 0.0925 - accuracy: 0.9602\n",
      "Epoch 200/200\n",
      "276/276 [==============================] - 12s 44ms/step - loss: 0.0971 - accuracy: 0.9582\n"
     ]
    },
    {
     "data": {
      "text/plain": [
       "<keras.src.callbacks.History at 0x200a45b2eb0>"
      ]
     },
     "execution_count": 5,
     "metadata": {},
     "output_type": "execute_result"
    }
   ],
   "source": [
    "model = Sequential()\n",
    "\n",
    "# LSTM layer\n",
    "model.add(LSTM(128, input_shape=(22, 1), return_sequences=True))\n",
    "model.add(Dropout(0.5))  # Regularization to avoid overfitting\n",
    "\n",
    "# Another LSTM layer\n",
    "model.add(LSTM(64, return_sequences=False))\n",
    "model.add(Dropout(0.5))\n",
    "\n",
    "# Dense layer\n",
    "model.add(Dense(32, activation='relu'))\n",
    "\n",
    "# Output layer (binary classification)\n",
    "model.add(Dense(3, activation='softmax'))\n",
    "model.compile(optimizer=Adam(learning_rate=0.001), loss='sparse_categorical_crossentropy', metrics=['accuracy'])\n",
    "model.fit(X_train,Y_train,epochs = 200,batch_size=128)"
   ]
  },
  {
   "cell_type": "code",
   "execution_count": 6,
   "metadata": {},
   "outputs": [
    {
     "name": "stdout",
     "output_type": "stream",
     "text": [
      "276/276 [==============================] - 3s 8ms/step\n",
      "              precision    recall  f1-score   support\n",
      "\n",
      "           0   0.736076  0.743606  0.739822      1564\n",
      "           1   0.765908  0.758820  0.762347      1729\n",
      "           2   1.000000  1.000000  1.000000      5526\n",
      "\n",
      "    accuracy                       0.907246      8819\n",
      "   macro avg   0.833995  0.834142  0.834056      8819\n",
      "weighted avg   0.907300  0.907246  0.907266      8819\n",
      "\n"
     ]
    }
   ],
   "source": [
    "def find_max_index(arr):\n",
    "    # print(arr)\n",
    "    # print(max_value)\n",
    "    return np.argmax(arr)\n",
    "res = model.predict(X_test)\n",
    "actual = []\n",
    "for num in res:\n",
    "    actual.append(np.argmax(num))\n",
    "from sklearn.metrics import classification_report\n",
    "print(classification_report(Y_test,actual,digits=6))"
   ]
  },
  {
   "cell_type": "code",
   "execution_count": 7,
   "metadata": {},
   "outputs": [
    {
     "data": {
      "text/plain": [
       "<sklearn.metrics._plot.confusion_matrix.ConfusionMatrixDisplay at 0x200d8390520>"
      ]
     },
     "execution_count": 7,
     "metadata": {},
     "output_type": "execute_result"
    },
    {
     "data": {
      "image/png": "[encoded data removed]",
      "text/plain": [
       "<Figure size 640x480 with 2 Axes>"
      ]
     },
     "metadata": {},
     "output_type": "display_data"
    }
   ],
   "source": [
    "from sklearn.metrics import confusion_matrix\n",
    "from sklearn.metrics import ConfusionMatrixDisplay\n",
    "confusionmatrix = confusion_matrix(Y_test, actual)\n",
    "cm_display = ConfusionMatrixDisplay(confusionmatrix, display_labels=[0,1,2])\n",
    "cm_display.plot()"
   ]
  },
  {
   "cell_type": "code",
   "execution_count": null,
   "metadata": {},
   "outputs": [
    {
     "name": "stderr",
     "output_type": "stream",
     "text": [
      "c:\\Users\\eddie\\AppData\\Local\\Programs\\Python\\Python39\\lib\\site-packages\\tqdm\\auto.py:21: TqdmWarning: IProgress not found. Please update jupyter and ipywidgets. See https://ipywidgets.readthedocs.io/en/stable/user_install.html\n",
      "  from .autonotebook import tqdm as notebook_tqdm\n"
     ]
    },
    {
     "name": "stdout",
     "output_type": "stream",
     "text": [
      "13/13 [==============================] - 0s 7ms/step\n"
     ]
    },
    {
     "name": "stderr",
     "output_type": "stream",
     "text": [
      "Using 400 background data samples could cause slower run times. Consider using shap.sample(data, K) or shap.kmeans(data, K) to summarize the background as K samples.\n",
      "  0%|          | 0/400 [00:00<?, ?it/s]"
     ]
    },
    {
     "name": "stdout",
     "output_type": "stream",
     "text": [
      "1/1 [==============================] - 0s 35ms/step\n",
      "26150/26150 [==============================] - 211s 8ms/step\n"
     ]
    },
    {
     "name": "stderr",
     "output_type": "stream",
     "text": [
      "  0%|          | 1/400 [03:52<25:43:27, 232.10s/it]"
     ]
    },
    {
     "name": "stdout",
     "output_type": "stream",
     "text": [
      "1/1 [==============================] - 0s 46ms/step\n",
      "26150/26150 [==============================] - 231s 9ms/step\n"
     ]
    },
    {
     "name": "stderr",
     "output_type": "stream",
     "text": [
      "  0%|          | 2/400 [08:01<26:46:45, 242.22s/it]"
     ]
    },
    {
     "name": "stdout",
     "output_type": "stream",
     "text": [
      "1/1 [==============================] - 0s 34ms/step\n",
      "26150/26150 [==============================] - 226s 9ms/step\n"
     ]
    },
    {
     "name": "stderr",
     "output_type": "stream",
     "text": [
      "  1%|          | 3/400 [12:05<26:48:46, 243.14s/it]"
     ]
    },
    {
     "name": "stdout",
     "output_type": "stream",
     "text": [
      "1/1 [==============================] - 0s 36ms/step\n",
      "26150/26150 [==============================] - 224s 9ms/step\n"
     ]
    },
    {
     "name": "stderr",
     "output_type": "stream",
     "text": [
      "  1%|          | 4/400 [16:06<26:39:45, 242.39s/it]"
     ]
    },
    {
     "name": "stdout",
     "output_type": "stream",
     "text": [
      "1/1 [==============================] - 0s 38ms/step\n",
      "26150/26150 [==============================] - 227s 9ms/step\n"
     ]
    },
    {
     "name": "stderr",
     "output_type": "stream",
     "text": [
      "  1%|▏         | 5/400 [20:10<26:39:10, 242.91s/it]"
     ]
    },
    {
     "name": "stdout",
     "output_type": "stream",
     "text": [
      "1/1 [==============================] - 0s 33ms/step\n",
      "26150/26150 [==============================] - 225s 9ms/step\n"
     ]
    },
    {
     "name": "stderr",
     "output_type": "stream",
     "text": [
      "  2%|▏         | 6/400 [24:10<26:27:45, 241.79s/it]"
     ]
    },
    {
     "name": "stdout",
     "output_type": "stream",
     "text": [
      "1/1 [==============================] - 0s 26ms/step\n",
      "26150/26150 [==============================] - 219s 8ms/step\n"
     ]
    },
    {
     "name": "stderr",
     "output_type": "stream",
     "text": [
      "  2%|▏         | 7/400 [28:03<26:05:14, 238.97s/it]"
     ]
    },
    {
     "name": "stdout",
     "output_type": "stream",
     "text": [
      "1/1 [==============================] - 0s 24ms/step\n",
      "26150/26150 [==============================] - 221s 8ms/step\n"
     ]
    },
    {
     "name": "stderr",
     "output_type": "stream",
     "text": [
      "  2%|▏         | 8/400 [31:57<25:51:22, 237.46s/it]"
     ]
    },
    {
     "name": "stdout",
     "output_type": "stream",
     "text": [
      "1/1 [==============================] - 0s 37ms/step\n",
      "26150/26150 [==============================] - 220s 8ms/step\n"
     ]
    },
    {
     "name": "stderr",
     "output_type": "stream",
     "text": [
      "  2%|▏         | 9/400 [35:53<25:43:28, 236.85s/it]"
     ]
    },
    {
     "name": "stdout",
     "output_type": "stream",
     "text": [
      "1/1 [==============================] - 0s 34ms/step\n",
      "26150/26150 [==============================] - 223s 9ms/step\n"
     ]
    },
    {
     "name": "stderr",
     "output_type": "stream",
     "text": [
      "  2%|▎         | 10/400 [39:53<25:46:30, 237.93s/it]"
     ]
    },
    {
     "name": "stdout",
     "output_type": "stream",
     "text": [
      "1/1 [==============================] - 0s 33ms/step\n",
      "26150/26150 [==============================] - 220s 8ms/step\n"
     ]
    },
    {
     "name": "stderr",
     "output_type": "stream",
     "text": [
      "  3%|▎         | 11/400 [43:50<25:40:54, 237.67s/it]"
     ]
    },
    {
     "name": "stdout",
     "output_type": "stream",
     "text": [
      "1/1 [==============================] - 0s 49ms/step\n",
      "26150/26150 [==============================] - 223s 9ms/step\n"
     ]
    },
    {
     "name": "stderr",
     "output_type": "stream",
     "text": [
      "  3%|▎         | 12/400 [47:50<25:42:05, 238.47s/it]"
     ]
    },
    {
     "name": "stdout",
     "output_type": "stream",
     "text": [
      "1/1 [==============================] - 0s 34ms/step\n",
      "26150/26150 [==============================] - 219s 8ms/step\n"
     ]
    },
    {
     "name": "stderr",
     "output_type": "stream",
     "text": [
      "  3%|▎         | 13/400 [51:47<25:34:22, 237.89s/it]"
     ]
    },
    {
     "name": "stdout",
     "output_type": "stream",
     "text": [
      "1/1 [==============================] - 0s 31ms/step\n",
      "26150/26150 [==============================] - 221s 8ms/step\n"
     ]
    },
    {
     "name": "stderr",
     "output_type": "stream",
     "text": [
      "  4%|▎         | 14/400 [55:45<25:31:34, 238.07s/it]"
     ]
    },
    {
     "name": "stdout",
     "output_type": "stream",
     "text": [
      "1/1 [==============================] - 0s 29ms/step\n",
      "26150/26150 [==============================] - 228s 9ms/step\n"
     ]
    },
    {
     "name": "stderr",
     "output_type": "stream",
     "text": [
      "  4%|▍         | 15/400 [59:47<25:34:34, 239.15s/it]"
     ]
    },
    {
     "name": "stdout",
     "output_type": "stream",
     "text": [
      "1/1 [==============================] - 0s 28ms/step\n",
      "26150/26150 [==============================] - 229s 9ms/step\n"
     ]
    },
    {
     "name": "stderr",
     "output_type": "stream",
     "text": [
      "  4%|▍         | 16/400 [1:03:54<25:46:11, 241.59s/it]"
     ]
    },
    {
     "name": "stdout",
     "output_type": "stream",
     "text": [
      "1/1 [==============================] - 0s 33ms/step\n",
      "26150/26150 [==============================] - 227s 9ms/step\n"
     ]
    },
    {
     "name": "stderr",
     "output_type": "stream",
     "text": [
      "  4%|▍         | 17/400 [1:07:58<25:46:18, 242.24s/it]"
     ]
    },
    {
     "name": "stdout",
     "output_type": "stream",
     "text": [
      "1/1 [==============================] - 0s 34ms/step\n",
      "26150/26150 [==============================] - 228s 9ms/step\n"
     ]
    },
    {
     "name": "stderr",
     "output_type": "stream",
     "text": [
      "  4%|▍         | 18/400 [1:12:03<25:47:20, 243.04s/it]"
     ]
    },
    {
     "name": "stdout",
     "output_type": "stream",
     "text": [
      "1/1 [==============================] - 0s 35ms/step\n",
      "26150/26150 [==============================] - 234s 9ms/step\n"
     ]
    },
    {
     "name": "stderr",
     "output_type": "stream",
     "text": [
      "  5%|▍         | 19/400 [1:16:11<25:53:32, 244.65s/it]"
     ]
    },
    {
     "name": "stdout",
     "output_type": "stream",
     "text": [
      "1/1 [==============================] - 0s 26ms/step\n",
      "26150/26150 [==============================] - 229s 9ms/step\n"
     ]
    },
    {
     "name": "stderr",
     "output_type": "stream",
     "text": [
      "  5%|▌         | 20/400 [1:20:17<25:50:22, 244.79s/it]"
     ]
    },
    {
     "name": "stdout",
     "output_type": "stream",
     "text": [
      "1/1 [==============================] - 0s 34ms/step\n",
      "26150/26150 [==============================] - 233s 9ms/step\n"
     ]
    },
    {
     "name": "stderr",
     "output_type": "stream",
     "text": [
      "  5%|▌         | 21/400 [1:24:27<25:56:34, 246.42s/it]"
     ]
    },
    {
     "name": "stdout",
     "output_type": "stream",
     "text": [
      "1/1 [==============================] - 0s 30ms/step\n",
      "26150/26150 [==============================] - 237s 9ms/step\n"
     ]
    },
    {
     "name": "stderr",
     "output_type": "stream",
     "text": [
      "  6%|▌         | 22/400 [1:28:44<26:13:41, 249.79s/it]"
     ]
    },
    {
     "name": "stdout",
     "output_type": "stream",
     "text": [
      "1/1 [==============================] - 0s 33ms/step\n",
      "26150/26150 [==============================] - 227s 9ms/step\n"
     ]
    },
    {
     "name": "stderr",
     "output_type": "stream",
     "text": [
      "  6%|▌         | 23/400 [1:32:46<25:53:11, 247.19s/it]"
     ]
    },
    {
     "name": "stdout",
     "output_type": "stream",
     "text": [
      "1/1 [==============================] - 0s 38ms/step\n",
      "26150/26150 [==============================] - 216s 8ms/step\n"
     ]
    },
    {
     "name": "stderr",
     "output_type": "stream",
     "text": [
      "  6%|▌         | 24/400 [1:36:37<25:18:53, 242.38s/it]"
     ]
    },
    {
     "name": "stdout",
     "output_type": "stream",
     "text": [
      "1/1 [==============================] - 0s 46ms/step\n",
      "26150/26150 [==============================] - 224s 9ms/step\n"
     ]
    },
    {
     "name": "stderr",
     "output_type": "stream",
     "text": [
      "  6%|▋         | 25/400 [1:40:39<25:15:28, 242.48s/it]"
     ]
    },
    {
     "name": "stdout",
     "output_type": "stream",
     "text": [
      "1/1 [==============================] - 0s 35ms/step\n",
      "26150/26150 [==============================] - 223s 9ms/step\n"
     ]
    },
    {
     "name": "stderr",
     "output_type": "stream",
     "text": [
      "  6%|▋         | 26/400 [1:44:40<25:07:13, 241.80s/it]"
     ]
    },
    {
     "name": "stdout",
     "output_type": "stream",
     "text": [
      "1/1 [==============================] - 0s 32ms/step\n",
      "26150/26150 [==============================] - 225s 9ms/step\n"
     ]
    },
    {
     "name": "stderr",
     "output_type": "stream",
     "text": [
      "  7%|▋         | 27/400 [1:48:42<25:04:50, 242.07s/it]"
     ]
    },
    {
     "name": "stdout",
     "output_type": "stream",
     "text": [
      "1/1 [==============================] - 0s 30ms/step\n",
      "26150/26150 [==============================] - 229s 9ms/step\n"
     ]
    },
    {
     "name": "stderr",
     "output_type": "stream",
     "text": [
      "  7%|▋         | 28/400 [1:52:46<25:04:24, 242.65s/it]"
     ]
    },
    {
     "name": "stdout",
     "output_type": "stream",
     "text": [
      "1/1 [==============================] - 0s 29ms/step\n",
      "26150/26150 [==============================] - 221s 8ms/step\n"
     ]
    },
    {
     "name": "stderr",
     "output_type": "stream",
     "text": [
      "  7%|▋         | 29/400 [1:56:41<24:45:20, 240.22s/it]"
     ]
    },
    {
     "name": "stdout",
     "output_type": "stream",
     "text": [
      "1/1 [==============================] - 0s 35ms/step\n",
      "26150/26150 [==============================] - 229s 9ms/step\n"
     ]
    },
    {
     "name": "stderr",
     "output_type": "stream",
     "text": [
      "  8%|▊         | 30/400 [2:00:48<24:53:26, 242.18s/it]"
     ]
    },
    {
     "name": "stdout",
     "output_type": "stream",
     "text": [
      "1/1 [==============================] - 0s 33ms/step\n",
      "26150/26150 [==============================] - 224s 9ms/step\n"
     ]
    },
    {
     "name": "stderr",
     "output_type": "stream",
     "text": [
      "  8%|▊         | 31/400 [2:04:49<24:48:40, 242.06s/it]"
     ]
    },
    {
     "name": "stdout",
     "output_type": "stream",
     "text": [
      "1/1 [==============================] - 0s 47ms/step\n",
      "26150/26150 [==============================] - 234s 9ms/step\n"
     ]
    },
    {
     "name": "stderr",
     "output_type": "stream",
     "text": [
      "  8%|▊         | 32/400 [2:09:01<25:02:21, 244.95s/it]"
     ]
    },
    {
     "name": "stdout",
     "output_type": "stream",
     "text": [
      "1/1 [==============================] - 0s 33ms/step\n",
      "26150/26150 [==============================] - 246s 9ms/step\n"
     ]
    },
    {
     "name": "stderr",
     "output_type": "stream",
     "text": [
      "  8%|▊         | 33/400 [2:13:21<25:25:28, 249.40s/it]"
     ]
    },
    {
     "name": "stdout",
     "output_type": "stream",
     "text": [
      "1/1 [==============================] - 0s 33ms/step\n",
      "26150/26150 [==============================] - 223s 9ms/step\n"
     ]
    },
    {
     "name": "stderr",
     "output_type": "stream",
     "text": [
      "  8%|▊         | 34/400 [2:17:25<25:11:00, 247.71s/it]"
     ]
    },
    {
     "name": "stdout",
     "output_type": "stream",
     "text": [
      "1/1 [==============================] - 0s 35ms/step\n",
      "26150/26150 [==============================] - 227s 9ms/step\n"
     ]
    },
    {
     "name": "stderr",
     "output_type": "stream",
     "text": [
      "  9%|▉         | 35/400 [2:21:29<25:00:25, 246.64s/it]"
     ]
    },
    {
     "name": "stdout",
     "output_type": "stream",
     "text": [
      "1/1 [==============================] - 0s 33ms/step\n",
      "26150/26150 [==============================] - 227s 9ms/step\n"
     ]
    },
    {
     "name": "stderr",
     "output_type": "stream",
     "text": [
      "  9%|▉         | 36/400 [2:25:34<24:52:54, 246.08s/it]"
     ]
    },
    {
     "name": "stdout",
     "output_type": "stream",
     "text": [
      "1/1 [==============================] - 0s 31ms/step\n",
      "26150/26150 [==============================] - 223s 9ms/step\n"
     ]
    },
    {
     "name": "stderr",
     "output_type": "stream",
     "text": [
      "  9%|▉         | 37/400 [2:29:32<24:35:02, 243.81s/it]"
     ]
    },
    {
     "name": "stdout",
     "output_type": "stream",
     "text": [
      "1/1 [==============================] - 0s 29ms/step\n",
      "26150/26150 [==============================] - 224s 9ms/step\n"
     ]
    },
    {
     "name": "stderr",
     "output_type": "stream",
     "text": [
      " 10%|▉         | 38/400 [2:33:32<24:23:45, 242.61s/it]"
     ]
    },
    {
     "name": "stdout",
     "output_type": "stream",
     "text": [
      "1/1 [==============================] - 0s 31ms/step\n",
      "26150/26150 [==============================] - 223s 9ms/step\n"
     ]
    },
    {
     "name": "stderr",
     "output_type": "stream",
     "text": [
      " 10%|▉         | 39/400 [2:37:32<24:15:26, 241.90s/it]"
     ]
    },
    {
     "name": "stdout",
     "output_type": "stream",
     "text": [
      "1/1 [==============================] - 0s 31ms/step\n",
      "26150/26150 [==============================] - 228s 9ms/step\n"
     ]
    },
    {
     "name": "stderr",
     "output_type": "stream",
     "text": [
      " 10%|█         | 40/400 [2:41:38<24:17:55, 242.99s/it]"
     ]
    },
    {
     "name": "stdout",
     "output_type": "stream",
     "text": [
      "1/1 [==============================] - 0s 35ms/step\n",
      "26150/26150 [==============================] - 225s 9ms/step\n"
     ]
    },
    {
     "name": "stderr",
     "output_type": "stream",
     "text": [
      " 10%|█         | 41/400 [2:45:39<24:10:22, 242.40s/it]"
     ]
    },
    {
     "name": "stdout",
     "output_type": "stream",
     "text": [
      "1/1 [==============================] - 0s 32ms/step\n",
      "26150/26150 [==============================] - 224s 9ms/step\n"
     ]
    },
    {
     "name": "stderr",
     "output_type": "stream",
     "text": [
      " 10%|█         | 42/400 [2:49:43<24:09:24, 242.92s/it]"
     ]
    },
    {
     "name": "stdout",
     "output_type": "stream",
     "text": [
      "1/1 [==============================] - 0s 35ms/step\n",
      "26150/26150 [==============================] - 228s 9ms/step\n"
     ]
    },
    {
     "name": "stderr",
     "output_type": "stream",
     "text": [
      " 11%|█         | 43/400 [2:53:48<24:09:06, 243.55s/it]"
     ]
    },
    {
     "name": "stdout",
     "output_type": "stream",
     "text": [
      "1/1 [==============================] - 0s 34ms/step\n",
      "26150/26150 [==============================] - 228s 9ms/step\n"
     ]
    },
    {
     "name": "stderr",
     "output_type": "stream",
     "text": [
      " 11%|█         | 44/400 [2:57:53<24:07:06, 243.89s/it]"
     ]
    },
    {
     "name": "stdout",
     "output_type": "stream",
     "text": [
      "1/1 [==============================] - 0s 45ms/step\n",
      "26150/26150 [==============================] - 225s 9ms/step\n"
     ]
    },
    {
     "name": "stderr",
     "output_type": "stream",
     "text": [
      " 11%|█▏        | 45/400 [3:01:57<24:03:56, 244.05s/it]"
     ]
    },
    {
     "name": "stdout",
     "output_type": "stream",
     "text": [
      "1/1 [==============================] - 0s 28ms/step\n",
      "26150/26150 [==============================] - 227s 9ms/step\n"
     ]
    },
    {
     "name": "stderr",
     "output_type": "stream",
     "text": [
      " 12%|█▏        | 46/400 [3:06:01<24:00:40, 244.18s/it]"
     ]
    },
    {
     "name": "stdout",
     "output_type": "stream",
     "text": [
      "1/1 [==============================] - 0s 35ms/step\n",
      "26150/26150 [==============================] - 228s 9ms/step\n"
     ]
    },
    {
     "name": "stderr",
     "output_type": "stream",
     "text": [
      " 12%|█▏        | 47/400 [3:10:07<23:59:01, 244.59s/it]"
     ]
    },
    {
     "name": "stdout",
     "output_type": "stream",
     "text": [
      "1/1 [==============================] - 0s 44ms/step\n",
      "26150/26150 [==============================] - 230s 9ms/step\n"
     ]
    },
    {
     "name": "stderr",
     "output_type": "stream",
     "text": [
      " 12%|█▏        | 48/400 [3:14:17<24:05:08, 246.33s/it]"
     ]
    },
    {
     "name": "stdout",
     "output_type": "stream",
     "text": [
      "1/1 [==============================] - 0s 34ms/step\n",
      "26150/26150 [==============================] - 226s 9ms/step\n"
     ]
    },
    {
     "name": "stderr",
     "output_type": "stream",
     "text": [
      " 12%|█▏        | 49/400 [3:18:19<23:52:20, 244.85s/it]"
     ]
    },
    {
     "name": "stdout",
     "output_type": "stream",
     "text": [
      "1/1 [==============================] - 0s 26ms/step\n",
      "26150/26150 [==============================] - 225s 9ms/step\n"
     ]
    },
    {
     "name": "stderr",
     "output_type": "stream",
     "text": [
      " 12%|█▎        | 50/400 [3:22:18<23:38:52, 243.24s/it]"
     ]
    },
    {
     "name": "stdout",
     "output_type": "stream",
     "text": [
      "1/1 [==============================] - 0s 37ms/step\n",
      "26150/26150 [==============================] - 227s 9ms/step\n"
     ]
    },
    {
     "name": "stderr",
     "output_type": "stream",
     "text": [
      " 13%|█▎        | 51/400 [3:26:23<23:36:48, 243.58s/it]"
     ]
    },
    {
     "name": "stdout",
     "output_type": "stream",
     "text": [
      "1/1 [==============================] - 0s 46ms/step\n",
      "26150/26150 [==============================] - 224s 9ms/step\n"
     ]
    },
    {
     "name": "stderr",
     "output_type": "stream",
     "text": [
      " 13%|█▎        | 52/400 [3:30:25<23:30:24, 243.17s/it]"
     ]
    },
    {
     "name": "stdout",
     "output_type": "stream",
     "text": [
      "1/1 [==============================] - 0s 37ms/step\n",
      "26150/26150 [==============================] - 223s 9ms/step\n"
     ]
    },
    {
     "name": "stderr",
     "output_type": "stream",
     "text": [
      " 13%|█▎        | 53/400 [3:34:25<23:20:47, 242.21s/it]"
     ]
    },
    {
     "name": "stdout",
     "output_type": "stream",
     "text": [
      "1/1 [==============================] - 0s 23ms/step\n",
      "26150/26150 [==============================] - 227s 9ms/step\n"
     ]
    },
    {
     "name": "stderr",
     "output_type": "stream",
     "text": [
      " 14%|█▎        | 54/400 [3:38:26<23:14:17, 241.78s/it]"
     ]
    },
    {
     "name": "stdout",
     "output_type": "stream",
     "text": [
      "1/1 [==============================] - 0s 39ms/step\n",
      "26150/26150 [==============================] - 228s 9ms/step\n"
     ]
    },
    {
     "name": "stderr",
     "output_type": "stream",
     "text": [
      " 14%|█▍        | 55/400 [3:42:32<23:17:29, 243.04s/it]"
     ]
    },
    {
     "name": "stdout",
     "output_type": "stream",
     "text": [
      "1/1 [==============================] - 0s 40ms/step\n",
      "26150/26150 [==============================] - 229s 9ms/step\n"
     ]
    },
    {
     "name": "stderr",
     "output_type": "stream",
     "text": [
      " 14%|█▍        | 56/400 [3:46:39<23:21:25, 244.43s/it]"
     ]
    },
    {
     "name": "stdout",
     "output_type": "stream",
     "text": [
      "1/1 [==============================] - 0s 30ms/step\n",
      "26150/26150 [==============================] - 228s 9ms/step\n"
     ]
    },
    {
     "name": "stderr",
     "output_type": "stream",
     "text": [
      " 14%|█▍        | 57/400 [3:50:44<23:18:36, 244.66s/it]"
     ]
    },
    {
     "name": "stdout",
     "output_type": "stream",
     "text": [
      "1/1 [==============================] - 0s 26ms/step\n",
      "26150/26150 [==============================] - 226s 9ms/step\n"
     ]
    },
    {
     "name": "stderr",
     "output_type": "stream",
     "text": [
      " 14%|█▍        | 58/400 [3:54:44<23:04:59, 242.98s/it]"
     ]
    },
    {
     "name": "stdout",
     "output_type": "stream",
     "text": [
      "1/1 [==============================] - 0s 33ms/step\n",
      "26150/26150 [==============================] - 226s 9ms/step\n"
     ]
    },
    {
     "name": "stderr",
     "output_type": "stream",
     "text": [
      " 15%|█▍        | 59/400 [3:58:46<23:00:29, 242.90s/it]"
     ]
    },
    {
     "name": "stdout",
     "output_type": "stream",
     "text": [
      "1/1 [==============================] - 0s 33ms/step\n",
      "26150/26150 [==============================] - 225s 9ms/step\n"
     ]
    },
    {
     "name": "stderr",
     "output_type": "stream",
     "text": [
      " 15%|█▌        | 60/400 [4:02:48<22:54:18, 242.53s/it]"
     ]
    },
    {
     "name": "stdout",
     "output_type": "stream",
     "text": [
      "1/1 [==============================] - 0s 34ms/step\n",
      "26150/26150 [==============================] - 228s 9ms/step\n"
     ]
    },
    {
     "name": "stderr",
     "output_type": "stream",
     "text": [
      " 15%|█▌        | 61/400 [4:06:52<22:52:32, 242.93s/it]"
     ]
    },
    {
     "name": "stdout",
     "output_type": "stream",
     "text": [
      "1/1 [==============================] - 0s 29ms/step\n",
      "26150/26150 [==============================] - 227s 9ms/step\n"
     ]
    },
    {
     "name": "stderr",
     "output_type": "stream",
     "text": [
      " 16%|█▌        | 62/400 [4:10:53<22:45:56, 242.47s/it]"
     ]
    },
    {
     "name": "stdout",
     "output_type": "stream",
     "text": [
      "1/1 [==============================] - 0s 34ms/step\n",
      "26150/26150 [==============================] - 227s 9ms/step\n"
     ]
    },
    {
     "name": "stderr",
     "output_type": "stream",
     "text": [
      " 16%|█▌        | 63/400 [4:14:57<22:44:38, 242.96s/it]"
     ]
    },
    {
     "name": "stdout",
     "output_type": "stream",
     "text": [
      "1/1 [==============================] - 0s 34ms/step\n",
      "26150/26150 [==============================] - 225s 9ms/step\n"
     ]
    },
    {
     "name": "stderr",
     "output_type": "stream",
     "text": [
      " 16%|█▌        | 64/400 [4:19:00<22:39:42, 242.80s/it]"
     ]
    },
    {
     "name": "stdout",
     "output_type": "stream",
     "text": [
      "1/1 [==============================] - 0s 33ms/step\n",
      "26150/26150 [==============================] - 227s 9ms/step\n"
     ]
    },
    {
     "name": "stderr",
     "output_type": "stream",
     "text": [
      " 16%|█▋        | 65/400 [4:23:04<22:37:51, 243.20s/it]"
     ]
    },
    {
     "name": "stdout",
     "output_type": "stream",
     "text": [
      "1/1 [==============================] - 0s 28ms/step\n",
      "26150/26150 [==============================] - 228s 9ms/step\n"
     ]
    },
    {
     "name": "stderr",
     "output_type": "stream",
     "text": [
      " 16%|█▋        | 66/400 [4:27:06<22:31:21, 242.76s/it]"
     ]
    },
    {
     "name": "stdout",
     "output_type": "stream",
     "text": [
      "1/1 [==============================] - 0s 34ms/step\n",
      "26150/26150 [==============================] - 229s 9ms/step\n"
     ]
    },
    {
     "name": "stderr",
     "output_type": "stream",
     "text": [
      " 17%|█▋        | 67/400 [4:31:12<22:33:21, 243.85s/it]"
     ]
    },
    {
     "name": "stdout",
     "output_type": "stream",
     "text": [
      "1/1 [==============================] - 0s 36ms/step\n",
      "26150/26150 [==============================] - 226s 9ms/step\n"
     ]
    },
    {
     "name": "stderr",
     "output_type": "stream",
     "text": [
      " 17%|█▋        | 68/400 [4:35:16<22:29:06, 243.82s/it]"
     ]
    },
    {
     "name": "stdout",
     "output_type": "stream",
     "text": [
      "1/1 [==============================] - 0s 31ms/step\n",
      "26150/26150 [==============================] - 228s 9ms/step\n"
     ]
    },
    {
     "name": "stderr",
     "output_type": "stream",
     "text": [
      " 17%|█▋        | 69/400 [4:39:19<22:23:43, 243.58s/it]"
     ]
    },
    {
     "name": "stdout",
     "output_type": "stream",
     "text": [
      "1/1 [==============================] - 0s 29ms/step\n",
      "26150/26150 [==============================] - 223s 9ms/step\n"
     ]
    },
    {
     "name": "stderr",
     "output_type": "stream",
     "text": [
      " 18%|█▊        | 70/400 [4:43:17<22:11:22, 242.07s/it]"
     ]
    },
    {
     "name": "stdout",
     "output_type": "stream",
     "text": [
      "1/1 [==============================] - 0s 33ms/step\n",
      "26150/26150 [==============================] - 226s 9ms/step\n"
     ]
    },
    {
     "name": "stderr",
     "output_type": "stream",
     "text": [
      " 18%|█▊        | 71/400 [4:47:20<22:08:52, 242.35s/it]"
     ]
    },
    {
     "name": "stdout",
     "output_type": "stream",
     "text": [
      "1/1 [==============================] - 0s 32ms/step\n",
      "26150/26150 [==============================] - 231s 9ms/step\n"
     ]
    },
    {
     "name": "stderr",
     "output_type": "stream",
     "text": [
      " 18%|█▊        | 72/400 [4:51:28<22:13:31, 243.94s/it]"
     ]
    },
    {
     "name": "stdout",
     "output_type": "stream",
     "text": [
      "1/1 [==============================] - 0s 33ms/step\n",
      "26150/26150 [==============================] - 225s 9ms/step\n"
     ]
    },
    {
     "name": "stderr",
     "output_type": "stream",
     "text": [
      " 18%|█▊        | 73/400 [4:55:27<22:02:02, 242.58s/it]"
     ]
    },
    {
     "name": "stdout",
     "output_type": "stream",
     "text": [
      "1/1 [==============================] - 0s 31ms/step\n",
      "26150/26150 [==============================] - 229s 9ms/step\n"
     ]
    },
    {
     "name": "stderr",
     "output_type": "stream",
     "text": [
      " 18%|█▊        | 74/400 [4:59:34<22:04:18, 243.74s/it]"
     ]
    },
    {
     "name": "stdout",
     "output_type": "stream",
     "text": [
      "1/1 [==============================] - 0s 33ms/step\n",
      "26150/26150 [==============================] - 231s 9ms/step\n"
     ]
    },
    {
     "name": "stderr",
     "output_type": "stream",
     "text": [
      " 19%|█▉        | 75/400 [5:03:43<22:08:58, 245.35s/it]"
     ]
    },
    {
     "name": "stdout",
     "output_type": "stream",
     "text": [
      "1/1 [==============================] - 0s 36ms/step\n",
      "26150/26150 [==============================] - 226s 9ms/step\n"
     ]
    },
    {
     "name": "stderr",
     "output_type": "stream",
     "text": [
      " 19%|█▉        | 76/400 [5:07:44<21:58:03, 244.09s/it]"
     ]
    },
    {
     "name": "stdout",
     "output_type": "stream",
     "text": [
      "1/1 [==============================] - 0s 23ms/step\n",
      "26150/26150 [==============================] - 227s 9ms/step\n"
     ]
    },
    {
     "name": "stderr",
     "output_type": "stream",
     "text": [
      " 19%|█▉        | 77/400 [5:11:45<21:48:56, 243.15s/it]"
     ]
    },
    {
     "name": "stdout",
     "output_type": "stream",
     "text": [
      "1/1 [==============================] - 0s 36ms/step\n",
      "26150/26150 [==============================] - 226s 9ms/step\n"
     ]
    },
    {
     "name": "stderr",
     "output_type": "stream",
     "text": [
      " 20%|█▉        | 78/400 [5:15:49<21:45:51, 243.33s/it]"
     ]
    },
    {
     "name": "stdout",
     "output_type": "stream",
     "text": [
      "1/1 [==============================] - 0s 32ms/step\n",
      "26150/26150 [==============================] - 229s 9ms/step\n"
     ]
    },
    {
     "name": "stderr",
     "output_type": "stream",
     "text": [
      " 20%|█▉        | 79/400 [5:19:55<21:46:32, 244.21s/it]"
     ]
    },
    {
     "name": "stdout",
     "output_type": "stream",
     "text": [
      "1/1 [==============================] - 0s 32ms/step\n",
      "26150/26150 [==============================] - 229s 9ms/step\n"
     ]
    },
    {
     "name": "stderr",
     "output_type": "stream",
     "text": [
      " 20%|██        | 80/400 [5:23:59<21:41:50, 244.09s/it]"
     ]
    },
    {
     "name": "stdout",
     "output_type": "stream",
     "text": [
      "1/1 [==============================] - 0s 28ms/step\n",
      "26150/26150 [==============================] - 230s 9ms/step\n"
     ]
    },
    {
     "name": "stderr",
     "output_type": "stream",
     "text": [
      " 20%|██        | 81/400 [5:28:05<21:41:33, 244.81s/it]"
     ]
    },
    {
     "name": "stdout",
     "output_type": "stream",
     "text": [
      "1/1 [==============================] - 0s 33ms/step\n",
      "26150/26150 [==============================] - 225s 9ms/step\n"
     ]
    },
    {
     "name": "stderr",
     "output_type": "stream",
     "text": [
      " 20%|██        | 82/400 [5:32:08<21:33:31, 244.06s/it]"
     ]
    },
    {
     "name": "stdout",
     "output_type": "stream",
     "text": [
      "1/1 [==============================] - 0s 35ms/step\n",
      "26150/26150 [==============================] - 226s 9ms/step\n"
     ]
    },
    {
     "name": "stderr",
     "output_type": "stream",
     "text": [
      " 21%|██        | 83/400 [5:36:10<21:27:08, 243.62s/it]"
     ]
    },
    {
     "name": "stdout",
     "output_type": "stream",
     "text": [
      "1/1 [==============================] - 0s 33ms/step\n",
      "26150/26150 [==============================] - 228s 9ms/step\n"
     ]
    },
    {
     "name": "stderr",
     "output_type": "stream",
     "text": [
      " 21%|██        | 84/400 [5:40:12<21:20:43, 243.18s/it]"
     ]
    },
    {
     "name": "stdout",
     "output_type": "stream",
     "text": [
      "1/1 [==============================] - 0s 38ms/step\n",
      "26150/26150 [==============================] - 223s 9ms/step\n"
     ]
    },
    {
     "name": "stderr",
     "output_type": "stream",
     "text": [
      " 21%|██▏       | 85/400 [5:44:12<21:11:45, 242.24s/it]"
     ]
    },
    {
     "name": "stdout",
     "output_type": "stream",
     "text": [
      "1/1 [==============================] - 0s 32ms/step\n",
      "26150/26150 [==============================] - 229s 9ms/step\n"
     ]
    },
    {
     "name": "stderr",
     "output_type": "stream",
     "text": [
      " 22%|██▏       | 86/400 [5:48:19<21:14:20, 243.51s/it]"
     ]
    },
    {
     "name": "stdout",
     "output_type": "stream",
     "text": [
      "1/1 [==============================] - 0s 60ms/step\n",
      "26150/26150 [==============================] - 229s 9ms/step\n"
     ]
    },
    {
     "name": "stderr",
     "output_type": "stream",
     "text": [
      " 22%|██▏       | 87/400 [5:52:25<21:13:48, 244.18s/it]"
     ]
    },
    {
     "name": "stdout",
     "output_type": "stream",
     "text": [
      "1/1 [==============================] - 0s 29ms/step\n",
      "26150/26150 [==============================] - 233s 9ms/step\n"
     ]
    },
    {
     "name": "stderr",
     "output_type": "stream",
     "text": [
      " 22%|██▏       | 88/400 [5:56:34<21:17:25, 245.66s/it]"
     ]
    },
    {
     "name": "stdout",
     "output_type": "stream",
     "text": [
      "1/1 [==============================] - 0s 49ms/step\n",
      "26150/26150 [==============================] - 233s 9ms/step\n"
     ]
    },
    {
     "name": "stderr",
     "output_type": "stream",
     "text": [
      " 22%|██▏       | 89/400 [6:00:45<21:21:47, 247.29s/it]"
     ]
    },
    {
     "name": "stdout",
     "output_type": "stream",
     "text": [
      "1/1 [==============================] - 0s 31ms/step\n",
      "26150/26150 [==============================] - 233s 9ms/step\n"
     ]
    },
    {
     "name": "stderr",
     "output_type": "stream",
     "text": [
      " 22%|██▎       | 90/400 [6:04:55<21:22:03, 248.14s/it]"
     ]
    },
    {
     "name": "stdout",
     "output_type": "stream",
     "text": [
      "1/1 [==============================] - 0s 31ms/step\n",
      "26150/26150 [==============================] - 234s 9ms/step\n"
     ]
    },
    {
     "name": "stderr",
     "output_type": "stream",
     "text": [
      " 23%|██▎       | 91/400 [6:09:02<21:16:47, 247.92s/it]"
     ]
    },
    {
     "name": "stdout",
     "output_type": "stream",
     "text": [
      "1/1 [==============================] - 0s 32ms/step\n",
      "26150/26150 [==============================] - 230s 9ms/step\n"
     ]
    },
    {
     "name": "stderr",
     "output_type": "stream",
     "text": [
      " 23%|██▎       | 92/400 [6:13:10<21:12:30, 247.89s/it]"
     ]
    },
    {
     "name": "stdout",
     "output_type": "stream",
     "text": [
      "1/1 [==============================] - 0s 36ms/step\n",
      "26150/26150 [==============================] - 228s 9ms/step\n"
     ]
    },
    {
     "name": "stderr",
     "output_type": "stream",
     "text": [
      " 23%|██▎       | 93/400 [6:17:16<21:04:57, 247.22s/it]"
     ]
    },
    {
     "name": "stdout",
     "output_type": "stream",
     "text": [
      "1/1 [==============================] - 0s 31ms/step\n",
      "22168/26150 [========================>.....] - ETA: 35s"
     ]
    }
   ],
   "source": [
    "import shap\n",
    "from sklearn.naive_bayes import CategoricalNB\n",
    "\n",
    "explainer = shap.KernelExplainer(model.predict, X_test[:400])\n",
    "shap_values = explainer.shap_values(X_test[:400])\n",
    "shap_values = shap_values.squeeze()\n",
    "# print(shap_values)\n",
    "# shap.summary_plot(shap_values,X_test[:10],feature_names = features,plot_type=\"bar\", plot_size=(20,15),show=False)\n",
    "# print(shap_values.shape)\n",
    "shap.summary_plot(shap_values[:,:,0],X_test[:400],feature_names = features, plot_size=(20,15),show=False)"
   ]
  },
  {
   "cell_type": "code",
   "execution_count": null,
   "metadata": {},
   "outputs": [
    {
     "data": {
      "image/png": "[encoded data removed]",
      "text/plain": [
       "<Figure size 2000x1500 with 1 Axes>"
      ]
     },
     "metadata": {},
     "output_type": "display_data"
    }
   ],
   "source": [
    "shap.summary_plot(shap_values[:,:,0],X_test[:400],feature_names = features,plot_type=\"bar\", plot_size=(20,15),show=False)"
   ]
  }
 ],
 "metadata": {
  "kernelspec": {
   "display_name": "Python 3",
   "language": "python",
   "name": "python3"
  },
  "language_info": {
   "codemirror_mode": {
    "name": "ipython",
    "version": 3
   },
   "file_extension": ".py",
   "mimetype": "text/x-python",
   "name": "python",
   "nbconvert_exporter": "python",
   "pygments_lexer": "ipython3",
   "version": "3.9.0"
  }
 },
 "nbformat": 4,
 "nbformat_minor": 2
}
