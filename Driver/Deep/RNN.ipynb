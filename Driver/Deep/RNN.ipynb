{
 "cells": [
  {
   "cell_type": "code",
   "execution_count": 2,
   "metadata": {},
   "outputs": [
    {
     "name": "stdout",
     "output_type": "stream",
     "text": [
      "       0   1   2   3   4   5   6   7   8   9   ...  12  13  14   15  16  17  \\\n",
      "0       1   1   1   1   0   1   3  55   1   1  ...   0   0   1    0   0   1   \n",
      "1       1   1   1   1   0   1   0  16   1   1  ...   0   0   1    0   0   1   \n",
      "2       1   1   1   1   3   0   3  41   1   1  ...   0   1   1    0   1   1   \n",
      "3       1   1   2   2   3   0   0  21   2   1  ...   0   0   1    0   0   1   \n",
      "4       1   1   2   1   3   0   1  66   1   1  ...   0   0   1  174   0   1   \n",
      "...    ..  ..  ..  ..  ..  ..  ..  ..  ..  ..  ...  ..  ..  ..  ...  ..  ..   \n",
      "44090   2   4   1   2   0   1   0  53   1   1  ...   1   0   1    0   0   1   \n",
      "44091   2   4   1   2   0   1   2  27   1   1  ...   1   0   1    0   1   1   \n",
      "44092   2   4   1   2   1   0   1  25   1   1  ...   1   1   1  155   0   1   \n",
      "44093   2   4   1   2   1   0   1  21   2   1  ...   1   1   1  120   0   0   \n",
      "44094   2   4   1   1   0   1   1  43   1   1  ...   0   1   1   70   1   1   \n",
      "\n",
      "       18  19  20  21  \n",
      "0       2   2   3   1  \n",
      "1       2   1   2   1  \n",
      "2       0   1   4   1  \n",
      "3       2   2   6   1  \n",
      "4       2   1   6   3  \n",
      "...    ..  ..  ..  ..  \n",
      "44090   2   1   2   1  \n",
      "44091   2   1   2   1  \n",
      "44092   1   1   2   0  \n",
      "44093   0   1   2   0  \n",
      "44094   2   1   2   1  \n",
      "\n",
      "[44095 rows x 22 columns]\n",
      "       0\n",
      "0      2\n",
      "1      2\n",
      "2      1\n",
      "3      2\n",
      "4      2\n",
      "...   ..\n",
      "44090  2\n",
      "44091  2\n",
      "44092  2\n",
      "44093  1\n",
      "44094  2\n",
      "\n",
      "[44095 rows x 1 columns]\n",
      "(35276, 22)\n",
      "(35276, 1)\n"
     ]
    }
   ],
   "source": [
    "import numpy as np\n",
    "import matplotlib\n",
    "import pandas as pd\n",
    "from sklearn.model_selection import train_test_split\n",
    "\n",
    "\n",
    "dataset = pd.read_csv('/Users/eddie/OneDrive/Documents/Injury Dataset/2013-2022/2018-2022 Data Cleaned Trainable.csv')\n",
    "\n",
    "X = pd.DataFrame(dataset.iloc[:,:22].values)\n",
    "Y = pd.DataFrame(dataset.iloc[:,22:].values)\n",
    "print(X)\n",
    "print(Y)\n",
    "X_train, X_test, Y_train, Y_test = train_test_split(X, Y, test_size=0.2)\n",
    "from sklearn.preprocessing import MinMaxScaler\n",
    "scaler = MinMaxScaler()\n",
    "X_train = scaler.fit_transform(X_train)\n",
    "X_test = scaler.transform(X_test)\n",
    "\n",
    "# X_train.reshape(35276,22,1)\n",
    "# X_test.reshape(8819,22,1)\n",
    "\n",
    "print(X_train.shape)\n",
    "print(Y_train.shape)"
   ]
  },
  {
   "cell_type": "code",
   "execution_count": 3,
   "metadata": {},
   "outputs": [
    {
     "name": "stdout",
     "output_type": "stream",
     "text": [
      "Index(['STATE', 'SEASON', 'DAY', 'HOUR', 'HARM_EV', 'MAN_COLL', 'BODY_TYP',\n",
      "       'AGE', 'GENDER', 'PER_TYP', 'SEAT_POS', 'REST_USE', 'AIR_BAG',\n",
      "       'DRINKING', 'ATST_TYP', 'ALC_RES', 'DRUGS', 'DSTATUS', 'ETHNICITY ',\n",
      "       'RUR_URB', 'FUNC_SYS', 'IMPACT1', 'INJ_SEV'],\n",
      "      dtype='object')\n"
     ]
    }
   ],
   "source": [
    "features = pd.DataFrame(dataset.iloc[:,:32])\n",
    "features = features.columns\n",
    "print(features)"
   ]
  },
  {
   "cell_type": "code",
   "execution_count": 4,
   "metadata": {},
   "outputs": [
    {
     "name": "stdout",
     "output_type": "stream",
     "text": [
      "WARNING:tensorflow:From c:\\Users\\eddie\\AppData\\Local\\Programs\\Python\\Python39\\lib\\site-packages\\keras\\src\\losses.py:2976: The name tf.losses.sparse_softmax_cross_entropy is deprecated. Please use tf.compat.v1.losses.sparse_softmax_cross_entropy instead.\n",
      "\n"
     ]
    }
   ],
   "source": [
    "import tensorflow as tf\n",
    "from tensorflow.keras import Sequential\n",
    "from tensorflow.keras.layers import Conv1D, MaxPooling1D, Flatten, Dense, Dropout, SimpleRNN\n",
    "from tensorflow.keras.optimizers import Adam\n",
    "from keras import layers"
   ]
  },
  {
   "cell_type": "code",
   "execution_count": 5,
   "metadata": {},
   "outputs": [
    {
     "name": "stdout",
     "output_type": "stream",
     "text": [
      "WARNING:tensorflow:From c:\\Users\\eddie\\AppData\\Local\\Programs\\Python\\Python39\\lib\\site-packages\\keras\\src\\backend.py:873: The name tf.get_default_graph is deprecated. Please use tf.compat.v1.get_default_graph instead.\n",
      "\n",
      "Epoch 1/200\n",
      "WARNING:tensorflow:From c:\\Users\\eddie\\AppData\\Local\\Programs\\Python\\Python39\\lib\\site-packages\\keras\\src\\utils\\tf_utils.py:492: The name tf.ragged.RaggedTensorValue is deprecated. Please use tf.compat.v1.ragged.RaggedTensorValue instead.\n",
      "\n",
      "WARNING:tensorflow:From c:\\Users\\eddie\\AppData\\Local\\Programs\\Python\\Python39\\lib\\site-packages\\keras\\src\\engine\\base_layer_utils.py:384: The name tf.executing_eagerly_outside_functions is deprecated. Please use tf.compat.v1.executing_eagerly_outside_functions instead.\n",
      "\n",
      "276/276 [==============================] - 9s 19ms/step - loss: 0.4198 - accuracy: 0.8046\n",
      "Epoch 2/200\n",
      "276/276 [==============================] - 6s 21ms/step - loss: 0.2355 - accuracy: 0.8874\n",
      "Epoch 3/200\n",
      "276/276 [==============================] - 6s 23ms/step - loss: 0.2244 - accuracy: 0.8979\n",
      "Epoch 4/200\n",
      "276/276 [==============================] - 6s 22ms/step - loss: 0.2146 - accuracy: 0.9039\n",
      "Epoch 5/200\n",
      "276/276 [==============================] - 6s 23ms/step - loss: 0.2124 - accuracy: 0.9063\n",
      "Epoch 6/200\n",
      "276/276 [==============================] - 6s 22ms/step - loss: 0.2223 - accuracy: 0.9040\n",
      "Epoch 7/200\n",
      "276/276 [==============================] - 6s 22ms/step - loss: 0.2061 - accuracy: 0.9108\n",
      "Epoch 8/200\n",
      "276/276 [==============================] - 6s 21ms/step - loss: 0.2060 - accuracy: 0.9108\n",
      "Epoch 9/200\n",
      "276/276 [==============================] - 6s 22ms/step - loss: 0.2152 - accuracy: 0.9088\n",
      "Epoch 10/200\n",
      "276/276 [==============================] - 6s 22ms/step - loss: 0.2044 - accuracy: 0.9123\n",
      "Epoch 11/200\n",
      "276/276 [==============================] - 7s 24ms/step - loss: 0.2196 - accuracy: 0.9104\n",
      "Epoch 12/200\n",
      "276/276 [==============================] - 6s 23ms/step - loss: 0.2119 - accuracy: 0.9096\n",
      "Epoch 13/200\n",
      "276/276 [==============================] - 7s 24ms/step - loss: 0.2037 - accuracy: 0.9121\n",
      "Epoch 14/200\n",
      "276/276 [==============================] - 7s 25ms/step - loss: 0.2038 - accuracy: 0.9122\n",
      "Epoch 15/200\n",
      "276/276 [==============================] - 7s 24ms/step - loss: 0.2000 - accuracy: 0.9129\n",
      "Epoch 16/200\n",
      "276/276 [==============================] - 7s 24ms/step - loss: 0.2003 - accuracy: 0.9131\n",
      "Epoch 17/200\n",
      "276/276 [==============================] - 7s 25ms/step - loss: 0.2119 - accuracy: 0.9100\n",
      "Epoch 18/200\n",
      "276/276 [==============================] - 7s 24ms/step - loss: 0.2054 - accuracy: 0.9124\n",
      "Epoch 19/200\n",
      "276/276 [==============================] - 7s 24ms/step - loss: 0.2034 - accuracy: 0.9110\n",
      "Epoch 20/200\n",
      "276/276 [==============================] - 7s 25ms/step - loss: 0.2063 - accuracy: 0.9114\n",
      "Epoch 21/200\n",
      "276/276 [==============================] - 6s 23ms/step - loss: 0.1975 - accuracy: 0.9134\n",
      "Epoch 22/200\n",
      "276/276 [==============================] - 6s 23ms/step - loss: 0.1964 - accuracy: 0.9141\n",
      "Epoch 23/200\n",
      "276/276 [==============================] - 7s 25ms/step - loss: 0.1952 - accuracy: 0.9140\n",
      "Epoch 24/200\n",
      "276/276 [==============================] - 7s 24ms/step - loss: 0.1979 - accuracy: 0.9137\n",
      "Epoch 25/200\n",
      "276/276 [==============================] - 6s 23ms/step - loss: 0.1960 - accuracy: 0.9124\n",
      "Epoch 26/200\n",
      "276/276 [==============================] - 7s 25ms/step - loss: 0.1958 - accuracy: 0.9139\n",
      "Epoch 27/200\n",
      "276/276 [==============================] - 7s 24ms/step - loss: 0.2463 - accuracy: 0.9036\n",
      "Epoch 28/200\n",
      "276/276 [==============================] - 7s 24ms/step - loss: 0.1988 - accuracy: 0.9133\n",
      "Epoch 29/200\n",
      "276/276 [==============================] - 7s 25ms/step - loss: 0.2089 - accuracy: 0.9096\n",
      "Epoch 30/200\n",
      "276/276 [==============================] - 7s 25ms/step - loss: 0.1991 - accuracy: 0.9129\n",
      "Epoch 31/200\n",
      "276/276 [==============================] - 7s 24ms/step - loss: 0.1959 - accuracy: 0.9136\n",
      "Epoch 32/200\n",
      "276/276 [==============================] - 7s 25ms/step - loss: 0.1942 - accuracy: 0.9142\n",
      "Epoch 33/200\n",
      "276/276 [==============================] - 7s 25ms/step - loss: 0.1947 - accuracy: 0.9137\n",
      "Epoch 34/200\n",
      "276/276 [==============================] - 7s 24ms/step - loss: 0.1929 - accuracy: 0.9144\n",
      "Epoch 35/200\n",
      "276/276 [==============================] - 7s 24ms/step - loss: 0.1913 - accuracy: 0.9139\n",
      "Epoch 36/200\n",
      "276/276 [==============================] - 7s 25ms/step - loss: 0.1933 - accuracy: 0.9140\n",
      "Epoch 37/200\n",
      "276/276 [==============================] - 7s 24ms/step - loss: 0.1952 - accuracy: 0.9130\n",
      "Epoch 38/200\n",
      "276/276 [==============================] - 7s 24ms/step - loss: 0.2211 - accuracy: 0.9090\n",
      "Epoch 39/200\n",
      "276/276 [==============================] - 7s 26ms/step - loss: 0.1969 - accuracy: 0.9134\n",
      "Epoch 40/200\n",
      "276/276 [==============================] - 7s 24ms/step - loss: 0.1981 - accuracy: 0.9130\n",
      "Epoch 41/200\n",
      "276/276 [==============================] - 6s 23ms/step - loss: 0.1945 - accuracy: 0.9140\n",
      "Epoch 42/200\n",
      "276/276 [==============================] - 7s 25ms/step - loss: 0.1933 - accuracy: 0.9134\n",
      "Epoch 43/200\n",
      "276/276 [==============================] - 7s 25ms/step - loss: 0.1917 - accuracy: 0.9140\n",
      "Epoch 44/200\n",
      "276/276 [==============================] - 6s 24ms/step - loss: 0.1930 - accuracy: 0.9158\n",
      "Epoch 45/200\n",
      "276/276 [==============================] - 7s 25ms/step - loss: 0.1931 - accuracy: 0.9146\n",
      "Epoch 46/200\n",
      "276/276 [==============================] - 7s 25ms/step - loss: 0.1938 - accuracy: 0.9141\n",
      "Epoch 47/200\n",
      "276/276 [==============================] - 6s 23ms/step - loss: 0.1901 - accuracy: 0.9149\n",
      "Epoch 48/200\n",
      "276/276 [==============================] - 7s 24ms/step - loss: 0.1922 - accuracy: 0.9140\n",
      "Epoch 49/200\n",
      "276/276 [==============================] - 7s 24ms/step - loss: 0.1925 - accuracy: 0.9145\n",
      "Epoch 50/200\n",
      "276/276 [==============================] - 6s 23ms/step - loss: 0.2647 - accuracy: 0.9055\n",
      "Epoch 51/200\n",
      "276/276 [==============================] - 7s 25ms/step - loss: 0.1991 - accuracy: 0.9118\n",
      "Epoch 52/200\n",
      "276/276 [==============================] - 7s 25ms/step - loss: 0.1974 - accuracy: 0.9124\n",
      "Epoch 53/200\n",
      "276/276 [==============================] - 6s 23ms/step - loss: 0.1955 - accuracy: 0.9134\n",
      "Epoch 54/200\n",
      "276/276 [==============================] - 7s 25ms/step - loss: 0.1949 - accuracy: 0.9136\n",
      "Epoch 55/200\n",
      "276/276 [==============================] - 7s 25ms/step - loss: 0.1949 - accuracy: 0.9151\n",
      "Epoch 56/200\n",
      "276/276 [==============================] - 6s 23ms/step - loss: 0.2108 - accuracy: 0.9119\n",
      "Epoch 57/200\n",
      "276/276 [==============================] - 7s 25ms/step - loss: 0.1956 - accuracy: 0.9122\n",
      "Epoch 58/200\n",
      "276/276 [==============================] - 7s 25ms/step - loss: 0.1936 - accuracy: 0.9136\n",
      "Epoch 59/200\n",
      "276/276 [==============================] - 6s 23ms/step - loss: 0.1926 - accuracy: 0.9144\n",
      "Epoch 60/200\n",
      "276/276 [==============================] - 6s 22ms/step - loss: 0.1941 - accuracy: 0.9137\n",
      "Epoch 61/200\n",
      "276/276 [==============================] - 5s 19ms/step - loss: 0.1929 - accuracy: 0.9146\n",
      "Epoch 62/200\n",
      "276/276 [==============================] - 5s 19ms/step - loss: 0.1998 - accuracy: 0.9135\n",
      "Epoch 63/200\n",
      "276/276 [==============================] - 6s 21ms/step - loss: 0.1944 - accuracy: 0.9135\n",
      "Epoch 64/200\n",
      "276/276 [==============================] - 5s 20ms/step - loss: 0.1944 - accuracy: 0.9150\n",
      "Epoch 65/200\n",
      "276/276 [==============================] - 5s 19ms/step - loss: 0.1925 - accuracy: 0.9141\n",
      "Epoch 66/200\n",
      "276/276 [==============================] - 6s 21ms/step - loss: 0.2264 - accuracy: 0.9082\n",
      "Epoch 67/200\n",
      "276/276 [==============================] - 6s 20ms/step - loss: 0.1966 - accuracy: 0.9128\n",
      "Epoch 68/200\n",
      "276/276 [==============================] - 5s 19ms/step - loss: 0.1934 - accuracy: 0.9140\n",
      "Epoch 69/200\n",
      "276/276 [==============================] - 5s 20ms/step - loss: 0.1927 - accuracy: 0.9146\n",
      "Epoch 70/200\n",
      "276/276 [==============================] - 6s 21ms/step - loss: 0.1937 - accuracy: 0.9125\n",
      "Epoch 71/200\n",
      "276/276 [==============================] - 5s 19ms/step - loss: 0.1935 - accuracy: 0.9145\n",
      "Epoch 72/200\n",
      "276/276 [==============================] - 5s 20ms/step - loss: 0.1925 - accuracy: 0.9151\n",
      "Epoch 73/200\n",
      "276/276 [==============================] - 6s 21ms/step - loss: 0.1947 - accuracy: 0.9135\n",
      "Epoch 74/200\n",
      "276/276 [==============================] - 5s 19ms/step - loss: 0.1933 - accuracy: 0.9141\n",
      "Epoch 75/200\n",
      "276/276 [==============================] - 5s 18ms/step - loss: 0.1914 - accuracy: 0.9131\n",
      "Epoch 76/200\n",
      "276/276 [==============================] - 5s 19ms/step - loss: 0.1926 - accuracy: 0.9133\n",
      "Epoch 77/200\n",
      "276/276 [==============================] - 5s 19ms/step - loss: 0.1930 - accuracy: 0.9143\n",
      "Epoch 78/200\n",
      "276/276 [==============================] - 5s 19ms/step - loss: 0.2124 - accuracy: 0.9119\n",
      "Epoch 79/200\n",
      "276/276 [==============================] - 5s 18ms/step - loss: 0.2005 - accuracy: 0.9124\n",
      "Epoch 80/200\n",
      "276/276 [==============================] - 5s 18ms/step - loss: 0.1942 - accuracy: 0.9150\n",
      "Epoch 81/200\n",
      "276/276 [==============================] - 6s 21ms/step - loss: 0.1926 - accuracy: 0.9139\n",
      "Epoch 82/200\n",
      "276/276 [==============================] - 6s 20ms/step - loss: 0.1936 - accuracy: 0.9149\n",
      "Epoch 83/200\n",
      "276/276 [==============================] - 5s 19ms/step - loss: 0.1920 - accuracy: 0.9152\n",
      "Epoch 84/200\n",
      "276/276 [==============================] - 6s 20ms/step - loss: 0.1936 - accuracy: 0.9126\n",
      "Epoch 85/200\n",
      "276/276 [==============================] - 6s 21ms/step - loss: 0.1921 - accuracy: 0.9144\n",
      "Epoch 86/200\n",
      "276/276 [==============================] - 5s 19ms/step - loss: 0.1960 - accuracy: 0.9122\n",
      "Epoch 87/200\n",
      "276/276 [==============================] - 5s 20ms/step - loss: 0.2200 - accuracy: 0.9091\n",
      "Epoch 88/200\n",
      "276/276 [==============================] - 6s 21ms/step - loss: 0.1959 - accuracy: 0.9130\n",
      "Epoch 89/200\n",
      "276/276 [==============================] - 5s 20ms/step - loss: 0.1939 - accuracy: 0.9151\n",
      "Epoch 90/200\n",
      "276/276 [==============================] - 5s 19ms/step - loss: 0.1925 - accuracy: 0.9149\n",
      "Epoch 91/200\n",
      "276/276 [==============================] - 6s 21ms/step - loss: 0.1939 - accuracy: 0.9144\n",
      "Epoch 92/200\n",
      "276/276 [==============================] - 6s 21ms/step - loss: 0.1933 - accuracy: 0.9142\n",
      "Epoch 93/200\n",
      "276/276 [==============================] - 5s 19ms/step - loss: 0.2011 - accuracy: 0.9132\n",
      "Epoch 94/200\n",
      "276/276 [==============================] - 6s 20ms/step - loss: 0.2075 - accuracy: 0.9092\n",
      "Epoch 95/200\n",
      "276/276 [==============================] - 6s 21ms/step - loss: 0.1953 - accuracy: 0.9137\n",
      "Epoch 96/200\n",
      "276/276 [==============================] - 5s 19ms/step - loss: 0.1931 - accuracy: 0.9140\n",
      "Epoch 97/200\n",
      "276/276 [==============================] - 5s 18ms/step - loss: 0.1930 - accuracy: 0.9141\n",
      "Epoch 98/200\n",
      "276/276 [==============================] - 5s 18ms/step - loss: 0.1935 - accuracy: 0.9148\n",
      "Epoch 99/200\n",
      "276/276 [==============================] - 5s 19ms/step - loss: 0.1946 - accuracy: 0.9136\n",
      "Epoch 100/200\n",
      "276/276 [==============================] - 6s 20ms/step - loss: 0.1971 - accuracy: 0.9134\n",
      "Epoch 101/200\n",
      "276/276 [==============================] - 5s 19ms/step - loss: 0.1934 - accuracy: 0.9151\n",
      "Epoch 102/200\n",
      "276/276 [==============================] - 5s 19ms/step - loss: 0.1955 - accuracy: 0.9131\n",
      "Epoch 103/200\n",
      "276/276 [==============================] - 6s 21ms/step - loss: 0.2799 - accuracy: 0.8929\n",
      "Epoch 104/200\n",
      "276/276 [==============================] - 6s 20ms/step - loss: 0.2007 - accuracy: 0.9128\n",
      "Epoch 105/200\n",
      "276/276 [==============================] - 5s 19ms/step - loss: 0.1996 - accuracy: 0.9127\n",
      "Epoch 106/200\n",
      "276/276 [==============================] - 6s 21ms/step - loss: 0.1994 - accuracy: 0.9129\n",
      "Epoch 107/200\n",
      "276/276 [==============================] - 6s 21ms/step - loss: 0.1955 - accuracy: 0.9140\n",
      "Epoch 108/200\n",
      "276/276 [==============================] - 5s 19ms/step - loss: 0.1951 - accuracy: 0.9129\n",
      "Epoch 109/200\n",
      "276/276 [==============================] - 6s 20ms/step - loss: 0.2928 - accuracy: 0.8903\n",
      "Epoch 110/200\n",
      "276/276 [==============================] - 6s 21ms/step - loss: 0.2135 - accuracy: 0.9081\n",
      "Epoch 111/200\n",
      "276/276 [==============================] - 6s 20ms/step - loss: 0.2001 - accuracy: 0.9122\n",
      "Epoch 112/200\n",
      "276/276 [==============================] - 5s 19ms/step - loss: 0.1977 - accuracy: 0.9124\n",
      "Epoch 113/200\n",
      "276/276 [==============================] - 6s 21ms/step - loss: 0.1958 - accuracy: 0.9130\n",
      "Epoch 114/200\n",
      "276/276 [==============================] - 6s 21ms/step - loss: 0.1935 - accuracy: 0.9141\n",
      "Epoch 115/200\n",
      "276/276 [==============================] - 5s 19ms/step - loss: 0.1938 - accuracy: 0.9145\n",
      "Epoch 116/200\n",
      "276/276 [==============================] - 5s 18ms/step - loss: 0.2088 - accuracy: 0.9112\n",
      "Epoch 117/200\n",
      "276/276 [==============================] - 5s 19ms/step - loss: 0.2200 - accuracy: 0.9054\n",
      "Epoch 118/200\n",
      "276/276 [==============================] - 5s 19ms/step - loss: 0.2018 - accuracy: 0.9108\n",
      "Epoch 119/200\n",
      "276/276 [==============================] - 5s 19ms/step - loss: 0.1986 - accuracy: 0.9130\n",
      "Epoch 120/200\n",
      "276/276 [==============================] - 5s 19ms/step - loss: 0.2131 - accuracy: 0.9098\n",
      "Epoch 121/200\n",
      "276/276 [==============================] - 6s 20ms/step - loss: 0.1982 - accuracy: 0.9125\n",
      "Epoch 122/200\n",
      "276/276 [==============================] - 6s 21ms/step - loss: 0.2000 - accuracy: 0.9106\n",
      "Epoch 123/200\n",
      "276/276 [==============================] - 6s 20ms/step - loss: 0.2037 - accuracy: 0.9119\n",
      "Epoch 124/200\n",
      "276/276 [==============================] - 5s 20ms/step - loss: 0.1967 - accuracy: 0.9131\n",
      "Epoch 125/200\n",
      "276/276 [==============================] - 6s 21ms/step - loss: 0.1965 - accuracy: 0.9130\n",
      "Epoch 126/200\n",
      "276/276 [==============================] - 6s 21ms/step - loss: 0.2015 - accuracy: 0.9110\n",
      "Epoch 127/200\n",
      "276/276 [==============================] - 5s 19ms/step - loss: 0.2029 - accuracy: 0.9118\n",
      "Epoch 128/200\n",
      "276/276 [==============================] - 6s 20ms/step - loss: 0.1976 - accuracy: 0.9131\n",
      "Epoch 129/200\n",
      "276/276 [==============================] - 6s 21ms/step - loss: 0.1964 - accuracy: 0.9137\n",
      "Epoch 130/200\n",
      "276/276 [==============================] - 6s 21ms/step - loss: 0.1990 - accuracy: 0.9130\n",
      "Epoch 131/200\n",
      "276/276 [==============================] - 5s 19ms/step - loss: 0.2267 - accuracy: 0.9091\n",
      "Epoch 132/200\n",
      "276/276 [==============================] - 6s 21ms/step - loss: 0.2076 - accuracy: 0.9108\n",
      "Epoch 133/200\n",
      "276/276 [==============================] - 6s 21ms/step - loss: 0.2021 - accuracy: 0.9131\n",
      "Epoch 134/200\n",
      "276/276 [==============================] - 5s 20ms/step - loss: 0.2010 - accuracy: 0.9127\n",
      "Epoch 135/200\n",
      "276/276 [==============================] - 5s 20ms/step - loss: 0.1989 - accuracy: 0.9138\n",
      "Epoch 136/200\n",
      "276/276 [==============================] - 5s 20ms/step - loss: 0.1976 - accuracy: 0.9134\n",
      "Epoch 137/200\n",
      "276/276 [==============================] - 5s 19ms/step - loss: 0.2643 - accuracy: 0.8981\n",
      "Epoch 138/200\n",
      "276/276 [==============================] - 5s 19ms/step - loss: 0.2051 - accuracy: 0.9113\n",
      "Epoch 139/200\n",
      "276/276 [==============================] - 5s 18ms/step - loss: 0.1990 - accuracy: 0.9143\n",
      "Epoch 140/200\n",
      "276/276 [==============================] - 5s 20ms/step - loss: 0.1999 - accuracy: 0.9128\n",
      "Epoch 141/200\n",
      "276/276 [==============================] - 6s 21ms/step - loss: 0.1983 - accuracy: 0.9133\n",
      "Epoch 142/200\n",
      "276/276 [==============================] - 6s 21ms/step - loss: 0.1963 - accuracy: 0.9140\n",
      "Epoch 143/200\n",
      "276/276 [==============================] - 5s 20ms/step - loss: 0.1963 - accuracy: 0.9146\n",
      "Epoch 144/200\n",
      "276/276 [==============================] - 6s 21ms/step - loss: 0.2055 - accuracy: 0.9085\n",
      "Epoch 145/200\n",
      "276/276 [==============================] - 6s 21ms/step - loss: 0.2016 - accuracy: 0.9126\n",
      "Epoch 146/200\n",
      "276/276 [==============================] - 6s 20ms/step - loss: 0.2122 - accuracy: 0.9097\n",
      "Epoch 147/200\n",
      "276/276 [==============================] - 5s 20ms/step - loss: 0.2056 - accuracy: 0.9116\n",
      "Epoch 148/200\n",
      "276/276 [==============================] - 6s 21ms/step - loss: 0.1996 - accuracy: 0.9138\n",
      "Epoch 149/200\n",
      "276/276 [==============================] - 6s 21ms/step - loss: 0.1968 - accuracy: 0.9143\n",
      "Epoch 150/200\n",
      "276/276 [==============================] - 5s 20ms/step - loss: 0.1968 - accuracy: 0.9130\n",
      "Epoch 151/200\n",
      "276/276 [==============================] - 6s 20ms/step - loss: 0.2013 - accuracy: 0.9119\n",
      "Epoch 152/200\n",
      "276/276 [==============================] - 6s 21ms/step - loss: 0.2003 - accuracy: 0.9133\n",
      "Epoch 153/200\n",
      "276/276 [==============================] - 6s 21ms/step - loss: 0.1974 - accuracy: 0.9125\n",
      "Epoch 154/200\n",
      "276/276 [==============================] - 5s 20ms/step - loss: 0.2450 - accuracy: 0.9006\n",
      "Epoch 155/200\n",
      "276/276 [==============================] - 5s 20ms/step - loss: 0.4148 - accuracy: 0.8386\n",
      "Epoch 156/200\n",
      "276/276 [==============================] - 5s 20ms/step - loss: 0.3268 - accuracy: 0.8661\n",
      "Epoch 157/200\n",
      "276/276 [==============================] - 5s 20ms/step - loss: 0.2908 - accuracy: 0.8808\n",
      "Epoch 158/200\n",
      "276/276 [==============================] - 5s 19ms/step - loss: 0.2660 - accuracy: 0.8890\n",
      "Epoch 159/200\n",
      "276/276 [==============================] - 5s 19ms/step - loss: 0.2440 - accuracy: 0.8982\n",
      "Epoch 160/200\n",
      "276/276 [==============================] - 6s 20ms/step - loss: 0.2420 - accuracy: 0.8996\n",
      "Epoch 161/200\n",
      "276/276 [==============================] - 6s 21ms/step - loss: 0.2342 - accuracy: 0.9031\n",
      "Epoch 162/200\n",
      "276/276 [==============================] - 6s 21ms/step - loss: 0.2258 - accuracy: 0.9056\n",
      "Epoch 163/200\n",
      "276/276 [==============================] - 5s 20ms/step - loss: 0.2160 - accuracy: 0.9087\n",
      "Epoch 164/200\n",
      "276/276 [==============================] - 6s 21ms/step - loss: 0.2133 - accuracy: 0.9090\n",
      "Epoch 165/200\n",
      "276/276 [==============================] - 6s 21ms/step - loss: 0.2166 - accuracy: 0.9086\n",
      "Epoch 166/200\n",
      "276/276 [==============================] - 6s 20ms/step - loss: 0.2113 - accuracy: 0.9112\n",
      "Epoch 167/200\n",
      "276/276 [==============================] - 5s 20ms/step - loss: 0.2080 - accuracy: 0.9104\n",
      "Epoch 168/200\n",
      "276/276 [==============================] - 6s 21ms/step - loss: 0.2059 - accuracy: 0.9123\n",
      "Epoch 169/200\n",
      "276/276 [==============================] - 6s 22ms/step - loss: 0.2050 - accuracy: 0.9115\n",
      "Epoch 170/200\n",
      "276/276 [==============================] - 6s 20ms/step - loss: 0.2065 - accuracy: 0.9120\n",
      "Epoch 171/200\n",
      "276/276 [==============================] - 5s 20ms/step - loss: 0.2030 - accuracy: 0.9124\n",
      "Epoch 172/200\n",
      "276/276 [==============================] - 6s 21ms/step - loss: 0.2026 - accuracy: 0.9115\n",
      "Epoch 173/200\n",
      "276/276 [==============================] - 6s 21ms/step - loss: 0.2011 - accuracy: 0.9118\n",
      "Epoch 174/200\n",
      "276/276 [==============================] - 5s 20ms/step - loss: 0.1989 - accuracy: 0.9137\n",
      "Epoch 175/200\n",
      "276/276 [==============================] - 5s 19ms/step - loss: 0.2006 - accuracy: 0.9119\n",
      "Epoch 176/200\n",
      "276/276 [==============================] - 5s 20ms/step - loss: 0.1993 - accuracy: 0.9132\n",
      "Epoch 177/200\n",
      "276/276 [==============================] - 5s 20ms/step - loss: 0.1997 - accuracy: 0.9136\n",
      "Epoch 178/200\n",
      "276/276 [==============================] - 5s 19ms/step - loss: 0.1976 - accuracy: 0.9139\n",
      "Epoch 179/200\n",
      "276/276 [==============================] - 5s 19ms/step - loss: 0.1994 - accuracy: 0.9137\n",
      "Epoch 180/200\n",
      "276/276 [==============================] - 6s 20ms/step - loss: 0.1979 - accuracy: 0.9148\n",
      "Epoch 181/200\n",
      "276/276 [==============================] - 6s 21ms/step - loss: 0.1971 - accuracy: 0.9124\n",
      "Epoch 182/200\n",
      "276/276 [==============================] - 6s 21ms/step - loss: 0.2002 - accuracy: 0.9133\n",
      "Epoch 183/200\n",
      "276/276 [==============================] - 5s 20ms/step - loss: 0.1982 - accuracy: 0.9126\n",
      "Epoch 184/200\n",
      "276/276 [==============================] - 6s 20ms/step - loss: 0.1981 - accuracy: 0.9129\n",
      "Epoch 185/200\n",
      "276/276 [==============================] - 6s 21ms/step - loss: 0.2001 - accuracy: 0.9127\n",
      "Epoch 186/200\n",
      "276/276 [==============================] - 6s 20ms/step - loss: 0.2004 - accuracy: 0.9128\n",
      "Epoch 187/200\n",
      "276/276 [==============================] - 5s 20ms/step - loss: 0.1958 - accuracy: 0.9128\n",
      "Epoch 188/200\n",
      "276/276 [==============================] - 6s 21ms/step - loss: 0.2049 - accuracy: 0.9115\n",
      "Epoch 189/200\n",
      "276/276 [==============================] - 6s 21ms/step - loss: 0.2001 - accuracy: 0.9131\n",
      "Epoch 190/200\n",
      "276/276 [==============================] - 6s 20ms/step - loss: 0.2006 - accuracy: 0.9133\n",
      "Epoch 191/200\n",
      "276/276 [==============================] - 5s 20ms/step - loss: 0.2018 - accuracy: 0.9131\n",
      "Epoch 192/200\n",
      "276/276 [==============================] - 6s 21ms/step - loss: 0.2025 - accuracy: 0.9127\n",
      "Epoch 193/200\n",
      "276/276 [==============================] - 6s 21ms/step - loss: 0.1992 - accuracy: 0.9130\n",
      "Epoch 194/200\n",
      "276/276 [==============================] - 6s 20ms/step - loss: 0.1989 - accuracy: 0.9131\n",
      "Epoch 195/200\n",
      "276/276 [==============================] - 5s 19ms/step - loss: 0.2218 - accuracy: 0.9081\n",
      "Epoch 196/200\n",
      "276/276 [==============================] - 6s 21ms/step - loss: 0.1997 - accuracy: 0.9128\n",
      "Epoch 197/200\n",
      "276/276 [==============================] - 5s 19ms/step - loss: 0.1994 - accuracy: 0.9129\n",
      "Epoch 198/200\n",
      "276/276 [==============================] - 5s 19ms/step - loss: 0.1993 - accuracy: 0.9130\n",
      "Epoch 199/200\n",
      "276/276 [==============================] - 5s 19ms/step - loss: 0.1991 - accuracy: 0.9122\n",
      "Epoch 200/200\n",
      "276/276 [==============================] - 6s 20ms/step - loss: 0.1999 - accuracy: 0.9135\n"
     ]
    },
    {
     "data": {
      "text/plain": [
       "<keras.src.callbacks.History at 0x24d803caeb0>"
      ]
     },
     "execution_count": 5,
     "metadata": {},
     "output_type": "execute_result"
    }
   ],
   "source": [
    "model = Sequential()\n",
    "\n",
    "# First SimpleRNN layer\n",
    "model.add(SimpleRNN(128, input_shape=(22, 1), return_sequences=True))\n",
    "model.add(Dropout(0.5))\n",
    "\n",
    "# Second SimpleRNN layer\n",
    "model.add(SimpleRNN(64, return_sequences=True))\n",
    "model.add(Dropout(0.5))\n",
    "\n",
    "# Third SimpleRNN layer\n",
    "model.add(SimpleRNN(32, return_sequences=False))  # This will output a single vector for the next layer\n",
    "model.add(Dropout(0.5))\n",
    "\n",
    "# Dense layer with more units\n",
    "model.add(Dense(64, activation='relu'))\n",
    "model.add(Dropout(0.5))\n",
    "\n",
    "# Output layer (binary classification)\n",
    "model.add(Dense(3, activation='softmax'))\n",
    "model.compile(optimizer=Adam(learning_rate=0.001), loss='sparse_categorical_crossentropy', metrics=['accuracy'])\n",
    "model.fit(X_train,Y_train,epochs = 200,batch_size=128)"
   ]
  },
  {
   "cell_type": "code",
   "execution_count": 6,
   "metadata": {},
   "outputs": [
    {
     "name": "stdout",
     "output_type": "stream",
     "text": [
      "276/276 [==============================] - 2s 5ms/step\n",
      "              precision    recall  f1-score   support\n",
      "\n",
      "           0   0.771306  0.782825  0.777023      1607\n",
      "           1   0.782419  0.770885  0.776609      1628\n",
      "           2   1.000000  1.000000  1.000000      5584\n",
      "\n",
      "    accuracy                       0.918131      8819\n",
      "   macro avg   0.851242  0.851237  0.851211      8819\n",
      "weighted avg   0.918162  0.918131  0.918131      8819\n",
      "\n"
     ]
    }
   ],
   "source": [
    "def find_max_index(arr):\n",
    "    # print(arr)\n",
    "    # print(max_value)\n",
    "    return np.argmax(arr)\n",
    "res = model.predict(X_test)\n",
    "actual = []\n",
    "for num in res:\n",
    "    actual.append(np.argmax(num))\n",
    "from sklearn.metrics import classification_report\n",
    "print(classification_report(Y_test,actual,digits=6))"
   ]
  },
  {
   "cell_type": "code",
   "execution_count": 7,
   "metadata": {},
   "outputs": [
    {
     "data": {
      "text/plain": [
       "<sklearn.metrics._plot.confusion_matrix.ConfusionMatrixDisplay at 0x24d8041c070>"
      ]
     },
     "execution_count": 7,
     "metadata": {},
     "output_type": "execute_result"
    },
    {
     "data": {
      "image/png": "[encoded data removed]",
      "text/plain": [
       "<Figure size 640x480 with 2 Axes>"
      ]
     },
     "metadata": {},
     "output_type": "display_data"
    }
   ],
   "source": [
    "from sklearn.metrics import confusion_matrix\n",
    "from sklearn.metrics import ConfusionMatrixDisplay\n",
    "confusionmatrix = confusion_matrix(Y_test, actual)\n",
    "cm_display = ConfusionMatrixDisplay(confusionmatrix, display_labels=[0,1,2])\n",
    "cm_display.plot()"
   ]
  },
  {
   "cell_type": "code",
   "execution_count": null,
   "metadata": {},
   "outputs": [
    {
     "name": "stderr",
     "output_type": "stream",
     "text": [
      "c:\\Users\\eddie\\AppData\\Local\\Programs\\Python\\Python39\\lib\\site-packages\\tqdm\\auto.py:21: TqdmWarning: IProgress not found. Please update jupyter and ipywidgets. See https://ipywidgets.readthedocs.io/en/stable/user_install.html\n",
      "  from .autonotebook import tqdm as notebook_tqdm\n"
     ]
    },
    {
     "name": "stdout",
     "output_type": "stream",
     "text": [
      "13/13 [==============================] - 0s 4ms/step\n"
     ]
    },
    {
     "name": "stderr",
     "output_type": "stream",
     "text": [
      "Using 400 background data samples could cause slower run times. Consider using shap.sample(data, K) or shap.kmeans(data, K) to summarize the background as K samples.\n",
      "  0%|          | 0/400 [00:00<?, ?it/s]"
     ]
    },
    {
     "name": "stdout",
     "output_type": "stream",
     "text": [
      "1/1 [==============================] - 0s 52ms/step\n",
      "26150/26150 [==============================] - 117s 4ms/step\n"
     ]
    },
    {
     "name": "stderr",
     "output_type": "stream",
     "text": [
      "  0%|          | 1/400 [02:22<15:45:42, 142.21s/it]"
     ]
    },
    {
     "name": "stdout",
     "output_type": "stream",
     "text": [
      "1/1 [==============================] - 0s 36ms/step\n",
      "26150/26150 [==============================] - 118s 5ms/step\n"
     ]
    },
    {
     "name": "stderr",
     "output_type": "stream",
     "text": [
      "  0%|          | 2/400 [04:39<15:24:07, 139.32s/it]"
     ]
    },
    {
     "name": "stdout",
     "output_type": "stream",
     "text": [
      "1/1 [==============================] - 0s 34ms/step\n",
      "26150/26150 [==============================] - 120s 5ms/step\n"
     ]
    },
    {
     "name": "stderr",
     "output_type": "stream",
     "text": [
      "  1%|          | 3/400 [06:58<15:21:25, 139.26s/it]"
     ]
    },
    {
     "name": "stdout",
     "output_type": "stream",
     "text": [
      "1/1 [==============================] - 0s 33ms/step\n",
      "26150/26150 [==============================] - 118s 4ms/step\n"
     ]
    },
    {
     "name": "stderr",
     "output_type": "stream",
     "text": [
      "  1%|          | 4/400 [09:16<15:14:20, 138.54s/it]"
     ]
    },
    {
     "name": "stdout",
     "output_type": "stream",
     "text": [
      "1/1 [==============================] - 0s 35ms/step\n",
      "26150/26150 [==============================] - 121s 5ms/step\n"
     ]
    },
    {
     "name": "stderr",
     "output_type": "stream",
     "text": [
      "  1%|▏         | 5/400 [11:35<15:13:44, 138.80s/it]"
     ]
    },
    {
     "name": "stdout",
     "output_type": "stream",
     "text": [
      "1/1 [==============================] - 0s 37ms/step\n",
      "26150/26150 [==============================] - 119s 5ms/step\n"
     ]
    },
    {
     "name": "stderr",
     "output_type": "stream",
     "text": [
      "  2%|▏         | 6/400 [13:52<15:08:41, 138.38s/it]"
     ]
    },
    {
     "name": "stdout",
     "output_type": "stream",
     "text": [
      "1/1 [==============================] - 0s 34ms/step\n",
      "26150/26150 [==============================] - 120s 5ms/step\n"
     ]
    },
    {
     "name": "stderr",
     "output_type": "stream",
     "text": [
      "  2%|▏         | 7/400 [16:11<15:06:37, 138.42s/it]"
     ]
    },
    {
     "name": "stdout",
     "output_type": "stream",
     "text": [
      "1/1 [==============================] - 0s 33ms/step\n",
      "26150/26150 [==============================] - 120s 5ms/step\n"
     ]
    },
    {
     "name": "stderr",
     "output_type": "stream",
     "text": [
      "  2%|▏         | 8/400 [18:30<15:06:05, 138.69s/it]"
     ]
    },
    {
     "name": "stdout",
     "output_type": "stream",
     "text": [
      "1/1 [==============================] - 0s 34ms/step\n",
      "26150/26150 [==============================] - 121s 5ms/step\n"
     ]
    },
    {
     "name": "stderr",
     "output_type": "stream",
     "text": [
      "  2%|▏         | 9/400 [20:56<15:17:36, 140.81s/it]"
     ]
    },
    {
     "name": "stdout",
     "output_type": "stream",
     "text": [
      "1/1 [==============================] - 0s 31ms/step\n",
      "26150/26150 [==============================] - 111s 4ms/step\n"
     ]
    },
    {
     "name": "stderr",
     "output_type": "stream",
     "text": [
      "  2%|▎         | 10/400 [23:03<14:49:09, 136.79s/it]"
     ]
    },
    {
     "name": "stdout",
     "output_type": "stream",
     "text": [
      "1/1 [==============================] - 0s 32ms/step\n",
      "26150/26150 [==============================] - 107s 4ms/step\n"
     ]
    },
    {
     "name": "stderr",
     "output_type": "stream",
     "text": [
      "  3%|▎         | 11/400 [25:05<14:17:08, 132.21s/it]"
     ]
    },
    {
     "name": "stdout",
     "output_type": "stream",
     "text": [
      "1/1 [==============================] - 0s 36ms/step\n",
      "26150/26150 [==============================] - 104s 4ms/step\n"
     ]
    },
    {
     "name": "stderr",
     "output_type": "stream",
     "text": [
      "  3%|▎         | 12/400 [27:07<13:53:43, 128.93s/it]"
     ]
    },
    {
     "name": "stdout",
     "output_type": "stream",
     "text": [
      "1/1 [==============================] - 0s 31ms/step\n",
      "26150/26150 [==============================] - 105s 4ms/step\n"
     ]
    },
    {
     "name": "stderr",
     "output_type": "stream",
     "text": [
      "  3%|▎         | 13/400 [29:08<13:37:05, 126.68s/it]"
     ]
    },
    {
     "name": "stdout",
     "output_type": "stream",
     "text": [
      "1/1 [==============================] - 0s 31ms/step\n",
      "26150/26150 [==============================] - 104s 4ms/step\n"
     ]
    },
    {
     "name": "stderr",
     "output_type": "stream",
     "text": [
      "  4%|▎         | 14/400 [31:09<13:23:49, 124.95s/it]"
     ]
    },
    {
     "name": "stdout",
     "output_type": "stream",
     "text": [
      "1/1 [==============================] - 0s 32ms/step\n",
      "26150/26150 [==============================] - 109s 4ms/step\n"
     ]
    },
    {
     "name": "stderr",
     "output_type": "stream",
     "text": [
      "  4%|▍         | 15/400 [33:15<13:23:46, 125.26s/it]"
     ]
    },
    {
     "name": "stdout",
     "output_type": "stream",
     "text": [
      "1/1 [==============================] - 0s 32ms/step\n",
      "26150/26150 [==============================] - 105s 4ms/step\n"
     ]
    },
    {
     "name": "stderr",
     "output_type": "stream",
     "text": [
      "  4%|▍         | 16/400 [35:16<13:13:29, 123.98s/it]"
     ]
    },
    {
     "name": "stdout",
     "output_type": "stream",
     "text": [
      "1/1 [==============================] - 0s 33ms/step\n",
      "26150/26150 [==============================] - 110s 4ms/step\n"
     ]
    },
    {
     "name": "stderr",
     "output_type": "stream",
     "text": [
      "  4%|▍         | 17/400 [37:23<13:16:58, 124.85s/it]"
     ]
    },
    {
     "name": "stdout",
     "output_type": "stream",
     "text": [
      "1/1 [==============================] - 0s 32ms/step\n",
      "26150/26150 [==============================] - 111s 4ms/step\n"
     ]
    },
    {
     "name": "stderr",
     "output_type": "stream",
     "text": [
      "  4%|▍         | 18/400 [39:28<13:15:43, 124.98s/it]"
     ]
    },
    {
     "name": "stdout",
     "output_type": "stream",
     "text": [
      "1/1 [==============================] - 0s 41ms/step\n",
      "26150/26150 [==============================] - 112s 4ms/step\n"
     ]
    },
    {
     "name": "stderr",
     "output_type": "stream",
     "text": [
      "  5%|▍         | 19/400 [41:37<13:20:58, 126.14s/it]"
     ]
    },
    {
     "name": "stdout",
     "output_type": "stream",
     "text": [
      "1/1 [==============================] - 0s 38ms/step\n",
      "26150/26150 [==============================] - 110s 4ms/step\n"
     ]
    },
    {
     "name": "stderr",
     "output_type": "stream",
     "text": [
      "  5%|▌         | 20/400 [43:43<13:19:11, 126.19s/it]"
     ]
    },
    {
     "name": "stdout",
     "output_type": "stream",
     "text": [
      "1/1 [==============================] - 0s 29ms/step\n",
      "26150/26150 [==============================] - 111s 4ms/step\n"
     ]
    },
    {
     "name": "stderr",
     "output_type": "stream",
     "text": [
      "  5%|▌         | 21/400 [45:48<13:13:11, 125.57s/it]"
     ]
    },
    {
     "name": "stdout",
     "output_type": "stream",
     "text": [
      "1/1 [==============================] - 0s 33ms/step\n",
      "26150/26150 [==============================] - 109s 4ms/step\n"
     ]
    },
    {
     "name": "stderr",
     "output_type": "stream",
     "text": [
      "  6%|▌         | 22/400 [47:52<13:09:23, 125.30s/it]"
     ]
    },
    {
     "name": "stdout",
     "output_type": "stream",
     "text": [
      "1/1 [==============================] - 0s 33ms/step\n",
      "26150/26150 [==============================] - 103s 4ms/step\n"
     ]
    },
    {
     "name": "stderr",
     "output_type": "stream",
     "text": [
      "  6%|▌         | 23/400 [49:50<12:53:36, 123.12s/it]"
     ]
    },
    {
     "name": "stdout",
     "output_type": "stream",
     "text": [
      "1/1 [==============================] - 0s 31ms/step\n",
      "26150/26150 [==============================] - 109s 4ms/step\n"
     ]
    },
    {
     "name": "stderr",
     "output_type": "stream",
     "text": [
      "  6%|▌         | 24/400 [51:56<12:55:47, 123.80s/it]"
     ]
    },
    {
     "name": "stdout",
     "output_type": "stream",
     "text": [
      "1/1 [==============================] - 0s 31ms/step\n",
      "26150/26150 [==============================] - 105s 4ms/step\n"
     ]
    },
    {
     "name": "stderr",
     "output_type": "stream",
     "text": [
      "  6%|▋         | 25/400 [53:57<12:48:22, 122.94s/it]"
     ]
    },
    {
     "name": "stdout",
     "output_type": "stream",
     "text": [
      "1/1 [==============================] - 0s 29ms/step\n",
      "26150/26150 [==============================] - 108s 4ms/step\n"
     ]
    },
    {
     "name": "stderr",
     "output_type": "stream",
     "text": [
      "  6%|▋         | 26/400 [55:59<12:45:45, 122.85s/it]"
     ]
    },
    {
     "name": "stdout",
     "output_type": "stream",
     "text": [
      "1/1 [==============================] - 0s 30ms/step\n",
      "26150/26150 [==============================] - 109s 4ms/step\n"
     ]
    },
    {
     "name": "stderr",
     "output_type": "stream",
     "text": [
      "  7%|▋         | 27/400 [58:05<12:49:37, 123.80s/it]"
     ]
    },
    {
     "name": "stdout",
     "output_type": "stream",
     "text": [
      "1/1 [==============================] - 0s 31ms/step\n",
      "26150/26150 [==============================] - 112s 4ms/step\n"
     ]
    },
    {
     "name": "stderr",
     "output_type": "stream",
     "text": [
      "  7%|▋         | 28/400 [1:00:13<12:54:01, 124.84s/it]"
     ]
    },
    {
     "name": "stdout",
     "output_type": "stream",
     "text": [
      "1/1 [==============================] - 0s 45ms/step\n",
      "26150/26150 [==============================] - 106s 4ms/step\n"
     ]
    },
    {
     "name": "stderr",
     "output_type": "stream",
     "text": [
      "  7%|▋         | 29/400 [1:02:14<12:46:06, 123.90s/it]"
     ]
    },
    {
     "name": "stdout",
     "output_type": "stream",
     "text": [
      "1/1 [==============================] - 0s 37ms/step\n",
      "26150/26150 [==============================] - 111s 4ms/step\n"
     ]
    },
    {
     "name": "stderr",
     "output_type": "stream",
     "text": [
      "  8%|▊         | 30/400 [1:04:22<12:50:34, 124.96s/it]"
     ]
    },
    {
     "name": "stdout",
     "output_type": "stream",
     "text": [
      "1/1 [==============================] - 0s 29ms/step\n",
      "26150/26150 [==============================] - 106s 4ms/step\n"
     ]
    },
    {
     "name": "stderr",
     "output_type": "stream",
     "text": [
      "  8%|▊         | 31/400 [1:06:23<12:41:50, 123.88s/it]"
     ]
    },
    {
     "name": "stdout",
     "output_type": "stream",
     "text": [
      "1/1 [==============================] - 0s 31ms/step\n",
      "26150/26150 [==============================] - 111s 4ms/step\n"
     ]
    },
    {
     "name": "stderr",
     "output_type": "stream",
     "text": [
      "  8%|▊         | 32/400 [1:08:29<12:44:24, 124.63s/it]"
     ]
    },
    {
     "name": "stdout",
     "output_type": "stream",
     "text": [
      "1/1 [==============================] - 0s 38ms/step\n",
      "26150/26150 [==============================] - 107s 4ms/step\n"
     ]
    },
    {
     "name": "stderr",
     "output_type": "stream",
     "text": [
      "  8%|▊         | 33/400 [1:10:32<12:38:26, 124.00s/it]"
     ]
    },
    {
     "name": "stdout",
     "output_type": "stream",
     "text": [
      "1/1 [==============================] - 0s 42ms/step\n",
      "26150/26150 [==============================] - 110s 4ms/step\n"
     ]
    },
    {
     "name": "stderr",
     "output_type": "stream",
     "text": [
      "  8%|▊         | 34/400 [1:12:37<12:37:56, 124.25s/it]"
     ]
    },
    {
     "name": "stdout",
     "output_type": "stream",
     "text": [
      "1/1 [==============================] - 0s 32ms/step\n",
      "26150/26150 [==============================] - 107s 4ms/step\n"
     ]
    },
    {
     "name": "stderr",
     "output_type": "stream",
     "text": [
      "  9%|▉         | 35/400 [1:14:39<12:32:37, 123.72s/it]"
     ]
    },
    {
     "name": "stdout",
     "output_type": "stream",
     "text": [
      "1/1 [==============================] - 0s 33ms/step\n",
      "26150/26150 [==============================] - 108s 4ms/step\n"
     ]
    },
    {
     "name": "stderr",
     "output_type": "stream",
     "text": [
      "  9%|▉         | 36/400 [1:16:43<12:30:51, 123.77s/it]"
     ]
    },
    {
     "name": "stdout",
     "output_type": "stream",
     "text": [
      "1/1 [==============================] - 0s 30ms/step\n",
      "26150/26150 [==============================] - 107s 4ms/step\n"
     ]
    },
    {
     "name": "stderr",
     "output_type": "stream",
     "text": [
      "  9%|▉         | 37/400 [1:18:45<12:26:10, 123.33s/it]"
     ]
    },
    {
     "name": "stdout",
     "output_type": "stream",
     "text": [
      "1/1 [==============================] - 0s 37ms/step\n",
      "26150/26150 [==============================] - 109s 4ms/step\n"
     ]
    },
    {
     "name": "stderr",
     "output_type": "stream",
     "text": [
      " 10%|▉         | 38/400 [1:20:50<12:26:43, 123.77s/it]"
     ]
    },
    {
     "name": "stdout",
     "output_type": "stream",
     "text": [
      "1/1 [==============================] - 0s 32ms/step\n",
      "26150/26150 [==============================] - 105s 4ms/step\n"
     ]
    },
    {
     "name": "stderr",
     "output_type": "stream",
     "text": [
      " 10%|▉         | 39/400 [1:22:50<12:16:39, 122.44s/it]"
     ]
    },
    {
     "name": "stdout",
     "output_type": "stream",
     "text": [
      "1/1 [==============================] - 0s 32ms/step\n",
      "26150/26150 [==============================] - 107s 4ms/step\n"
     ]
    },
    {
     "name": "stderr",
     "output_type": "stream",
     "text": [
      " 10%|█         | 40/400 [1:24:52<12:15:11, 122.53s/it]"
     ]
    },
    {
     "name": "stdout",
     "output_type": "stream",
     "text": [
      "1/1 [==============================] - 0s 32ms/step\n",
      "26150/26150 [==============================] - 103s 4ms/step\n"
     ]
    },
    {
     "name": "stderr",
     "output_type": "stream",
     "text": [
      " 10%|█         | 41/400 [1:26:51<12:06:52, 121.48s/it]"
     ]
    },
    {
     "name": "stdout",
     "output_type": "stream",
     "text": [
      "1/1 [==============================] - 0s 32ms/step\n",
      "26150/26150 [==============================] - 108s 4ms/step\n"
     ]
    },
    {
     "name": "stderr",
     "output_type": "stream",
     "text": [
      " 10%|█         | 42/400 [1:28:54<12:07:46, 121.97s/it]"
     ]
    },
    {
     "name": "stdout",
     "output_type": "stream",
     "text": [
      "1/1 [==============================] - 0s 31ms/step\n",
      "26150/26150 [==============================] - 106s 4ms/step\n"
     ]
    },
    {
     "name": "stderr",
     "output_type": "stream",
     "text": [
      " 11%|█         | 43/400 [1:30:57<12:06:00, 122.02s/it]"
     ]
    },
    {
     "name": "stdout",
     "output_type": "stream",
     "text": [
      "1/1 [==============================] - 0s 31ms/step\n",
      "26150/26150 [==============================] - 105s 4ms/step\n"
     ]
    },
    {
     "name": "stderr",
     "output_type": "stream",
     "text": [
      " 11%|█         | 44/400 [1:32:56<11:59:11, 121.21s/it]"
     ]
    },
    {
     "name": "stdout",
     "output_type": "stream",
     "text": [
      "1/1 [==============================] - 0s 37ms/step\n",
      "26150/26150 [==============================] - 105s 4ms/step\n"
     ]
    },
    {
     "name": "stderr",
     "output_type": "stream",
     "text": [
      " 11%|█▏        | 45/400 [1:34:56<11:55:50, 120.99s/it]"
     ]
    },
    {
     "name": "stdout",
     "output_type": "stream",
     "text": [
      "1/1 [==============================] - 0s 32ms/step\n",
      "26150/26150 [==============================] - 105s 4ms/step\n"
     ]
    },
    {
     "name": "stderr",
     "output_type": "stream",
     "text": [
      " 12%|█▏        | 46/400 [1:36:58<11:54:01, 121.02s/it]"
     ]
    },
    {
     "name": "stdout",
     "output_type": "stream",
     "text": [
      "1/1 [==============================] - 0s 28ms/step\n",
      "26150/26150 [==============================] - 105s 4ms/step\n"
     ]
    },
    {
     "name": "stderr",
     "output_type": "stream",
     "text": [
      " 12%|█▏        | 47/400 [1:38:58<11:50:31, 120.77s/it]"
     ]
    },
    {
     "name": "stdout",
     "output_type": "stream",
     "text": [
      "1/1 [==============================] - 0s 38ms/step\n",
      "26150/26150 [==============================] - 106s 4ms/step\n"
     ]
    },
    {
     "name": "stderr",
     "output_type": "stream",
     "text": [
      " 12%|█▏        | 48/400 [1:40:59<11:49:55, 121.01s/it]"
     ]
    },
    {
     "name": "stdout",
     "output_type": "stream",
     "text": [
      "1/1 [==============================] - 0s 29ms/step\n",
      "26150/26150 [==============================] - 105s 4ms/step\n"
     ]
    },
    {
     "name": "stderr",
     "output_type": "stream",
     "text": [
      " 12%|█▏        | 49/400 [1:42:59<11:45:17, 120.56s/it]"
     ]
    },
    {
     "name": "stdout",
     "output_type": "stream",
     "text": [
      "1/1 [==============================] - 0s 30ms/step\n",
      "26150/26150 [==============================] - 106s 4ms/step\n"
     ]
    },
    {
     "name": "stderr",
     "output_type": "stream",
     "text": [
      " 12%|█▎        | 50/400 [1:45:01<11:46:20, 121.09s/it]"
     ]
    },
    {
     "name": "stdout",
     "output_type": "stream",
     "text": [
      "1/1 [==============================] - 0s 30ms/step\n",
      "26150/26150 [==============================] - 103s 4ms/step\n"
     ]
    },
    {
     "name": "stderr",
     "output_type": "stream",
     "text": [
      " 13%|█▎        | 51/400 [1:46:59<11:39:14, 120.21s/it]"
     ]
    },
    {
     "name": "stdout",
     "output_type": "stream",
     "text": [
      "1/1 [==============================] - 0s 47ms/step\n",
      "26150/26150 [==============================] - 107s 4ms/step\n"
     ]
    },
    {
     "name": "stderr",
     "output_type": "stream",
     "text": [
      " 13%|█▎        | 52/400 [1:49:02<11:41:37, 120.97s/it]"
     ]
    },
    {
     "name": "stdout",
     "output_type": "stream",
     "text": [
      "1/1 [==============================] - 0s 33ms/step\n",
      "26150/26150 [==============================] - 106s 4ms/step\n"
     ]
    },
    {
     "name": "stderr",
     "output_type": "stream",
     "text": [
      " 13%|█▎        | 53/400 [1:51:03<11:40:17, 121.09s/it]"
     ]
    },
    {
     "name": "stdout",
     "output_type": "stream",
     "text": [
      "1/1 [==============================] - 0s 32ms/step\n",
      "26150/26150 [==============================] - 107s 4ms/step\n"
     ]
    },
    {
     "name": "stderr",
     "output_type": "stream",
     "text": [
      " 14%|█▎        | 54/400 [1:53:05<11:39:32, 121.31s/it]"
     ]
    },
    {
     "name": "stdout",
     "output_type": "stream",
     "text": [
      "1/1 [==============================] - 0s 32ms/step\n",
      "26150/26150 [==============================] - 105s 4ms/step\n"
     ]
    },
    {
     "name": "stderr",
     "output_type": "stream",
     "text": [
      " 14%|█▍        | 55/400 [1:55:06<11:36:04, 121.06s/it]"
     ]
    },
    {
     "name": "stdout",
     "output_type": "stream",
     "text": [
      "1/1 [==============================] - 0s 33ms/step\n",
      "26150/26150 [==============================] - 105s 4ms/step\n"
     ]
    },
    {
     "name": "stderr",
     "output_type": "stream",
     "text": [
      " 14%|█▍        | 56/400 [1:57:07<11:34:04, 121.06s/it]"
     ]
    },
    {
     "name": "stdout",
     "output_type": "stream",
     "text": [
      "1/1 [==============================] - 0s 32ms/step\n",
      "26150/26150 [==============================] - 106s 4ms/step\n"
     ]
    },
    {
     "name": "stderr",
     "output_type": "stream",
     "text": [
      " 14%|█▍        | 57/400 [1:59:08<11:32:50, 121.20s/it]"
     ]
    },
    {
     "name": "stdout",
     "output_type": "stream",
     "text": [
      "1/1 [==============================] - 0s 32ms/step\n",
      "26150/26150 [==============================] - 107s 4ms/step\n"
     ]
    },
    {
     "name": "stderr",
     "output_type": "stream",
     "text": [
      " 14%|█▍        | 58/400 [2:01:11<11:33:24, 121.65s/it]"
     ]
    },
    {
     "name": "stdout",
     "output_type": "stream",
     "text": [
      "1/1 [==============================] - 0s 45ms/step\n",
      "26150/26150 [==============================] - 105s 4ms/step\n"
     ]
    },
    {
     "name": "stderr",
     "output_type": "stream",
     "text": [
      " 15%|█▍        | 59/400 [2:03:11<11:27:48, 121.02s/it]"
     ]
    },
    {
     "name": "stdout",
     "output_type": "stream",
     "text": [
      "1/1 [==============================] - 0s 32ms/step\n",
      "26150/26150 [==============================] - 107s 4ms/step\n"
     ]
    },
    {
     "name": "stderr",
     "output_type": "stream",
     "text": [
      " 15%|█▌        | 60/400 [2:05:14<11:29:39, 121.70s/it]"
     ]
    },
    {
     "name": "stdout",
     "output_type": "stream",
     "text": [
      "1/1 [==============================] - 0s 34ms/step\n",
      "26150/26150 [==============================] - 103s 4ms/step\n"
     ]
    },
    {
     "name": "stderr",
     "output_type": "stream",
     "text": [
      " 15%|█▌        | 61/400 [2:07:12<11:21:53, 120.69s/it]"
     ]
    },
    {
     "name": "stdout",
     "output_type": "stream",
     "text": [
      "1/1 [==============================] - 0s 34ms/step\n",
      "26150/26150 [==============================] - 108s 4ms/step\n"
     ]
    },
    {
     "name": "stderr",
     "output_type": "stream",
     "text": [
      " 16%|█▌        | 62/400 [2:09:16<11:25:07, 121.62s/it]"
     ]
    },
    {
     "name": "stdout",
     "output_type": "stream",
     "text": [
      "1/1 [==============================] - 0s 37ms/step\n",
      "26150/26150 [==============================] - 103s 4ms/step\n"
     ]
    },
    {
     "name": "stderr",
     "output_type": "stream",
     "text": [
      " 16%|█▌        | 63/400 [2:11:15<11:18:02, 120.72s/it]"
     ]
    },
    {
     "name": "stdout",
     "output_type": "stream",
     "text": [
      "1/1 [==============================] - 0s 33ms/step\n",
      "26150/26150 [==============================] - 106s 4ms/step\n"
     ]
    },
    {
     "name": "stderr",
     "output_type": "stream",
     "text": [
      " 16%|█▌        | 64/400 [2:13:15<11:15:14, 120.58s/it]"
     ]
    },
    {
     "name": "stdout",
     "output_type": "stream",
     "text": [
      "1/1 [==============================] - 0s 28ms/step\n",
      "26150/26150 [==============================] - 104s 4ms/step\n"
     ]
    },
    {
     "name": "stderr",
     "output_type": "stream",
     "text": [
      " 16%|█▋        | 65/400 [2:15:15<11:11:49, 120.33s/it]"
     ]
    },
    {
     "name": "stdout",
     "output_type": "stream",
     "text": [
      "1/1 [==============================] - 0s 34ms/step\n",
      "26150/26150 [==============================] - 104s 4ms/step\n"
     ]
    },
    {
     "name": "stderr",
     "output_type": "stream",
     "text": [
      " 16%|█▋        | 66/400 [2:17:15<11:09:24, 120.25s/it]"
     ]
    },
    {
     "name": "stdout",
     "output_type": "stream",
     "text": [
      "1/1 [==============================] - 0s 28ms/step\n",
      "26150/26150 [==============================] - 104s 4ms/step\n"
     ]
    },
    {
     "name": "stderr",
     "output_type": "stream",
     "text": [
      " 17%|█▋        | 67/400 [2:19:14<11:06:04, 120.01s/it]"
     ]
    },
    {
     "name": "stdout",
     "output_type": "stream",
     "text": [
      "1/1 [==============================] - 0s 30ms/step\n",
      "26150/26150 [==============================] - 107s 4ms/step\n"
     ]
    },
    {
     "name": "stderr",
     "output_type": "stream",
     "text": [
      " 17%|█▋        | 68/400 [2:21:16<11:07:38, 120.66s/it]"
     ]
    },
    {
     "name": "stdout",
     "output_type": "stream",
     "text": [
      "1/1 [==============================] - 0s 32ms/step\n",
      "26150/26150 [==============================] - 105s 4ms/step\n"
     ]
    },
    {
     "name": "stderr",
     "output_type": "stream",
     "text": [
      " 17%|█▋        | 69/400 [2:23:16<11:04:22, 120.43s/it]"
     ]
    },
    {
     "name": "stdout",
     "output_type": "stream",
     "text": [
      "1/1 [==============================] - 0s 34ms/step\n",
      "26150/26150 [==============================] - 107s 4ms/step\n"
     ]
    },
    {
     "name": "stderr",
     "output_type": "stream",
     "text": [
      " 18%|█▊        | 70/400 [2:25:19<11:06:01, 121.10s/it]"
     ]
    },
    {
     "name": "stdout",
     "output_type": "stream",
     "text": [
      "1/1 [==============================] - 0s 27ms/step\n",
      "26150/26150 [==============================] - 103s 4ms/step\n"
     ]
    },
    {
     "name": "stderr",
     "output_type": "stream",
     "text": [
      " 18%|█▊        | 71/400 [2:27:18<11:00:17, 120.42s/it]"
     ]
    },
    {
     "name": "stdout",
     "output_type": "stream",
     "text": [
      "1/1 [==============================] - 0s 33ms/step\n",
      "26150/26150 [==============================] - 106s 4ms/step\n"
     ]
    },
    {
     "name": "stderr",
     "output_type": "stream",
     "text": [
      " 18%|█▊        | 72/400 [2:29:18<10:59:03, 120.56s/it]"
     ]
    },
    {
     "name": "stdout",
     "output_type": "stream",
     "text": [
      "1/1 [==============================] - 0s 37ms/step\n",
      "26150/26150 [==============================] - 113s 4ms/step\n"
     ]
    },
    {
     "name": "stderr",
     "output_type": "stream",
     "text": [
      " 18%|█▊        | 73/400 [2:31:29<11:13:24, 123.56s/it]"
     ]
    },
    {
     "name": "stdout",
     "output_type": "stream",
     "text": [
      "1/1 [==============================] - 0s 32ms/step\n",
      "26150/26150 [==============================] - 124s 5ms/step\n"
     ]
    },
    {
     "name": "stderr",
     "output_type": "stream",
     "text": [
      " 18%|█▊        | 74/400 [2:33:48<11:35:51, 128.07s/it]"
     ]
    },
    {
     "name": "stdout",
     "output_type": "stream",
     "text": [
      "1/1 [==============================] - 0s 33ms/step\n",
      "26150/26150 [==============================] - 105s 4ms/step\n"
     ]
    },
    {
     "name": "stderr",
     "output_type": "stream",
     "text": [
      " 19%|█▉        | 75/400 [2:35:49<11:23:05, 126.11s/it]"
     ]
    },
    {
     "name": "stdout",
     "output_type": "stream",
     "text": [
      "1/1 [==============================] - 0s 31ms/step\n",
      "26150/26150 [==============================] - 105s 4ms/step\n"
     ]
    },
    {
     "name": "stderr",
     "output_type": "stream",
     "text": [
      " 19%|█▉        | 76/400 [2:37:50<11:12:27, 124.53s/it]"
     ]
    },
    {
     "name": "stdout",
     "output_type": "stream",
     "text": [
      "1/1 [==============================] - 0s 45ms/step\n",
      "26150/26150 [==============================] - 105s 4ms/step\n"
     ]
    },
    {
     "name": "stderr",
     "output_type": "stream",
     "text": [
      " 19%|█▉        | 77/400 [2:39:50<11:03:25, 123.24s/it]"
     ]
    },
    {
     "name": "stdout",
     "output_type": "stream",
     "text": [
      "1/1 [==============================] - 0s 35ms/step\n",
      "26150/26150 [==============================] - 106s 4ms/step\n"
     ]
    },
    {
     "name": "stderr",
     "output_type": "stream",
     "text": [
      " 20%|█▉        | 78/400 [2:41:52<10:59:34, 122.90s/it]"
     ]
    },
    {
     "name": "stdout",
     "output_type": "stream",
     "text": [
      "1/1 [==============================] - 0s 36ms/step\n",
      "26150/26150 [==============================] - 103s 4ms/step\n"
     ]
    },
    {
     "name": "stderr",
     "output_type": "stream",
     "text": [
      " 20%|█▉        | 79/400 [2:43:50<10:49:45, 121.45s/it]"
     ]
    },
    {
     "name": "stdout",
     "output_type": "stream",
     "text": [
      "1/1 [==============================] - 0s 32ms/step\n",
      "26150/26150 [==============================] - 105s 4ms/step\n"
     ]
    },
    {
     "name": "stderr",
     "output_type": "stream",
     "text": [
      " 20%|██        | 80/400 [2:45:51<10:46:41, 121.25s/it]"
     ]
    },
    {
     "name": "stdout",
     "output_type": "stream",
     "text": [
      "1/1 [==============================] - 0s 30ms/step\n",
      "26150/26150 [==============================] - 103s 4ms/step\n"
     ]
    },
    {
     "name": "stderr",
     "output_type": "stream",
     "text": [
      " 20%|██        | 81/400 [2:47:49<10:39:29, 120.28s/it]"
     ]
    },
    {
     "name": "stdout",
     "output_type": "stream",
     "text": [
      "1/1 [==============================] - 0s 28ms/step\n",
      "26150/26150 [==============================] - 106s 4ms/step\n"
     ]
    },
    {
     "name": "stderr",
     "output_type": "stream",
     "text": [
      " 20%|██        | 82/400 [2:49:50<10:37:40, 120.32s/it]"
     ]
    },
    {
     "name": "stdout",
     "output_type": "stream",
     "text": [
      "1/1 [==============================] - 0s 32ms/step\n",
      "26150/26150 [==============================] - 104s 4ms/step\n"
     ]
    },
    {
     "name": "stderr",
     "output_type": "stream",
     "text": [
      " 21%|██        | 83/400 [2:51:49<10:33:50, 119.97s/it]"
     ]
    },
    {
     "name": "stdout",
     "output_type": "stream",
     "text": [
      "1/1 [==============================] - 0s 44ms/step\n",
      "26150/26150 [==============================] - 105s 4ms/step\n"
     ]
    },
    {
     "name": "stderr",
     "output_type": "stream",
     "text": [
      " 21%|██        | 84/400 [2:53:48<10:30:41, 119.75s/it]"
     ]
    },
    {
     "name": "stdout",
     "output_type": "stream",
     "text": [
      "1/1 [==============================] - 0s 31ms/step\n",
      "26150/26150 [==============================] - 104s 4ms/step\n"
     ]
    },
    {
     "name": "stderr",
     "output_type": "stream",
     "text": [
      " 21%|██▏       | 85/400 [2:55:49<10:29:50, 119.97s/it]"
     ]
    },
    {
     "name": "stdout",
     "output_type": "stream",
     "text": [
      "1/1 [==============================] - 0s 37ms/step\n",
      "26150/26150 [==============================] - 104s 4ms/step\n"
     ]
    },
    {
     "name": "stderr",
     "output_type": "stream",
     "text": [
      " 22%|██▏       | 86/400 [2:57:48<10:27:49, 119.97s/it]"
     ]
    },
    {
     "name": "stdout",
     "output_type": "stream",
     "text": [
      "1/1 [==============================] - 0s 31ms/step\n",
      "26150/26150 [==============================] - 105s 4ms/step\n"
     ]
    },
    {
     "name": "stderr",
     "output_type": "stream",
     "text": [
      " 22%|██▏       | 87/400 [2:59:49<10:26:03, 120.01s/it]"
     ]
    },
    {
     "name": "stdout",
     "output_type": "stream",
     "text": [
      "1/1 [==============================] - 0s 44ms/step\n",
      "26150/26150 [==============================] - 106s 4ms/step\n"
     ]
    },
    {
     "name": "stderr",
     "output_type": "stream",
     "text": [
      " 22%|██▏       | 88/400 [3:01:50<10:26:11, 120.42s/it]"
     ]
    },
    {
     "name": "stdout",
     "output_type": "stream",
     "text": [
      "1/1 [==============================] - 0s 29ms/step\n",
      "26150/26150 [==============================] - 104s 4ms/step\n"
     ]
    },
    {
     "name": "stderr",
     "output_type": "stream",
     "text": [
      " 22%|██▏       | 89/400 [3:03:48<10:20:56, 119.79s/it]"
     ]
    },
    {
     "name": "stdout",
     "output_type": "stream",
     "text": [
      "1/1 [==============================] - 0s 34ms/step\n",
      "26150/26150 [==============================] - 106s 4ms/step\n"
     ]
    },
    {
     "name": "stderr",
     "output_type": "stream",
     "text": [
      " 22%|██▎       | 90/400 [3:06:13<10:57:42, 127.30s/it]"
     ]
    },
    {
     "name": "stdout",
     "output_type": "stream",
     "text": [
      "1/1 [==============================] - 0s 38ms/step\n",
      "26150/26150 [==============================] - 103s 4ms/step\n"
     ]
    },
    {
     "name": "stderr",
     "output_type": "stream",
     "text": [
      " 23%|██▎       | 91/400 [3:08:12<10:43:00, 124.86s/it]"
     ]
    },
    {
     "name": "stdout",
     "output_type": "stream",
     "text": [
      "1/1 [==============================] - 0s 32ms/step\n",
      "26150/26150 [==============================] - 103s 4ms/step\n"
     ]
    },
    {
     "name": "stderr",
     "output_type": "stream",
     "text": [
      " 23%|██▎       | 92/400 [3:10:11<10:30:48, 122.88s/it]"
     ]
    },
    {
     "name": "stdout",
     "output_type": "stream",
     "text": [
      "1/1 [==============================] - 0s 28ms/step\n",
      "26150/26150 [==============================] - 104s 4ms/step\n"
     ]
    },
    {
     "name": "stderr",
     "output_type": "stream",
     "text": [
      " 23%|██▎       | 93/400 [3:12:10<10:23:24, 121.84s/it]"
     ]
    },
    {
     "name": "stdout",
     "output_type": "stream",
     "text": [
      "1/1 [==============================] - 0s 31ms/step\n",
      "26150/26150 [==============================] - 106s 4ms/step\n"
     ]
    },
    {
     "name": "stderr",
     "output_type": "stream",
     "text": [
      " 24%|██▎       | 94/400 [3:14:11<10:20:09, 121.60s/it]"
     ]
    },
    {
     "name": "stdout",
     "output_type": "stream",
     "text": [
      "1/1 [==============================] - 0s 44ms/step\n",
      "26150/26150 [==============================] - 103s 4ms/step\n"
     ]
    },
    {
     "name": "stderr",
     "output_type": "stream",
     "text": [
      " 24%|██▍       | 95/400 [3:16:09<10:13:15, 120.64s/it]"
     ]
    },
    {
     "name": "stdout",
     "output_type": "stream",
     "text": [
      "1/1 [==============================] - 0s 34ms/step\n",
      "26150/26150 [==============================] - 104s 4ms/step\n"
     ]
    },
    {
     "name": "stderr",
     "output_type": "stream",
     "text": [
      " 24%|██▍       | 96/400 [3:18:10<10:10:27, 120.48s/it]"
     ]
    },
    {
     "name": "stdout",
     "output_type": "stream",
     "text": [
      "1/1 [==============================] - 0s 34ms/step\n",
      "26150/26150 [==============================] - 103s 4ms/step\n"
     ]
    },
    {
     "name": "stderr",
     "output_type": "stream",
     "text": [
      " 24%|██▍       | 97/400 [3:20:08<10:04:53, 119.78s/it]"
     ]
    },
    {
     "name": "stdout",
     "output_type": "stream",
     "text": [
      "1/1 [==============================] - 0s 28ms/step\n",
      "26150/26150 [==============================] - 105s 4ms/step\n"
     ]
    },
    {
     "name": "stderr",
     "output_type": "stream",
     "text": [
      " 24%|██▍       | 98/400 [3:22:08<10:04:16, 120.06s/it]"
     ]
    },
    {
     "name": "stdout",
     "output_type": "stream",
     "text": [
      "1/1 [==============================] - 0s 38ms/step\n",
      "26150/26150 [==============================] - 105s 4ms/step\n"
     ]
    },
    {
     "name": "stderr",
     "output_type": "stream",
     "text": [
      " 25%|██▍       | 99/400 [3:24:09<10:03:18, 120.26s/it]"
     ]
    },
    {
     "name": "stdout",
     "output_type": "stream",
     "text": [
      "1/1 [==============================] - 0s 28ms/step\n",
      "26150/26150 [==============================] - 106s 4ms/step\n"
     ]
    },
    {
     "name": "stderr",
     "output_type": "stream",
     "text": [
      " 25%|██▌       | 100/400 [3:26:09<10:00:49, 120.16s/it]"
     ]
    },
    {
     "name": "stdout",
     "output_type": "stream",
     "text": [
      "1/1 [==============================] - 0s 33ms/step\n",
      "26150/26150 [==============================] - 102s 4ms/step\n"
     ]
    },
    {
     "name": "stderr",
     "output_type": "stream",
     "text": [
      " 25%|██▌       | 101/400 [3:28:07<9:55:38, 119.53s/it] "
     ]
    },
    {
     "name": "stdout",
     "output_type": "stream",
     "text": [
      "1/1 [==============================] - 0s 31ms/step\n",
      "26150/26150 [==============================] - 104s 4ms/step\n"
     ]
    },
    {
     "name": "stderr",
     "output_type": "stream",
     "text": [
      " 26%|██▌       | 102/400 [3:30:06<9:53:15, 119.45s/it]"
     ]
    },
    {
     "name": "stdout",
     "output_type": "stream",
     "text": [
      "1/1 [==============================] - 0s 45ms/step\n",
      "26150/26150 [==============================] - 108s 4ms/step\n"
     ]
    },
    {
     "name": "stderr",
     "output_type": "stream",
     "text": [
      " 26%|██▌       | 103/400 [3:32:10<9:57:27, 120.70s/it]"
     ]
    },
    {
     "name": "stdout",
     "output_type": "stream",
     "text": [
      "1/1 [==============================] - 0s 31ms/step\n",
      "26150/26150 [==============================] - 109s 4ms/step\n"
     ]
    },
    {
     "name": "stderr",
     "output_type": "stream",
     "text": [
      " 26%|██▌       | 104/400 [3:34:15<10:02:01, 122.03s/it]"
     ]
    },
    {
     "name": "stdout",
     "output_type": "stream",
     "text": [
      "1/1 [==============================] - 0s 29ms/step\n",
      "26150/26150 [==============================] - 108s 4ms/step\n"
     ]
    },
    {
     "name": "stderr",
     "output_type": "stream",
     "text": [
      " 26%|██▋       | 105/400 [3:36:17<10:00:19, 122.10s/it]"
     ]
    },
    {
     "name": "stdout",
     "output_type": "stream",
     "text": [
      "1/1 [==============================] - 0s 31ms/step\n",
      "26150/26150 [==============================] - 105s 4ms/step\n"
     ]
    },
    {
     "name": "stderr",
     "output_type": "stream",
     "text": [
      " 26%|██▋       | 106/400 [3:38:18<9:56:43, 121.78s/it] "
     ]
    },
    {
     "name": "stdout",
     "output_type": "stream",
     "text": [
      "1/1 [==============================] - 0s 47ms/step\n",
      "26150/26150 [==============================] - 103s 4ms/step\n"
     ]
    },
    {
     "name": "stderr",
     "output_type": "stream",
     "text": [
      " 27%|██▋       | 107/400 [3:40:17<9:50:44, 120.97s/it]"
     ]
    },
    {
     "name": "stdout",
     "output_type": "stream",
     "text": [
      "1/1 [==============================] - 0s 31ms/step\n",
      "26150/26150 [==============================] - 105s 4ms/step\n"
     ]
    },
    {
     "name": "stderr",
     "output_type": "stream",
     "text": [
      " 27%|██▋       | 108/400 [3:42:18<9:47:56, 120.81s/it]"
     ]
    },
    {
     "name": "stdout",
     "output_type": "stream",
     "text": [
      "1/1 [==============================] - 0s 33ms/step\n",
      "26150/26150 [==============================] - 103s 4ms/step\n"
     ]
    },
    {
     "name": "stderr",
     "output_type": "stream",
     "text": [
      " 27%|██▋       | 109/400 [3:44:17<9:43:14, 120.26s/it]"
     ]
    },
    {
     "name": "stdout",
     "output_type": "stream",
     "text": [
      "1/1 [==============================] - 0s 30ms/step\n",
      "26150/26150 [==============================] - 105s 4ms/step\n"
     ]
    },
    {
     "name": "stderr",
     "output_type": "stream",
     "text": [
      " 28%|██▊       | 110/400 [3:46:17<9:40:39, 120.13s/it]"
     ]
    },
    {
     "name": "stdout",
     "output_type": "stream",
     "text": [
      "1/1 [==============================] - 0s 30ms/step\n",
      "26150/26150 [==============================] - 102s 4ms/step\n"
     ]
    },
    {
     "name": "stderr",
     "output_type": "stream",
     "text": [
      " 28%|██▊       | 111/400 [3:48:14<9:35:14, 119.43s/it]"
     ]
    },
    {
     "name": "stdout",
     "output_type": "stream",
     "text": [
      "1/1 [==============================] - 0s 31ms/step\n",
      "26150/26150 [==============================] - 105s 4ms/step\n"
     ]
    },
    {
     "name": "stderr",
     "output_type": "stream",
     "text": [
      " 28%|██▊       | 112/400 [3:50:15<9:34:14, 119.63s/it]"
     ]
    },
    {
     "name": "stdout",
     "output_type": "stream",
     "text": [
      "1/1 [==============================] - 0s 31ms/step\n",
      "26150/26150 [==============================] - 103s 4ms/step\n"
     ]
    },
    {
     "name": "stderr",
     "output_type": "stream",
     "text": [
      " 28%|██▊       | 113/400 [3:52:13<9:30:20, 119.23s/it]"
     ]
    },
    {
     "name": "stdout",
     "output_type": "stream",
     "text": [
      "1/1 [==============================] - 0s 32ms/step\n",
      "26150/26150 [==============================] - 104s 4ms/step\n"
     ]
    },
    {
     "name": "stderr",
     "output_type": "stream",
     "text": [
      " 28%|██▊       | 114/400 [3:54:14<9:30:44, 119.74s/it]"
     ]
    },
    {
     "name": "stdout",
     "output_type": "stream",
     "text": [
      "1/1 [==============================] - 0s 34ms/step\n",
      "26150/26150 [==============================] - 103s 4ms/step\n"
     ]
    },
    {
     "name": "stderr",
     "output_type": "stream",
     "text": [
      " 29%|██▉       | 115/400 [3:56:11<9:24:42, 118.89s/it]"
     ]
    },
    {
     "name": "stdout",
     "output_type": "stream",
     "text": [
      "1/1 [==============================] - 0s 31ms/step\n",
      "26150/26150 [==============================] - 104s 4ms/step\n"
     ]
    },
    {
     "name": "stderr",
     "output_type": "stream",
     "text": [
      " 29%|██▉       | 116/400 [3:58:10<9:23:34, 119.07s/it]"
     ]
    },
    {
     "name": "stdout",
     "output_type": "stream",
     "text": [
      "1/1 [==============================] - 0s 46ms/step\n",
      "26150/26150 [==============================] - 104s 4ms/step\n"
     ]
    },
    {
     "name": "stderr",
     "output_type": "stream",
     "text": [
      " 29%|██▉       | 117/400 [4:00:09<9:20:48, 118.90s/it]"
     ]
    },
    {
     "name": "stdout",
     "output_type": "stream",
     "text": [
      "1/1 [==============================] - 0s 30ms/step\n",
      "26150/26150 [==============================] - 105s 4ms/step\n"
     ]
    },
    {
     "name": "stderr",
     "output_type": "stream",
     "text": [
      " 30%|██▉       | 118/400 [4:02:09<9:21:27, 119.46s/it]"
     ]
    },
    {
     "name": "stdout",
     "output_type": "stream",
     "text": [
      "1/1 [==============================] - 0s 31ms/step\n",
      "26150/26150 [==============================] - 104s 4ms/step\n"
     ]
    },
    {
     "name": "stderr",
     "output_type": "stream",
     "text": [
      " 30%|██▉       | 119/400 [4:04:10<9:20:51, 119.76s/it]"
     ]
    },
    {
     "name": "stdout",
     "output_type": "stream",
     "text": [
      "1/1 [==============================] - 0s 30ms/step\n",
      "26150/26150 [==============================] - 105s 4ms/step\n"
     ]
    },
    {
     "name": "stderr",
     "output_type": "stream",
     "text": [
      " 30%|███       | 120/400 [4:06:10<9:19:21, 119.86s/it]"
     ]
    },
    {
     "name": "stdout",
     "output_type": "stream",
     "text": [
      "1/1 [==============================] - 0s 35ms/step\n",
      "26150/26150 [==============================] - 104s 4ms/step\n"
     ]
    },
    {
     "name": "stderr",
     "output_type": "stream",
     "text": [
      " 30%|███       | 121/400 [4:08:12<9:19:52, 120.40s/it]"
     ]
    },
    {
     "name": "stdout",
     "output_type": "stream",
     "text": [
      "1/1 [==============================] - 0s 34ms/step\n",
      "26150/26150 [==============================] - 104s 4ms/step\n"
     ]
    },
    {
     "name": "stderr",
     "output_type": "stream",
     "text": [
      " 30%|███       | 122/400 [4:10:10<9:14:55, 119.77s/it]"
     ]
    },
    {
     "name": "stdout",
     "output_type": "stream",
     "text": [
      "1/1 [==============================] - 0s 31ms/step\n",
      "26150/26150 [==============================] - 104s 4ms/step\n"
     ]
    },
    {
     "name": "stderr",
     "output_type": "stream",
     "text": [
      " 31%|███       | 123/400 [4:12:10<9:13:56, 119.99s/it]"
     ]
    },
    {
     "name": "stdout",
     "output_type": "stream",
     "text": [
      "1/1 [==============================] - 0s 37ms/step\n",
      "26150/26150 [==============================] - 102s 4ms/step\n"
     ]
    },
    {
     "name": "stderr",
     "output_type": "stream",
     "text": [
      " 31%|███       | 124/400 [4:14:08<9:08:37, 119.27s/it]"
     ]
    },
    {
     "name": "stdout",
     "output_type": "stream",
     "text": [
      "1/1 [==============================] - 0s 29ms/step\n",
      "26150/26150 [==============================] - 105s 4ms/step\n"
     ]
    },
    {
     "name": "stderr",
     "output_type": "stream",
     "text": [
      " 31%|███▏      | 125/400 [4:16:07<9:06:27, 119.23s/it]"
     ]
    },
    {
     "name": "stdout",
     "output_type": "stream",
     "text": [
      "1/1 [==============================] - 0s 24ms/step\n",
      "26150/26150 [==============================] - 104s 4ms/step\n"
     ]
    },
    {
     "name": "stderr",
     "output_type": "stream",
     "text": [
      " 32%|███▏      | 126/400 [4:18:06<9:04:11, 119.17s/it]"
     ]
    },
    {
     "name": "stdout",
     "output_type": "stream",
     "text": [
      "1/1 [==============================] - 0s 30ms/step\n",
      "26150/26150 [==============================] - 103s 4ms/step\n"
     ]
    },
    {
     "name": "stderr",
     "output_type": "stream",
     "text": [
      " 32%|███▏      | 127/400 [4:20:04<9:00:07, 118.71s/it]"
     ]
    },
    {
     "name": "stdout",
     "output_type": "stream",
     "text": [
      "1/1 [==============================] - 0s 33ms/step\n",
      "26150/26150 [==============================] - 103s 4ms/step\n"
     ]
    },
    {
     "name": "stderr",
     "output_type": "stream",
     "text": [
      " 32%|███▏      | 128/400 [4:22:02<8:57:57, 118.67s/it]"
     ]
    },
    {
     "name": "stdout",
     "output_type": "stream",
     "text": [
      "1/1 [==============================] - 0s 31ms/step\n",
      "26150/26150 [==============================] - 103s 4ms/step\n"
     ]
    },
    {
     "name": "stderr",
     "output_type": "stream",
     "text": [
      " 32%|███▏      | 129/400 [4:24:01<8:55:44, 118.61s/it]"
     ]
    },
    {
     "name": "stdout",
     "output_type": "stream",
     "text": [
      "1/1 [==============================] - 0s 32ms/step\n",
      "26150/26150 [==============================] - 104s 4ms/step\n"
     ]
    },
    {
     "name": "stderr",
     "output_type": "stream",
     "text": [
      " 32%|███▎      | 130/400 [4:26:06<9:02:30, 120.56s/it]"
     ]
    },
    {
     "name": "stdout",
     "output_type": "stream",
     "text": [
      "1/1 [==============================] - 0s 32ms/step\n",
      "26150/26150 [==============================] - 105s 4ms/step\n"
     ]
    },
    {
     "name": "stderr",
     "output_type": "stream",
     "text": [
      " 33%|███▎      | 131/400 [4:28:06<9:00:19, 120.52s/it]"
     ]
    },
    {
     "name": "stdout",
     "output_type": "stream",
     "text": [
      "1/1 [==============================] - 0s 34ms/step\n",
      "26150/26150 [==============================] - 102s 4ms/step\n"
     ]
    },
    {
     "name": "stderr",
     "output_type": "stream",
     "text": [
      " 33%|███▎      | 132/400 [4:30:03<8:53:22, 119.41s/it]"
     ]
    },
    {
     "name": "stdout",
     "output_type": "stream",
     "text": [
      "1/1 [==============================] - 0s 31ms/step\n",
      "26150/26150 [==============================] - 105s 4ms/step\n"
     ]
    },
    {
     "name": "stderr",
     "output_type": "stream",
     "text": [
      " 33%|███▎      | 133/400 [4:32:04<8:53:13, 119.83s/it]"
     ]
    },
    {
     "name": "stdout",
     "output_type": "stream",
     "text": [
      "1/1 [==============================] - 0s 31ms/step\n",
      "26150/26150 [==============================] - 103s 4ms/step\n"
     ]
    },
    {
     "name": "stderr",
     "output_type": "stream",
     "text": [
      " 34%|███▎      | 134/400 [4:34:04<8:51:21, 119.86s/it]"
     ]
    },
    {
     "name": "stdout",
     "output_type": "stream",
     "text": [
      "1/1 [==============================] - 0s 32ms/step\n",
      "26150/26150 [==============================] - 105s 4ms/step\n"
     ]
    },
    {
     "name": "stderr",
     "output_type": "stream",
     "text": [
      " 34%|███▍      | 135/400 [4:36:04<8:49:31, 119.89s/it]"
     ]
    },
    {
     "name": "stdout",
     "output_type": "stream",
     "text": [
      "1/1 [==============================] - 0s 33ms/step\n",
      "26150/26150 [==============================] - 102s 4ms/step\n"
     ]
    },
    {
     "name": "stderr",
     "output_type": "stream",
     "text": [
      " 34%|███▍      | 136/400 [4:38:01<8:44:19, 119.16s/it]"
     ]
    },
    {
     "name": "stdout",
     "output_type": "stream",
     "text": [
      "1/1 [==============================] - 0s 32ms/step\n",
      "26150/26150 [==============================] - 104s 4ms/step\n"
     ]
    },
    {
     "name": "stderr",
     "output_type": "stream",
     "text": [
      " 34%|███▍      | 137/400 [4:40:00<8:41:51, 119.05s/it]"
     ]
    },
    {
     "name": "stdout",
     "output_type": "stream",
     "text": [
      "1/1 [==============================] - 0s 37ms/step\n",
      "26150/26150 [==============================] - 102s 4ms/step\n"
     ]
    },
    {
     "name": "stderr",
     "output_type": "stream",
     "text": [
      " 34%|███▍      | 138/400 [4:41:58<8:38:04, 118.64s/it]"
     ]
    },
    {
     "name": "stdout",
     "output_type": "stream",
     "text": [
      "1/1 [==============================] - 0s 29ms/step\n",
      "26150/26150 [==============================] - 104s 4ms/step\n"
     ]
    },
    {
     "name": "stderr",
     "output_type": "stream",
     "text": [
      " 35%|███▍      | 139/400 [4:43:59<8:39:04, 119.33s/it]"
     ]
    },
    {
     "name": "stdout",
     "output_type": "stream",
     "text": [
      "1/1 [==============================] - 0s 32ms/step\n",
      "26150/26150 [==============================] - 103s 4ms/step\n"
     ]
    },
    {
     "name": "stderr",
     "output_type": "stream",
     "text": [
      " 35%|███▌      | 140/400 [4:45:58<8:36:28, 119.19s/it]"
     ]
    },
    {
     "name": "stdout",
     "output_type": "stream",
     "text": [
      "1/1 [==============================] - 0s 34ms/step\n",
      "26150/26150 [==============================] - 104s 4ms/step\n"
     ]
    },
    {
     "name": "stderr",
     "output_type": "stream",
     "text": [
      " 35%|███▌      | 141/400 [4:47:57<8:34:47, 119.26s/it]"
     ]
    },
    {
     "name": "stdout",
     "output_type": "stream",
     "text": [
      "1/1 [==============================] - 0s 27ms/step\n",
      "26150/26150 [==============================] - 103s 4ms/step\n"
     ]
    },
    {
     "name": "stderr",
     "output_type": "stream",
     "text": [
      " 36%|███▌      | 142/400 [4:49:55<8:30:33, 118.74s/it]"
     ]
    },
    {
     "name": "stdout",
     "output_type": "stream",
     "text": [
      "1/1 [==============================] - 0s 32ms/step\n",
      "26150/26150 [==============================] - 105s 4ms/step\n"
     ]
    },
    {
     "name": "stderr",
     "output_type": "stream",
     "text": [
      " 36%|███▌      | 143/400 [4:51:55<8:30:55, 119.28s/it]"
     ]
    },
    {
     "name": "stdout",
     "output_type": "stream",
     "text": [
      "1/1 [==============================] - 0s 46ms/step\n",
      "26150/26150 [==============================] - 101s 4ms/step\n"
     ]
    },
    {
     "name": "stderr",
     "output_type": "stream",
     "text": [
      " 36%|███▌      | 144/400 [4:53:52<8:25:20, 118.44s/it]"
     ]
    },
    {
     "name": "stdout",
     "output_type": "stream",
     "text": [
      "1/1 [==============================] - 0s 32ms/step\n",
      "26150/26150 [==============================] - 103s 4ms/step\n"
     ]
    },
    {
     "name": "stderr",
     "output_type": "stream",
     "text": [
      " 36%|███▋      | 145/400 [4:55:50<8:23:23, 118.44s/it]"
     ]
    },
    {
     "name": "stdout",
     "output_type": "stream",
     "text": [
      "1/1 [==============================] - 0s 27ms/step\n",
      "26150/26150 [==============================] - 103s 4ms/step\n"
     ]
    },
    {
     "name": "stderr",
     "output_type": "stream",
     "text": [
      " 36%|███▋      | 146/400 [4:57:48<8:20:35, 118.25s/it]"
     ]
    },
    {
     "name": "stdout",
     "output_type": "stream",
     "text": [
      "1/1 [==============================] - 0s 30ms/step\n",
      "26150/26150 [==============================] - 104s 4ms/step\n"
     ]
    },
    {
     "name": "stderr",
     "output_type": "stream",
     "text": [
      " 37%|███▋      | 147/400 [4:59:46<8:18:18, 118.18s/it]"
     ]
    },
    {
     "name": "stdout",
     "output_type": "stream",
     "text": [
      "1/1 [==============================] - 0s 32ms/step\n",
      "26150/26150 [==============================] - 103s 4ms/step\n"
     ]
    },
    {
     "name": "stderr",
     "output_type": "stream",
     "text": [
      " 37%|███▋      | 148/400 [5:01:45<8:16:49, 118.29s/it]"
     ]
    },
    {
     "name": "stdout",
     "output_type": "stream",
     "text": [
      "1/1 [==============================] - 0s 28ms/step\n",
      "26150/26150 [==============================] - 101s 4ms/step\n"
     ]
    },
    {
     "name": "stderr",
     "output_type": "stream",
     "text": [
      " 37%|███▋      | 149/400 [5:03:41<8:12:25, 117.71s/it]"
     ]
    },
    {
     "name": "stdout",
     "output_type": "stream",
     "text": [
      "1/1 [==============================] - 0s 37ms/step\n",
      "26150/26150 [==============================] - 103s 4ms/step\n"
     ]
    },
    {
     "name": "stderr",
     "output_type": "stream",
     "text": [
      " 38%|███▊      | 150/400 [5:05:39<8:11:26, 117.94s/it]"
     ]
    },
    {
     "name": "stdout",
     "output_type": "stream",
     "text": [
      "1/1 [==============================] - 0s 37ms/step\n",
      "26150/26150 [==============================] - 102s 4ms/step\n"
     ]
    },
    {
     "name": "stderr",
     "output_type": "stream",
     "text": [
      " 38%|███▊      | 151/400 [5:07:37<8:09:00, 117.83s/it]"
     ]
    },
    {
     "name": "stdout",
     "output_type": "stream",
     "text": [
      "1/1 [==============================] - 0s 31ms/step\n",
      "26150/26150 [==============================] - 104s 4ms/step\n"
     ]
    },
    {
     "name": "stderr",
     "output_type": "stream",
     "text": [
      " 38%|███▊      | 152/400 [5:09:36<8:08:07, 118.10s/it]"
     ]
    },
    {
     "name": "stdout",
     "output_type": "stream",
     "text": [
      "1/1 [==============================] - 0s 32ms/step\n",
      "26150/26150 [==============================] - 103s 4ms/step\n"
     ]
    },
    {
     "name": "stderr",
     "output_type": "stream",
     "text": [
      " 38%|███▊      | 153/400 [5:11:34<8:07:02, 118.31s/it]"
     ]
    },
    {
     "name": "stdout",
     "output_type": "stream",
     "text": [
      "1/1 [==============================] - 0s 29ms/step\n",
      "26150/26150 [==============================] - 101s 4ms/step\n"
     ]
    },
    {
     "name": "stderr",
     "output_type": "stream",
     "text": [
      " 38%|███▊      | 154/400 [5:13:30<8:01:56, 117.55s/it]"
     ]
    },
    {
     "name": "stdout",
     "output_type": "stream",
     "text": [
      "1/1 [==============================] - 0s 36ms/step\n",
      "26150/26150 [==============================] - 105s 4ms/step\n"
     ]
    },
    {
     "name": "stderr",
     "output_type": "stream",
     "text": [
      " 39%|███▉      | 155/400 [5:15:31<8:03:41, 118.46s/it]"
     ]
    },
    {
     "name": "stdout",
     "output_type": "stream",
     "text": [
      "1/1 [==============================] - 0s 30ms/step\n",
      "26150/26150 [==============================] - 101s 4ms/step\n"
     ]
    },
    {
     "name": "stderr",
     "output_type": "stream",
     "text": [
      " 39%|███▉      | 156/400 [5:17:28<7:59:55, 118.01s/it]"
     ]
    },
    {
     "name": "stdout",
     "output_type": "stream",
     "text": [
      "1/1 [==============================] - 0s 30ms/step\n",
      "26150/26150 [==============================] - 105s 4ms/step\n"
     ]
    },
    {
     "name": "stderr",
     "output_type": "stream",
     "text": [
      " 39%|███▉      | 157/400 [5:19:28<8:00:30, 118.65s/it]"
     ]
    },
    {
     "name": "stdout",
     "output_type": "stream",
     "text": [
      "1/1 [==============================] - 0s 34ms/step\n",
      "26150/26150 [==============================] - 102s 4ms/step\n"
     ]
    },
    {
     "name": "stderr",
     "output_type": "stream",
     "text": [
      " 40%|███▉      | 158/400 [5:21:26<7:57:33, 118.40s/it]"
     ]
    },
    {
     "name": "stdout",
     "output_type": "stream",
     "text": [
      "1/1 [==============================] - 0s 44ms/step\n",
      "26150/26150 [==============================] - 104s 4ms/step\n"
     ]
    },
    {
     "name": "stderr",
     "output_type": "stream",
     "text": [
      " 40%|███▉      | 159/400 [5:23:24<7:55:26, 118.37s/it]"
     ]
    },
    {
     "name": "stdout",
     "output_type": "stream",
     "text": [
      "1/1 [==============================] - 0s 31ms/step\n",
      "26150/26150 [==============================] - 105s 4ms/step\n"
     ]
    },
    {
     "name": "stderr",
     "output_type": "stream",
     "text": [
      " 40%|████      | 160/400 [5:25:25<7:56:53, 119.22s/it]"
     ]
    },
    {
     "name": "stdout",
     "output_type": "stream",
     "text": [
      "1/1 [==============================] - 0s 35ms/step\n",
      "26150/26150 [==============================] - 101s 4ms/step\n"
     ]
    },
    {
     "name": "stderr",
     "output_type": "stream",
     "text": [
      " 40%|████      | 161/400 [5:27:22<7:52:26, 118.60s/it]"
     ]
    },
    {
     "name": "stdout",
     "output_type": "stream",
     "text": [
      "1/1 [==============================] - 0s 30ms/step\n",
      "26150/26150 [==============================] - 105s 4ms/step\n"
     ]
    },
    {
     "name": "stderr",
     "output_type": "stream",
     "text": [
      " 40%|████      | 162/400 [5:29:21<7:50:33, 118.63s/it]"
     ]
    },
    {
     "name": "stdout",
     "output_type": "stream",
     "text": [
      "1/1 [==============================] - 0s 27ms/step\n",
      "26150/26150 [==============================] - 104s 4ms/step\n"
     ]
    },
    {
     "name": "stderr",
     "output_type": "stream",
     "text": [
      " 41%|████      | 163/400 [5:31:20<7:49:18, 118.81s/it]"
     ]
    },
    {
     "name": "stdout",
     "output_type": "stream",
     "text": [
      "1/1 [==============================] - 0s 33ms/step\n",
      "26150/26150 [==============================] - 103s 4ms/step\n"
     ]
    },
    {
     "name": "stderr",
     "output_type": "stream",
     "text": [
      " 41%|████      | 164/400 [5:33:18<7:45:25, 118.33s/it]"
     ]
    },
    {
     "name": "stdout",
     "output_type": "stream",
     "text": [
      "1/1 [==============================] - 0s 37ms/step\n",
      "26150/26150 [==============================] - 104s 4ms/step\n"
     ]
    },
    {
     "name": "stderr",
     "output_type": "stream",
     "text": [
      " 41%|████▏     | 165/400 [5:35:17<7:45:07, 118.76s/it]"
     ]
    },
    {
     "name": "stdout",
     "output_type": "stream",
     "text": [
      "1/1 [==============================] - 0s 30ms/step\n",
      "26150/26150 [==============================] - 103s 4ms/step\n"
     ]
    },
    {
     "name": "stderr",
     "output_type": "stream",
     "text": [
      " 42%|████▏     | 166/400 [5:37:17<7:44:30, 119.10s/it]"
     ]
    },
    {
     "name": "stdout",
     "output_type": "stream",
     "text": [
      "1/1 [==============================] - 0s 39ms/step\n",
      "26150/26150 [==============================] - 105s 4ms/step\n"
     ]
    },
    {
     "name": "stderr",
     "output_type": "stream",
     "text": [
      " 42%|████▏     | 167/400 [5:39:17<7:43:25, 119.34s/it]"
     ]
    },
    {
     "name": "stdout",
     "output_type": "stream",
     "text": [
      "1/1 [==============================] - 0s 29ms/step\n",
      "26150/26150 [==============================] - 106s 4ms/step\n"
     ]
    },
    {
     "name": "stderr",
     "output_type": "stream",
     "text": [
      " 42%|████▏     | 168/400 [5:41:19<7:44:26, 120.12s/it]"
     ]
    },
    {
     "name": "stdout",
     "output_type": "stream",
     "text": [
      "1/1 [==============================] - 0s 37ms/step\n",
      "26150/26150 [==============================] - 103s 4ms/step\n"
     ]
    },
    {
     "name": "stderr",
     "output_type": "stream",
     "text": [
      " 42%|████▏     | 169/400 [5:43:22<7:45:25, 120.89s/it]"
     ]
    },
    {
     "name": "stdout",
     "output_type": "stream",
     "text": [
      "1/1 [==============================] - 0s 30ms/step\n",
      "26150/26150 [==============================] - 105s 4ms/step\n"
     ]
    },
    {
     "name": "stderr",
     "output_type": "stream",
     "text": [
      " 42%|████▎     | 170/400 [5:45:22<7:42:32, 120.66s/it]"
     ]
    },
    {
     "name": "stdout",
     "output_type": "stream",
     "text": [
      "1/1 [==============================] - 0s 36ms/step\n",
      "26150/26150 [==============================] - 103s 4ms/step\n"
     ]
    },
    {
     "name": "stderr",
     "output_type": "stream",
     "text": [
      " 43%|████▎     | 171/400 [5:47:20<7:37:35, 119.89s/it]"
     ]
    },
    {
     "name": "stdout",
     "output_type": "stream",
     "text": [
      "1/1 [==============================] - 0s 33ms/step\n",
      "26150/26150 [==============================] - 105s 4ms/step\n"
     ]
    },
    {
     "name": "stderr",
     "output_type": "stream",
     "text": [
      " 43%|████▎     | 172/400 [5:49:19<7:35:03, 119.75s/it]"
     ]
    },
    {
     "name": "stdout",
     "output_type": "stream",
     "text": [
      "1/1 [==============================] - 0s 32ms/step\n",
      "26150/26150 [==============================] - 102s 4ms/step\n"
     ]
    },
    {
     "name": "stderr",
     "output_type": "stream",
     "text": [
      " 43%|████▎     | 173/400 [5:51:17<7:30:27, 119.06s/it]"
     ]
    },
    {
     "name": "stdout",
     "output_type": "stream",
     "text": [
      "1/1 [==============================] - 0s 30ms/step\n",
      "26150/26150 [==============================] - 105s 4ms/step\n"
     ]
    },
    {
     "name": "stderr",
     "output_type": "stream",
     "text": [
      " 44%|████▎     | 174/400 [5:53:16<7:28:20, 119.03s/it]"
     ]
    },
    {
     "name": "stdout",
     "output_type": "stream",
     "text": [
      "1/1 [==============================] - 0s 31ms/step\n",
      "26150/26150 [==============================] - 102s 4ms/step\n"
     ]
    },
    {
     "name": "stderr",
     "output_type": "stream",
     "text": [
      " 44%|████▍     | 175/400 [5:55:13<7:24:37, 118.57s/it]"
     ]
    },
    {
     "name": "stdout",
     "output_type": "stream",
     "text": [
      "1/1 [==============================] - 0s 31ms/step\n",
      "26150/26150 [==============================] - 104s 4ms/step\n"
     ]
    },
    {
     "name": "stderr",
     "output_type": "stream",
     "text": [
      " 44%|████▍     | 176/400 [5:57:12<7:23:05, 118.69s/it]"
     ]
    },
    {
     "name": "stdout",
     "output_type": "stream",
     "text": [
      "1/1 [==============================] - 0s 33ms/step\n",
      "26150/26150 [==============================] - 103s 4ms/step\n"
     ]
    },
    {
     "name": "stderr",
     "output_type": "stream",
     "text": [
      " 44%|████▍     | 177/400 [5:59:10<7:20:24, 118.50s/it]"
     ]
    },
    {
     "name": "stdout",
     "output_type": "stream",
     "text": [
      "1/1 [==============================] - 0s 36ms/step\n",
      "26150/26150 [==============================] - 105s 4ms/step\n"
     ]
    },
    {
     "name": "stderr",
     "output_type": "stream",
     "text": [
      " 44%|████▍     | 178/400 [6:01:10<7:20:21, 119.02s/it]"
     ]
    },
    {
     "name": "stdout",
     "output_type": "stream",
     "text": [
      "1/1 [==============================] - 0s 47ms/step\n",
      "26150/26150 [==============================] - 103s 4ms/step\n"
     ]
    },
    {
     "name": "stderr",
     "output_type": "stream",
     "text": [
      " 45%|████▍     | 179/400 [6:03:08<7:16:22, 118.47s/it]"
     ]
    },
    {
     "name": "stdout",
     "output_type": "stream",
     "text": [
      "1/1 [==============================] - 0s 35ms/step\n",
      "26150/26150 [==============================] - 104s 4ms/step\n"
     ]
    },
    {
     "name": "stderr",
     "output_type": "stream",
     "text": [
      " 45%|████▌     | 180/400 [6:05:08<7:15:54, 118.88s/it]"
     ]
    },
    {
     "name": "stdout",
     "output_type": "stream",
     "text": [
      "1/1 [==============================] - 0s 30ms/step\n",
      "26150/26150 [==============================] - 100s 4ms/step\n"
     ]
    },
    {
     "name": "stderr",
     "output_type": "stream",
     "text": [
      " 45%|████▌     | 181/400 [6:07:04<7:10:47, 118.02s/it]"
     ]
    },
    {
     "name": "stdout",
     "output_type": "stream",
     "text": [
      "1/1 [==============================] - 0s 33ms/step\n",
      "26150/26150 [==============================] - 106s 4ms/step\n"
     ]
    },
    {
     "name": "stderr",
     "output_type": "stream",
     "text": [
      " 46%|████▌     | 182/400 [6:09:05<7:12:21, 119.00s/it]"
     ]
    },
    {
     "name": "stdout",
     "output_type": "stream",
     "text": [
      "1/1 [==============================] - 0s 30ms/step\n",
      "26150/26150 [==============================] - 102s 4ms/step\n"
     ]
    },
    {
     "name": "stderr",
     "output_type": "stream",
     "text": [
      " 46%|████▌     | 183/400 [6:11:03<7:09:17, 118.70s/it]"
     ]
    },
    {
     "name": "stdout",
     "output_type": "stream",
     "text": [
      "1/1 [==============================] - 0s 36ms/step\n",
      "26150/26150 [==============================] - 104s 4ms/step\n"
     ]
    },
    {
     "name": "stderr",
     "output_type": "stream",
     "text": [
      " 46%|████▌     | 184/400 [6:13:02<7:07:18, 118.69s/it]"
     ]
    },
    {
     "name": "stdout",
     "output_type": "stream",
     "text": [
      "1/1 [==============================] - 0s 32ms/step\n",
      "26150/26150 [==============================] - 106s 4ms/step\n"
     ]
    },
    {
     "name": "stderr",
     "output_type": "stream",
     "text": [
      " 46%|████▋     | 185/400 [6:15:03<7:08:11, 119.49s/it]"
     ]
    },
    {
     "name": "stdout",
     "output_type": "stream",
     "text": [
      "1/1 [==============================] - 0s 31ms/step\n",
      "26150/26150 [==============================] - 106s 4ms/step\n"
     ]
    },
    {
     "name": "stderr",
     "output_type": "stream",
     "text": [
      " 46%|████▋     | 186/400 [6:17:05<7:08:51, 120.24s/it]"
     ]
    },
    {
     "name": "stdout",
     "output_type": "stream",
     "text": [
      "1/1 [==============================] - 0s 46ms/step\n",
      "26150/26150 [==============================] - 105s 4ms/step\n"
     ]
    },
    {
     "name": "stderr",
     "output_type": "stream",
     "text": [
      " 47%|████▋     | 187/400 [6:19:06<7:08:01, 120.57s/it]"
     ]
    },
    {
     "name": "stdout",
     "output_type": "stream",
     "text": [
      "1/1 [==============================] - 0s 30ms/step\n",
      "26150/26150 [==============================] - 107s 4ms/step\n"
     ]
    },
    {
     "name": "stderr",
     "output_type": "stream",
     "text": [
      " 47%|████▋     | 188/400 [6:21:09<7:08:39, 121.32s/it]"
     ]
    },
    {
     "name": "stdout",
     "output_type": "stream",
     "text": [
      "1/1 [==============================] - 0s 33ms/step\n",
      "26150/26150 [==============================] - 103s 4ms/step\n"
     ]
    },
    {
     "name": "stderr",
     "output_type": "stream",
     "text": [
      " 47%|████▋     | 189/400 [6:23:07<7:02:51, 120.24s/it]"
     ]
    },
    {
     "name": "stdout",
     "output_type": "stream",
     "text": [
      "1/1 [==============================] - 0s 30ms/step\n",
      "26150/26150 [==============================] - 107s 4ms/step\n"
     ]
    },
    {
     "name": "stderr",
     "output_type": "stream",
     "text": [
      " 48%|████▊     | 190/400 [6:25:10<7:03:37, 121.04s/it]"
     ]
    },
    {
     "name": "stdout",
     "output_type": "stream",
     "text": [
      "1/1 [==============================] - 0s 31ms/step\n",
      "26150/26150 [==============================] - 102s 4ms/step\n"
     ]
    },
    {
     "name": "stderr",
     "output_type": "stream",
     "text": [
      " 48%|████▊     | 191/400 [6:27:08<6:58:25, 120.12s/it]"
     ]
    },
    {
     "name": "stdout",
     "output_type": "stream",
     "text": [
      "1/1 [==============================] - 0s 29ms/step\n",
      "26150/26150 [==============================] - 108s 4ms/step\n"
     ]
    },
    {
     "name": "stderr",
     "output_type": "stream",
     "text": [
      " 48%|████▊     | 192/400 [6:29:10<6:58:56, 120.85s/it]"
     ]
    },
    {
     "name": "stdout",
     "output_type": "stream",
     "text": [
      "1/1 [==============================] - 0s 36ms/step\n",
      "26150/26150 [==============================] - 104s 4ms/step\n"
     ]
    },
    {
     "name": "stderr",
     "output_type": "stream",
     "text": [
      " 48%|████▊     | 193/400 [6:31:10<6:55:37, 120.47s/it]"
     ]
    },
    {
     "name": "stdout",
     "output_type": "stream",
     "text": [
      "1/1 [==============================] - 0s 44ms/step\n",
      "26150/26150 [==============================] - 105s 4ms/step\n"
     ]
    },
    {
     "name": "stderr",
     "output_type": "stream",
     "text": [
      " 48%|████▊     | 194/400 [6:33:10<6:52:57, 120.28s/it]"
     ]
    },
    {
     "name": "stdout",
     "output_type": "stream",
     "text": [
      "1/1 [==============================] - 0s 33ms/step\n",
      "26150/26150 [==============================] - 104s 4ms/step\n"
     ]
    },
    {
     "name": "stderr",
     "output_type": "stream",
     "text": [
      " 49%|████▉     | 195/400 [6:35:09<6:50:19, 120.09s/it]"
     ]
    },
    {
     "name": "stdout",
     "output_type": "stream",
     "text": [
      "1/1 [==============================] - 0s 31ms/step\n",
      "26150/26150 [==============================] - 105s 4ms/step\n"
     ]
    },
    {
     "name": "stderr",
     "output_type": "stream",
     "text": [
      " 49%|████▉     | 196/400 [6:37:10<6:48:41, 120.20s/it]"
     ]
    },
    {
     "name": "stdout",
     "output_type": "stream",
     "text": [
      "1/1 [==============================] - 0s 45ms/step\n",
      "26150/26150 [==============================] - 104s 4ms/step\n"
     ]
    },
    {
     "name": "stderr",
     "output_type": "stream",
     "text": [
      " 49%|████▉     | 197/400 [6:39:09<6:45:33, 119.87s/it]"
     ]
    },
    {
     "name": "stdout",
     "output_type": "stream",
     "text": [
      "1/1 [==============================] - 0s 34ms/step\n",
      "26150/26150 [==============================] - 105s 4ms/step\n"
     ]
    },
    {
     "name": "stderr",
     "output_type": "stream",
     "text": [
      " 50%|████▉     | 198/400 [6:41:10<6:44:49, 120.25s/it]"
     ]
    },
    {
     "name": "stdout",
     "output_type": "stream",
     "text": [
      "1/1 [==============================] - 0s 31ms/step\n",
      "13393/26150 [==============>...............] - ETA: 56s"
     ]
    }
   ],
   "source": [
    "import shap\n",
    "from sklearn.naive_bayes import CategoricalNB\n",
    "\n",
    "explainer = shap.KernelExplainer(model.predict, X_test[:400])\n",
    "shap_values = explainer.shap_values(X_test[:400])\n",
    "shap_values = shap_values.squeeze()\n",
    "# print(shap_values)\n",
    "# shap.summary_plot(shap_values,X_test[:10],feature_names = features,plot_type=\"bar\", plot_size=(20,15),show=False)\n",
    "# print(shap_values.shape)\n",
    "shap.summary_plot(shap_values[:,:,0],X_test[:400],feature_names = features, plot_size=(20,15),show=False)"
   ]
  },
  {
   "cell_type": "code",
   "execution_count": null,
   "metadata": {},
   "outputs": [
    {
     "data": {
      "image/png": "[encoded data removed]",
      "text/plain": [
       "<Figure size 2000x1500 with 1 Axes>"
      ]
     },
     "metadata": {},
     "output_type": "display_data"
    }
   ],
   "source": [
    "shap.summary_plot(shap_values[:,:,0],X_test[:400],feature_names = features,plot_type=\"bar\", plot_size=(20,15),show=False)"
   ]
  }
 ],
 "metadata": {
  "kernelspec": {
   "display_name": "Python 3",
   "language": "python",
   "name": "python3"
  },
  "language_info": {
   "codemirror_mode": {
    "name": "ipython",
    "version": 3
   },
   "file_extension": ".py",
   "mimetype": "text/x-python",
   "name": "python",
   "nbconvert_exporter": "python",
   "pygments_lexer": "ipython3",
   "version": "3.9.0"
  }
 },
 "nbformat": 4,
 "nbformat_minor": 2
}
