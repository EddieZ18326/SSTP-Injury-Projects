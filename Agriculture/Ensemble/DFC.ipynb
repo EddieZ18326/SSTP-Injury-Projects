{
 "cells": [
  {
   "cell_type": "code",
   "execution_count": 1,
   "metadata": {},
   "outputs": [
    {
     "name": "stdout",
     "output_type": "stream",
     "text": [
      "      0   1   2   3   4   5   6   7   8   9   10  11  12  13  14\n",
      "0      3   2   2  25  26   9   0   0   0   0   0   0   0   0   0\n",
      "1      3   3   1  61  17   9   0   0   0   0   0   0   0   0   0\n",
      "2      3   3   1  65  16   9   0   0   0   0   0   0   0   0   0\n",
      "3      3   2   1  49  17   9   0   0   0   0   1   0   0   0   0\n",
      "4      3   1   1  59  28   9   0   0   0   0   0   0   0   0   0\n",
      "...   ..  ..  ..  ..  ..  ..  ..  ..  ..  ..  ..  ..  ..  ..  ..\n",
      "2416   1   1   1  50  25   9   0   0   0   0   0   0   0   0   0\n",
      "2417   1   2   1  58  49   8   0   0   0   0   0   0   0   0   0\n",
      "2418   1   2   1   3  36   9   0   0   0   0   0   0   0   0   0\n",
      "2419   3   2   2  48  40   9   0   0   0   0   0   0   0   0   0\n",
      "2420   1   1   1  81  37   7   0   0   0   0   0   0   0   0   0\n",
      "\n",
      "[2421 rows x 15 columns]\n",
      "      0\n",
      "0     0\n",
      "1     1\n",
      "2     1\n",
      "3     0\n",
      "4     1\n",
      "...  ..\n",
      "2416  1\n",
      "2417  0\n",
      "2418  1\n",
      "2419  0\n",
      "2420  1\n",
      "\n",
      "[2421 rows x 1 columns]\n",
      "(1936, 15)\n",
      "(1936, 1)\n",
      "Index(['Location of Incident', 'Time', 'Sex', 'Age', 'State', 'Injury Agent ',\n",
      "       'Confined Space', 'Grain Involved', 'Drowning/Suffocation',\n",
      "       'Alcohol/Drugs', 'Seatbelt', 'Helmet', 'ROPS', 'Agritourism',\n",
      "       'Other PPE'],\n",
      "      dtype='object')\n"
     ]
    }
   ],
   "source": [
    "import numpy as np\n",
    "import matplotlib\n",
    "import pandas as pd\n",
    "from sklearn.model_selection import train_test_split\n",
    "\n",
    "\n",
    "dataset = pd.read_csv('/Users/wzhang/Downloads/Agriculture Data.xlsx - Sheet1 (1).csv')\n",
    "\n",
    "X = pd.DataFrame(dataset.iloc[:,0:15].values)\n",
    "Y = pd.DataFrame(dataset.iloc[:,15:].values)\n",
    "print(X)\n",
    "print(Y)\n",
    "X_train, X_test, Y_train, Y_test = train_test_split(X, Y, test_size=0.2)\n",
    "from sklearn.preprocessing import MinMaxScaler\n",
    "scaler = MinMaxScaler()\n",
    "X_train = scaler.fit_transform(X_train)\n",
    "X_test = scaler.transform(X_test)\n",
    "\n",
    "print(X_train.shape)\n",
    "print(Y_train.shape)\n",
    "\n",
    "features = pd.DataFrame(dataset.iloc[:,0:15])\n",
    "features = features.columns\n",
    "print(features)"
   ]
  },
  {
   "cell_type": "code",
   "execution_count": 2,
   "metadata": {},
   "outputs": [
    {
     "name": "stderr",
     "output_type": "stream",
     "text": [
      "2024-07-22 14:23:56.751065: I tensorflow/core/platform/cpu_feature_guard.cc:210] This TensorFlow binary is optimized to use available CPU instructions in performance-critical operations.\n",
      "To enable the following instructions: AVX2 FMA, in other operations, rebuild TensorFlow with the appropriate compiler flags.\n"
     ]
    }
   ],
   "source": [
    "from keras.models import Sequential, Model\n",
    "from tensorflow.keras.layers import LSTM, Dropout, Dense, BatchNormalization, GRU, LayerNormalization, MultiHeadAttention,TimeDistributed, Input, Flatten\n",
    "from sklearn.ensemble import RandomForestRegressor\n",
    "from deepforest import CascadeForestClassifier "
   ]
  },
  {
   "cell_type": "code",
   "execution_count": 3,
   "metadata": {},
   "outputs": [
    {
     "name": "stderr",
     "output_type": "stream",
     "text": [
      "/Library/Frameworks/Python.framework/Versions/3.9/lib/python3.9/site-packages/sklearn/utils/validation.py:1300: DataConversionWarning: A column-vector y was passed when a 1d array was expected. Please change the shape of y to (n_samples, ), for example using ravel().\n",
      "  y = column_or_1d(y, warn=True)\n"
     ]
    },
    {
     "name": "stdout",
     "output_type": "stream",
     "text": [
      "[2024-07-22 19:23:59.624] Start to fit the model:\n",
      "[2024-07-22 19:23:59.624] Fitting cascade layer = 0 \n",
      "[2024-07-22 19:24:04.064] layer = 0  | Val Acc = 63.791 % | Elapsed = 4.440 s\n",
      "[2024-07-22 19:24:04.089] Fitting cascade layer = 1 \n",
      "[2024-07-22 19:24:13.088] layer = 1  | Val Acc = 68.802 % | Elapsed = 8.999 s\n",
      "[2024-07-22 19:24:13.120] Fitting cascade layer = 2 \n",
      "[2024-07-22 19:24:21.268] layer = 2  | Val Acc = 68.698 % | Elapsed = 8.147 s\n",
      "[2024-07-22 19:24:21.268] Early stopping counter: 1 out of 2\n",
      "[2024-07-22 19:24:21.293] Fitting cascade layer = 3 \n",
      "[2024-07-22 19:24:29.579] layer = 3  | Val Acc = 68.182 % | Elapsed = 8.286 s\n",
      "[2024-07-22 19:24:29.579] Early stopping counter: 2 out of 2\n",
      "[2024-07-22 19:24:29.579] Handling early stopping\n",
      "[2024-07-22 19:24:29.585] The optimal number of layers: 2\n"
     ]
    }
   ],
   "source": [
    "model = CascadeForestClassifier(n_estimators=10)\n",
    "model.fit(X_train, Y_train)"
   ]
  },
  {
   "cell_type": "code",
   "execution_count": 4,
   "metadata": {},
   "outputs": [
    {
     "name": "stdout",
     "output_type": "stream",
     "text": [
      "[2024-07-22 19:24:29.601] Start to evalute the model:\n",
      "[2024-07-22 19:24:29.601] Evaluating cascade layer = 0 \n",
      "[2024-07-22 19:24:29.768] Evaluating cascade layer = 1 \n",
      "[1 1 1 1 1 1 1 1 1 1 1 1 1 1 1 1 1 1 1 1 1 1 1 1 1 1 1 1 1 1 1 1 1 1 1 1 1\n",
      " 1 1 1 1 1 1 1 1 1 1 1 1 1 1 1 1 1 1 1 1 1 1 1 1 1 1 0 1 1 1 1 1 1 1 0 1 1\n",
      " 1 1 0 1 1 1 0 1 1 1 1 1 1 1 1 1 1 1 1 1 1 1 1 1 0 0 1 1 1 1 1 1 1 1 1 1 1\n",
      " 1 1 1 1 1 1 1 1 1 1 1 1 1 1 1 1 1 1 1 1 1 1 0 1 1 1 1 1 1 1 1 1 1 1 1 1 1\n",
      " 1 1 1 1 1 1 1 1 1 1 1 1 1 1 1 1 1 1 1 1 1 1 1 1 1 1 1 1 1 1 1 1 1 1 1 0 1\n",
      " 1 1 1 1 1 1 1 0 1 1 1 1 1 1 1 1 1 1 1 1 1 1 1 1 1 1 1 1 1 1 1 1 1 1 1 1 1\n",
      " 1 1 1 1 1 1 1 1 1 1 1 1 1 1 1 1 1 1 0 1 1 1 1 1 1 1 1 1 1 1 1 1 1 1 1 1 1\n",
      " 1 1 1 1 1 1 1 1 1 1 1 1 1 1 1 1 1 1 1 1 1 1 1 1 1 0 1 1 1 1 1 1 1 1 1 1 1\n",
      " 1 1 1 1 1 1 1 1 1 1 1 1 1 0 1 1 1 1 1 1 1 1 0 1 1 1 1 1 1 1 1 1 1 1 1 1 1\n",
      " 1 1 1 1 1 1 1 1 1 1 1 1 1 1 1 1 1 1 1 1 1 1 1 1 1 1 1 1 1 1 1 1 1 1 1 1 1\n",
      " 1 1 1 1 1 0 1 1 1 1 1 1 1 1 1 1 1 1 1 1 1 1 1 1 1 1 1 1 1 1 1 1 1 1 1 1 1\n",
      " 1 1 1 1 1 1 1 1 1 1 1 0 1 0 1 1 1 1 1 1 1 1 1 1 1 1 1 1 1 1 1 0 1 1 1 1 1\n",
      " 1 1 1 1 1 1 1 1 1 1 1 1 1 1 1 1 1 1 1 1 1 1 1 1 1 1 0 1 1 1 1 1 1 0 1 1 1\n",
      " 1 1 1 1]\n",
      "      0\n",
      "1652  1\n",
      "2132  1\n",
      "1502  1\n",
      "2169  1\n",
      "2175  1\n",
      "...  ..\n",
      "867   1\n",
      "1791  1\n",
      "1873  0\n",
      "772   1\n",
      "2057  0\n",
      "\n",
      "[485 rows x 1 columns]\n",
      "0.7422680412371134\n",
      "              precision    recall  f1-score   support\n",
      "\n",
      "           0   0.473684  0.072581  0.125874       124\n",
      "           1   0.753219  0.972299  0.848851       361\n",
      "\n",
      "    accuracy                       0.742268       485\n",
      "   macro avg   0.613452  0.522440  0.487363       485\n",
      "weighted avg   0.681750  0.742268  0.664008       485\n",
      "\n"
     ]
    }
   ],
   "source": [
    "res = model.predict(X_test)\n",
    "print(res)\n",
    "print(Y_test)\n",
    "from sklearn.metrics import accuracy_score\n",
    "accuracy = accuracy_score(Y_test,res)\n",
    "print(accuracy)\n",
    "from sklearn.metrics import classification_report\n",
    "print(classification_report(Y_test,res,digits=6))"
   ]
  }
 ],
 "metadata": {
  "kernelspec": {
   "display_name": "Python 3",
   "language": "python",
   "name": "python3"
  },
  "language_info": {
   "codemirror_mode": {
    "name": "ipython",
    "version": 3
   },
   "file_extension": ".py",
   "mimetype": "text/x-python",
   "name": "python",
   "nbconvert_exporter": "python",
   "pygments_lexer": "ipython3",
   "version": "3.9.13"
  }
 },
 "nbformat": 4,
 "nbformat_minor": 2
}
