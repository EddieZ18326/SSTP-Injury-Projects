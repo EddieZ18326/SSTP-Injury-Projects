{
 "cells": [
  {
   "cell_type": "code",
   "execution_count": 128,
   "metadata": {},
   "outputs": [],
   "source": [
    "import pandas as pd\n",
    "import matplotlib\n"
   ]
  },
  {
   "cell_type": "code",
   "execution_count": 129,
   "metadata": {},
   "outputs": [],
   "source": [
    "import glob"
   ]
  },
  {
   "cell_type": "code",
   "execution_count": 130,
   "metadata": {},
   "outputs": [],
   "source": [
    "files = glob.glob('/Users/wzhang/Documents/1975-1998/*.csv')"
   ]
  },
  {
   "cell_type": "code",
   "execution_count": 131,
   "metadata": {},
   "outputs": [
    {
     "name": "stdout",
     "output_type": "stream",
     "text": [
      "['/Users/wzhang/Documents/1975-1998/1991 - 1992 PERSON.csv', '/Users/wzhang/Documents/1975-1998/1975 - 1981 PERSON.csv', '/Users/wzhang/Documents/1975-1998/1982 - 1986 PERSON.csv', '/Users/wzhang/Documents/1975-1998/1993-1998 PERSON.csv', '/Users/wzhang/Documents/1975-1998/1987 - 1990 PERSON.csv']\n",
      "5\n"
     ]
    }
   ],
   "source": [
    "print(files)\n",
    "print(len(files))"
   ]
  },
  {
   "cell_type": "code",
   "execution_count": 132,
   "metadata": {},
   "outputs": [
    {
     "name": "stdout",
     "output_type": "stream",
     "text": [
      "[        STATE  COUNTY  MONTH  DAY  HOUR  MINUTE  VE_FORMS  ROAD_FNC  HARM_EV  \\\n",
      "0           1      73      1    1     4      48         1        14       30   \n",
      "1           1      73      1    1     1      45         1         4        1   \n",
      "2           1      89      1    1    21      30         3        13       13   \n",
      "3           1      89      1    1    21      30         3        13       13   \n",
      "4           1      89      1    1    21      30         3        13       13   \n",
      "...       ...     ...    ...  ...   ...     ...       ...       ...      ...   \n",
      "195055     56      37     11   23    19       0         1         4        5   \n",
      "195056     56      17     12   27     5      30         1         2       24   \n",
      "195057     56      17     12   27     5      30         1         2       24   \n",
      "195058     56       1     12   23    17      35         1         4       31   \n",
      "195059     56      37     12   31    22      50         1        14       19   \n",
      "\n",
      "        MAN_COLL  ...  VINA_MOD  VIN_BT  REST_USE  AIR_BAG  EJ_PATH  DRUGS  \\\n",
      "0              0  ...       CII      4H         0        9        0      9   \n",
      "1              0  ...       SC1      PC         9        9        9      9   \n",
      "2              4  ...       CHS      4H         9        9        0      9   \n",
      "3              4  ...       CHS      4H         9        9        0      8   \n",
      "4              4  ...       CVI      SW         3        9        0      0   \n",
      "...          ...  ...       ...     ...       ...      ...      ...    ...   \n",
      "195055         0  ...       SK1      PK         0        9        0      8   \n",
      "195056         0  ...       W15      PK         0        9        0      8   \n",
      "195057         0  ...       W15      PK         0        9        0      8   \n",
      "195058         0  ...       MLS      UT         0        9        3      8   \n",
      "195059         0  ...       8Z2      CP         0        9        0      8   \n",
      "\n",
      "        DRUG_DET  DRUGTEST  DRUG_RES  ALC_RES  \n",
      "0              8         0         0       96  \n",
      "1              8         0         0       96  \n",
      "2              8         0         0       96  \n",
      "3              8         0         0       96  \n",
      "4              8         0         0        0  \n",
      "...          ...       ...       ...      ...  \n",
      "195055         8         1        97       31  \n",
      "195056         8         0         0        0  \n",
      "195057         8         0         0       96  \n",
      "195058         8         0         0       96  \n",
      "195059         8         0         0       26  \n",
      "\n",
      "[195060 rows x 66 columns],         STATE  COUNTY  MONTH  DAY  HOUR  MINUTE  VE_FORMS  ROAD_FNC  HARM_EV  \\\n",
      "0           1      73      1    6    17      30         2       6.0       12   \n",
      "1           1      73      1    6    17      30         2       6.0       12   \n",
      "2           1     129      1    2    18      10         1       3.0       27   \n",
      "3           1     129      1    2    18      10         1       3.0       27   \n",
      "4           1     129      1    2    18      10         1       3.0       27   \n",
      "...       ...     ...    ...  ...   ...     ...       ...       ...      ...   \n",
      "777396     56      21     12   29    17      54         2       NaN       12   \n",
      "777397     56      21     12   29    17      54         2       NaN       12   \n",
      "777398     56      21     12   29    17      54         2       NaN       12   \n",
      "777399     56      19     12   30    19      50         1       NaN        5   \n",
      "777400     56      19     12   30    19      50         1       NaN        5   \n",
      "\n",
      "        MAN_COLL  ...  P_CF3  ST_CASE  MAK_MOD  VIN_WGT  WHLBS_SH  WHLBS_LG  \\\n",
      "0              2  ...      0    10001   2102.0   3471.0    1160.0       0.0   \n",
      "1              2  ...      0    10001   2001.0   3000.0    1100.0    1150.0   \n",
      "2              0  ...      0    10002   1206.0   4190.0    1210.0       0.0   \n",
      "3              0  ...      0    10002   1206.0   4190.0    1210.0       0.0   \n",
      "4              0  ...      0    10002   1206.0   4190.0    1210.0       0.0   \n",
      "...          ...  ...    ...      ...      ...      ...       ...       ...   \n",
      "777396         2  ...      0   560171   3002.0   1698.0     945.0       0.0   \n",
      "777397         2  ...      0   560171   3002.0   1698.0     945.0       0.0   \n",
      "777398         2  ...      0   560171   1210.0   3709.0    1140.0    1180.0   \n",
      "777399         0  ...      0   560172   2202.0   3735.0    1210.0       0.0   \n",
      "777400         0  ...      0   560172   2202.0   3735.0    1210.0       0.0   \n",
      "\n",
      "        MCYCL_DS  DEATH_TM  VINA_MOD  SER_TR  \n",
      "0            NaN       NaN       ROY     ***  \n",
      "1            NaN       NaN       MAL     ***  \n",
      "2            NaN       NaN       LTD     ***  \n",
      "3            NaN       NaN       LTD     ***  \n",
      "4            NaN       NaN       LTD     ***  \n",
      "...          ...       ...       ...     ...  \n",
      "777396       NaN    1754.0       TP1     ***  \n",
      "777397       NaN    1754.0       TP1     ***  \n",
      "777398       NaN       0.0       TOR     ***  \n",
      "777399       NaN       0.0       CAT     ***  \n",
      "777400       NaN       0.0       CAT     ***  \n",
      "\n",
      "[777401 rows x 57 columns],         STATE  COUNTY  MONTH  DAY  HOUR  MINUTE  VE_FORMS  ROAD_FNC  HARM_EV  \\\n",
      "0           1      89      1    2    22      35         1         8        8   \n",
      "1           1      89      1    2    22      35         1         8        8   \n",
      "2           1     101      1    4     2      15         2         3       24   \n",
      "3           1     101      1    4     2      15         2         3       24   \n",
      "4           1     101      1    4     2      15         2         3       24   \n",
      "...       ...     ...    ...  ...   ...     ...       ...       ...      ...   \n",
      "517897     56      23     12   21     8      30         2         3       12   \n",
      "517898     56      23     12   21     8      30         2         3       12   \n",
      "517899     56      23     12   21     8      30         2         3       12   \n",
      "517900     56      31     12   25    19      45         1         7        1   \n",
      "517901     56      31     12   25    19      45         1         7        1   \n",
      "\n",
      "        MAN_COLL  ...  ST_CASE  MAK_MOD  VIN_WGT  WHLBS_SH  WHLBS_LG  \\\n",
      "0              0  ...    10001      NaN      NaN       NaN       NaN   \n",
      "1              0  ...    10001   3732.0   2070.0     965.0       0.0   \n",
      "2              0  ...    10002   2101.0   3694.0    1120.0    1160.0   \n",
      "3              0  ...    10002   2101.0   3694.0    1120.0    1160.0   \n",
      "4              0  ...    10002   4972.0      NaN       NaN       NaN   \n",
      "...          ...  ...      ...      ...      ...       ...       ...   \n",
      "517897         2  ...   560173   2102.0   3444.0    1160.0       0.0   \n",
      "517898         2  ...   560173   2102.0   3444.0    1160.0       0.0   \n",
      "517899         2  ...   560173   2102.0   3444.0    1160.0       0.0   \n",
      "517900         0  ...   560174    734.0   1810.0     906.0       0.0   \n",
      "517901         0  ...   560174    734.0   1810.0     906.0       0.0   \n",
      "\n",
      "        MCYCL_DS  DEATH_TM  VINA_MOD  SER_TR  VIN_BT  \n",
      "0            NaN      9999       NaN     NaN     NaN  \n",
      "1            NaN         0       ACC     ***      4D  \n",
      "2            NaN       230       CSU     ***      2T  \n",
      "3            NaN         0       CSU     ***      2T  \n",
      "4            NaN         0       N44     HTP      PK  \n",
      "...          ...       ...       ...     ...     ...  \n",
      "517897       NaN         0       ROY     ***      CP  \n",
      "517898       NaN         0       ROY     ***      CP  \n",
      "517899       NaN         0       ROY     ***      CP  \n",
      "517900       NaN         0       CLT     ***      2H  \n",
      "517901       NaN      1945       CLT     ***      2H  \n",
      "\n",
      "[517902 rows x 59 columns],         STATE  COUNTY  MONTH  DAY  HOUR  MINUTE  VE_FORMS  ROAD_FNC  HARM_EV  \\\n",
      "0           1      49      1    1    21      32         2         4       12   \n",
      "1           1      49      1    1    21      32         2         4       12   \n",
      "2           1      49      1    1    21      32         2         4       12   \n",
      "3           1     113      1    1    15      55         1         6       34   \n",
      "4           1     113      1    1    15      55         1         6       34   \n",
      "...       ...     ...    ...  ...   ...     ...       ...       ...      ...   \n",
      "605275     56      25     12   10    20      35         2        13       12   \n",
      "605276     56      35     12   18    21      50         2         3       12   \n",
      "605277     56      35     12   18    21      50         2         3       12   \n",
      "605278     56      35     12   18    21      50         2         3       12   \n",
      "605279     56      35     12   31    20       0         1         3       31   \n",
      "\n",
      "        MAN_COLL  ...  EJ_PATH  ALC_RES  DRUGS  DRUG_DET  DRUGTST1  DRUGRES1  \\\n",
      "0              2  ...        0       21      9         8         1         1   \n",
      "1              2  ...        0       96      0         8         0         0   \n",
      "2              2  ...        0       96      0         8         0         0   \n",
      "3              0  ...        0       96      0         8         0         0   \n",
      "4              0  ...        0       96      8         8         0         0   \n",
      "...          ...  ...      ...      ...    ...       ...       ...       ...   \n",
      "605275         1  ...        0       96      8         8         0         0   \n",
      "605276         2  ...        0       40      8         8         0         0   \n",
      "605277         2  ...        0        0      8         8         0         0   \n",
      "605278         2  ...        0       96      8         8         0         0   \n",
      "605279         0  ...        2       23      8         8         3       997   \n",
      "\n",
      "        DRUGTST2  DRUGRES2  DRUGTST3  DRUGRES3  \n",
      "0              0         0         0         0  \n",
      "1              0         0         0         0  \n",
      "2              0         0         0         0  \n",
      "3              0         0         0         0  \n",
      "4              0         0         0         0  \n",
      "...          ...       ...       ...       ...  \n",
      "605275         0         0         0         0  \n",
      "605276         0         0         0         0  \n",
      "605277         0         0         0         0  \n",
      "605278         0         0         0         0  \n",
      "605279         0         0         0         0  \n",
      "\n",
      "[605280 rows x 70 columns],         STATE  COUNTY  MONTH  DAY  HOUR  MINUTE  VE_FORMS  ROAD_FNC  HARM_EV  \\\n",
      "0           1     117      1    7     6      45         1         1       42   \n",
      "1           1     125      1    1     1      38         1         6       30   \n",
      "2           1     125      1    1     1      38         1         6       30   \n",
      "3           1      97      1    3    17      30         2        13       12   \n",
      "4           1      97      1    3    17      30         2        13       12   \n",
      "...       ...     ...    ...  ...   ...     ...       ...       ...      ...   \n",
      "442053     56       1      3   28    23      15         2         1       23   \n",
      "442054     56       1      3   28    23      15         2         1       23   \n",
      "442055     56       1      3   28    23      15         2         1       23   \n",
      "442056     56       1      3   28    23      15         2         1       23   \n",
      "442057     56       1      3   28    23      15         2         1       23   \n",
      "\n",
      "        MAN_COLL  ...  ST_CASE  MAK_MOD  VIN_WGT  WHLBS_SH  WHLBS_LG  \\\n",
      "0              0  ...    10001   2209.0   3189.0    1010.0       0.0   \n",
      "1              0  ...    10002   2009.0   3305.0    1080.0       0.0   \n",
      "2              0  ...    10002   2009.0   3305.0    1080.0       0.0   \n",
      "3              4  ...    10003   8284.0      NaN       NaN       NaN   \n",
      "4              4  ...    10003   2002.0   3326.0    1160.0       0.0   \n",
      "...          ...  ...      ...      ...      ...       ...       ...   \n",
      "442053         0  ...   560114    107.0   2900.0    1080.0       0.0   \n",
      "442054         0  ...   560114    107.0   2900.0    1080.0       0.0   \n",
      "442055         0  ...   560114    107.0   2900.0    1080.0       0.0   \n",
      "442056         0  ...   560114   8284.0      NaN       NaN       NaN   \n",
      "442057         0  ...   560114   8284.0      NaN       NaN       NaN   \n",
      "\n",
      "        MCYCL_DS  DEATH_TM  SER_TR  VINA_MOD  VIN_BT  \n",
      "0            NaN       645     ***       FAM      2H  \n",
      "1            NaN       245     ***       CAM      CP  \n",
      "2            NaN         0     ***       CAM      CP  \n",
      "3            NaN         0     CON       FC2      DS  \n",
      "4            NaN      1950     ***       IMP      4D  \n",
      "...          ...       ...     ...       ...     ...  \n",
      "442053       NaN         0     ***       SPO      SW  \n",
      "442054       NaN      2315     ***       SPO      SW  \n",
      "442055       NaN         0     ***       SPO      SW  \n",
      "442056       NaN         0     CON       FLC      DS  \n",
      "442057       NaN         0     CON       FLC      DS  \n",
      "\n",
      "[442058 rows x 62 columns]]\n"
     ]
    }
   ],
   "source": [
    "dfs = []\n",
    "for file in files:\n",
    "    df = pd.read_csv(file, encoding='latin-1', engine='python' ,on_bad_lines='skip')\n",
    "    dfs.append(df)\n",
    "print(dfs)\n"
   ]
  },
  {
   "cell_type": "code",
   "execution_count": 133,
   "metadata": {},
   "outputs": [],
   "source": [
    "for i in range(len(dfs)):\n",
    "    for column in  dfs[i].columns:\n",
    "        dfs[i][column] = dfs[i][column].astype(str)"
   ]
  },
  {
   "cell_type": "code",
   "execution_count": 134,
   "metadata": {},
   "outputs": [
    {
     "name": "stdout",
     "output_type": "stream",
     "text": [
      "Index(['STATE', 'COUNTY', 'MONTH', 'DAY', 'HOUR', 'MINUTE', 'VE_FORMS',\n",
      "       'ROAD_FNC', 'HARM_EV', 'MAN_COLL', 'SCH_BUS', 'VEH_NO', 'MAKE',\n",
      "       'BODY_TYP', 'MOD_YEAR', 'ROLLOVER', 'TOW_VEH', 'SPEC_USE', 'EMER_USE',\n",
      "       'IMPACT1', 'IMPACT2', 'IMPACTS', 'FIRE_EXP', 'WGTCD_TR', 'PER_NO',\n",
      "       'AGE', 'SEX', 'PER_TYP', 'SEAT_POS', 'MAN_REST', 'AUT_REST', 'LOCATION',\n",
      "       'EJECTION', 'EXTRICAT', 'DRINKING', 'TEST_RES', 'INJ_SEV', 'HOSPITAL',\n",
      "       'DEATH_MO', 'DEATH_DA', 'DEATH_YR', 'DEATH_HR', 'DEATH_MN', 'LAG_HRS',\n",
      "       'LAG_MINS', 'P_CF1', 'P_CF2', 'P_CF3', 'ST_CASE', 'MAK_MOD', 'VIN_WGT',\n",
      "       'WHLBS_SH', 'WHLBS_LG', 'MCYCL_DS', 'DEATH_TM', 'VINA_MOD', 'SER_TR'],\n",
      "      dtype='object')\n"
     ]
    }
   ],
   "source": [
    "print(dfs[1].columns)"
   ]
  },
  {
   "cell_type": "code",
   "execution_count": 135,
   "metadata": {},
   "outputs": [
    {
     "name": "stdout",
     "output_type": "stream",
     "text": [
      "Index(['STATE', 'COUNTY', 'MONTH', 'DAY', 'HOUR', 'MINUTE', 'VE_FORMS',\n",
      "       'ROAD_FNC', 'HARM_EV', 'MAN_COLL', 'SCH_BUS', 'VEH_NO', 'MAKE',\n",
      "       'BODY_TYP', 'ROLLOVER', 'TOW_VEH', 'SPEC_USE', 'EMER_USE', 'IMPACT1',\n",
      "       'IMPACT2', 'IMPACTS', 'FIRE_EXP', 'WGTCD_TR', 'PER_NO', 'AGE', 'SEX',\n",
      "       'PER_TYP', 'SEAT_POS', 'LOCATION', 'EJECTION', 'EXTRICAT', 'DRINKING',\n",
      "       'INJ_SEV', 'HOSPITAL', 'DEATH_MO', 'DEATH_DA', 'DEATH_YR', 'DEATH_HR',\n",
      "       'DEATH_MN', 'LAG_HRS', 'LAG_MINS', 'P_CF1', 'P_CF2', 'P_CF3', 'ST_CASE',\n",
      "       'MAK_MOD', 'VIN_WGT', 'WHLBS_SH', 'WHLBS_LG', 'MCYCL_DS', 'DEATH_TM',\n",
      "       'SER_TR', 'VINA_MOD'],\n",
      "      dtype='object')\n",
      "Index(['STATE', 'COUNTY', 'MONTH', 'DAY', 'HOUR', 'MINUTE', 'VE_FORMS',\n",
      "       'ROAD_FNC', 'HARM_EV', 'MAN_COLL', 'SCH_BUS', 'VEH_NO', 'MAKE',\n",
      "       'BODY_TYP', 'ROLLOVER', 'TOW_VEH', 'SPEC_USE', 'EMER_USE', 'IMPACT1',\n",
      "       'IMPACT2', 'IMPACTS', 'FIRE_EXP', 'WGTCD_TR', 'PER_NO', 'AGE', 'SEX',\n",
      "       'PER_TYP', 'SEAT_POS', 'LOCATION', 'EJECTION', 'EXTRICAT', 'DRINKING',\n",
      "       'INJ_SEV', 'HOSPITAL', 'DEATH_MO', 'DEATH_DA', 'DEATH_HR', 'DEATH_MN',\n",
      "       'LAG_HRS', 'LAG_MINS', 'P_CF1', 'P_CF2', 'P_CF3', 'ST_CASE', 'MAK_MOD',\n",
      "       'VIN_WGT', 'WHLBS_SH', 'WHLBS_LG', 'MCYCL_DS', 'DEATH_TM', 'SER_TR',\n",
      "       'VINA_MOD'],\n",
      "      dtype='object')\n",
      "52\n"
     ]
    }
   ],
   "source": [
    "common_columns = dfs[0].columns.intersection(dfs[1].columns)\n",
    "print(common_columns)\n",
    "common_columns = common_columns.intersection(dfs[2].columns)\n",
    "common_columns = common_columns.intersection(dfs[3].columns)\n",
    "common_columns = common_columns.intersection(dfs[4].columns)\n",
    "print(common_columns)\n",
    "print(len(common_columns))\n"
   ]
  },
  {
   "cell_type": "code",
   "execution_count": 136,
   "metadata": {},
   "outputs": [
    {
     "name": "stdout",
     "output_type": "stream",
     "text": [
      "66\n"
     ]
    }
   ],
   "source": [
    "print(len(dfs[0].columns))"
   ]
  },
  {
   "cell_type": "code",
   "execution_count": 137,
   "metadata": {},
   "outputs": [
    {
     "name": "stdout",
     "output_type": "stream",
     "text": [
      "14\n",
      "52\n",
      "5\n",
      "52\n",
      "7\n",
      "52\n",
      "18\n",
      "52\n",
      "10\n",
      "52\n"
     ]
    }
   ],
   "source": [
    "for i in range (len(dfs)):\n",
    "    column_drop = []\n",
    "    for column in dfs[i]:\n",
    "        # print(column)\n",
    "        if(column not in common_columns):\n",
    "            column_drop.append(column)\n",
    "    print(len(column_drop))\n",
    "    dfs[i].drop(columns = column_drop,axis = 1, inplace = True)\n",
    "    print(len(dfs[i].columns))"
   ]
  },
  {
   "cell_type": "code",
   "execution_count": 138,
   "metadata": {},
   "outputs": [
    {
     "name": "stdout",
     "output_type": "stream",
     "text": [
      "52\n",
      "52\n",
      "52\n",
      "       STATE COUNTY MONTH DAY HOUR MINUTE VE_FORMS ROAD_FNC HARM_EV MAN_COLL  \\\n",
      "0          1     73     1   1    4     48        1       14      30        0   \n",
      "1          1     73     1   1    1     45        1        4       1        0   \n",
      "2          1     89     1   1   21     30        3       13      13        4   \n",
      "3          1     89     1   1   21     30        3       13      13        4   \n",
      "4          1     89     1   1   21     30        3       13      13        4   \n",
      "...      ...    ...   ...  ..  ...    ...      ...      ...     ...      ...   \n",
      "195055    56     37    11  23   19      0        1        4       5        0   \n",
      "195056    56     17    12  27    5     30        1        2      24        0   \n",
      "195057    56     17    12  27    5     30        1        2      24        0   \n",
      "195058    56      1    12  23   17     35        1        4      31        0   \n",
      "195059    56     37    12  31   22     50        1       14      19        0   \n",
      "\n",
      "        ... P_CF3 ST_CASE  MAK_MOD VIN_WGT WHLBS_SH WHLBS_LG MCYCL_DS  \\\n",
      "0       ...     0   10001  20015.0  2429.0   1049.0      0.0      nan   \n",
      "1       ...     0   10002  23481.0     nan      nan      nan      nan   \n",
      "2       ...     0   10003  20013.0  2070.0    973.0      0.0      nan   \n",
      "3       ...     0   10003  20013.0  2070.0    973.0      0.0      nan   \n",
      "4       ...     0   10003  12006.0  3941.0   1143.0      0.0      nan   \n",
      "...     ...   ...     ...      ...     ...      ...      ...      ...   \n",
      "195055  ...     0  560104  23481.0     nan      nan      nan      nan   \n",
      "195056  ...     0  560105   7481.0     nan      nan      nan      nan   \n",
      "195057  ...     0  560105   7481.0     nan      nan      nan      nan   \n",
      "195058  ...     0  560106  52401.0     nan      nan      nan      nan   \n",
      "195059  ...     0  560107  35034.0  2870.0   1026.0      0.0      nan   \n",
      "\n",
      "       DEATH_TM SER_TR VINA_MOD  \n",
      "0           448    ***      CII  \n",
      "1           145    SIE      SC1  \n",
      "2          9999    ***      CHS  \n",
      "3             0    ***      CHS  \n",
      "4             0    ***      CVI  \n",
      "...         ...    ...      ...  \n",
      "195055     1955    SIE      SK1  \n",
      "195056      530    W15      W15  \n",
      "195057        0    W15      W15  \n",
      "195058     1743    MON      MLS  \n",
      "195059      443    ***      8Z2  \n",
      "\n",
      "[195060 rows x 52 columns]\n"
     ]
    }
   ],
   "source": [
    "print(len(dfs[0].columns))\n",
    "print(len(dfs[1].columns))\n",
    "print(len(dfs[2].columns))\n",
    "print(dfs[0])"
   ]
  },
  {
   "cell_type": "code",
   "execution_count": 139,
   "metadata": {},
   "outputs": [],
   "source": [
    "result_1 = pd.concat(dfs, join='inner', axis=0)"
   ]
  },
  {
   "cell_type": "code",
   "execution_count": 140,
   "metadata": {},
   "outputs": [
    {
     "name": "stdout",
     "output_type": "stream",
     "text": [
      "       STATE COUNTY MONTH DAY HOUR MINUTE VE_FORMS ROAD_FNC HARM_EV MAN_COLL  \\\n",
      "0          1     73     1   1    4     48        1       14      30        0   \n",
      "1          1     73     1   1    1     45        1        4       1        0   \n",
      "2          1     89     1   1   21     30        3       13      13        4   \n",
      "3          1     89     1   1   21     30        3       13      13        4   \n",
      "4          1     89     1   1   21     30        3       13      13        4   \n",
      "...      ...    ...   ...  ..  ...    ...      ...      ...     ...      ...   \n",
      "442053    56      1     3  28   23     15        2        1      23        0   \n",
      "442054    56      1     3  28   23     15        2        1      23        0   \n",
      "442055    56      1     3  28   23     15        2        1      23        0   \n",
      "442056    56      1     3  28   23     15        2        1      23        0   \n",
      "442057    56      1     3  28   23     15        2        1      23        0   \n",
      "\n",
      "        ... P_CF3 ST_CASE  MAK_MOD VIN_WGT WHLBS_SH WHLBS_LG MCYCL_DS  \\\n",
      "0       ...     0   10001  20015.0  2429.0   1049.0      0.0      nan   \n",
      "1       ...     0   10002  23481.0     nan      nan      nan      nan   \n",
      "2       ...     0   10003  20013.0  2070.0    973.0      0.0      nan   \n",
      "3       ...     0   10003  20013.0  2070.0    973.0      0.0      nan   \n",
      "4       ...     0   10003  12006.0  3941.0   1143.0      0.0      nan   \n",
      "...     ...   ...     ...      ...     ...      ...      ...      ...   \n",
      "442053  ...     0  560114    107.0  2900.0   1080.0      0.0      nan   \n",
      "442054  ...     0  560114    107.0  2900.0   1080.0      0.0      nan   \n",
      "442055  ...     0  560114    107.0  2900.0   1080.0      0.0      nan   \n",
      "442056  ...     0  560114   8284.0     nan      nan      nan      nan   \n",
      "442057  ...     0  560114   8284.0     nan      nan      nan      nan   \n",
      "\n",
      "       DEATH_TM SER_TR VINA_MOD  \n",
      "0           448    ***      CII  \n",
      "1           145    SIE      SC1  \n",
      "2          9999    ***      CHS  \n",
      "3             0    ***      CHS  \n",
      "4             0    ***      CVI  \n",
      "...         ...    ...      ...  \n",
      "442053        0    ***      SPO  \n",
      "442054     2315    ***      SPO  \n",
      "442055        0    ***      SPO  \n",
      "442056        0    CON      FLC  \n",
      "442057        0    CON      FLC  \n",
      "\n",
      "[2537701 rows x 52 columns]\n"
     ]
    }
   ],
   "source": [
    "print(result_1)"
   ]
  },
  {
   "cell_type": "code",
   "execution_count": 141,
   "metadata": {},
   "outputs": [],
   "source": [
    "result_1.to_csv(\"/Users/wzhang/Documents/test.csv\")"
   ]
  },
  {
   "cell_type": "code",
   "execution_count": null,
   "metadata": {},
   "outputs": [],
   "source": []
  },
  {
   "cell_type": "code",
   "execution_count": null,
   "metadata": {},
   "outputs": [],
   "source": []
  },
  {
   "cell_type": "code",
   "execution_count": null,
   "metadata": {},
   "outputs": [],
   "source": []
  }
 ],
 "metadata": {
  "kernelspec": {
   "display_name": "Python 3",
   "language": "python",
   "name": "python3"
  },
  "language_info": {
   "codemirror_mode": {
    "name": "ipython",
    "version": 3
   },
   "file_extension": ".py",
   "mimetype": "text/x-python",
   "name": "python",
   "nbconvert_exporter": "python",
   "pygments_lexer": "ipython3",
   "version": "3.9.13"
  }
 },
 "nbformat": 4,
 "nbformat_minor": 2
}
